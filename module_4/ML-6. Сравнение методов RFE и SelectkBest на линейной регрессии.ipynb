{
 "cells": [
  {
   "cell_type": "markdown",
   "id": "308a48f1",
   "metadata": {},
   "source": [
    "# Постановка задачи"
   ]
  },
  {
   "cell_type": "markdown",
   "id": "f80b91b9",
   "metadata": {},
   "source": [
    "Обучите модель линейной регрессии на найденных двумя способами трёх важных признаках и сравните полученные результаты. "
   ]
  },
  {
   "cell_type": "markdown",
   "id": "0c03159f",
   "metadata": {},
   "source": [
    "### Загрузка исходных данных и библиотек"
   ]
  },
  {
   "cell_type": "code",
   "execution_count": 140,
   "id": "d1377869",
   "metadata": {},
   "outputs": [],
   "source": [
    "import pandas as pd\n",
    "\n",
    "from sklearn.model_selection import train_test_split\n",
    "from sklearn.linear_model import LinearRegression\n",
    "from sklearn.metrics import mean_absolute_error"
   ]
  },
  {
   "cell_type": "code",
   "execution_count": 141,
   "id": "ab9aae6b",
   "metadata": {},
   "outputs": [],
   "source": [
    "# %%capture\n",
    "# !wget https://www.dropbox.com/s/64ol9q9ssggz6f1/data_ford_price.xlsx"
   ]
  },
  {
   "cell_type": "code",
   "execution_count": 142,
   "id": "1de3fba5",
   "metadata": {
    "scrolled": true
   },
   "outputs": [
    {
     "data": {
      "text/html": [
       "<div>\n",
       "<style scoped>\n",
       "    .dataframe tbody tr th:only-of-type {\n",
       "        vertical-align: middle;\n",
       "    }\n",
       "\n",
       "    .dataframe tbody tr th {\n",
       "        vertical-align: top;\n",
       "    }\n",
       "\n",
       "    .dataframe thead th {\n",
       "        text-align: right;\n",
       "    }\n",
       "</style>\n",
       "<table border=\"1\" class=\"dataframe\">\n",
       "  <thead>\n",
       "    <tr style=\"text-align: right;\">\n",
       "      <th></th>\n",
       "      <th>price</th>\n",
       "      <th>year</th>\n",
       "      <th>condition</th>\n",
       "      <th>cylinders</th>\n",
       "      <th>odometer</th>\n",
       "      <th>title_status</th>\n",
       "      <th>transmission</th>\n",
       "      <th>drive</th>\n",
       "      <th>size</th>\n",
       "      <th>lat</th>\n",
       "      <th>long</th>\n",
       "      <th>weather</th>\n",
       "    </tr>\n",
       "  </thead>\n",
       "  <tbody>\n",
       "    <tr>\n",
       "      <th>0</th>\n",
       "      <td>43900</td>\n",
       "      <td>2016</td>\n",
       "      <td>4</td>\n",
       "      <td>6</td>\n",
       "      <td>43500</td>\n",
       "      <td>clean</td>\n",
       "      <td>automatic</td>\n",
       "      <td>4wd</td>\n",
       "      <td>full-size</td>\n",
       "      <td>36.471500</td>\n",
       "      <td>-82.483400</td>\n",
       "      <td>59.0</td>\n",
       "    </tr>\n",
       "    <tr>\n",
       "      <th>1</th>\n",
       "      <td>15490</td>\n",
       "      <td>2009</td>\n",
       "      <td>2</td>\n",
       "      <td>8</td>\n",
       "      <td>98131</td>\n",
       "      <td>clean</td>\n",
       "      <td>automatic</td>\n",
       "      <td>4wd</td>\n",
       "      <td>full-size</td>\n",
       "      <td>40.468826</td>\n",
       "      <td>-74.281734</td>\n",
       "      <td>52.0</td>\n",
       "    </tr>\n",
       "    <tr>\n",
       "      <th>2</th>\n",
       "      <td>2495</td>\n",
       "      <td>2002</td>\n",
       "      <td>2</td>\n",
       "      <td>8</td>\n",
       "      <td>201803</td>\n",
       "      <td>clean</td>\n",
       "      <td>automatic</td>\n",
       "      <td>4wd</td>\n",
       "      <td>full-size</td>\n",
       "      <td>42.477134</td>\n",
       "      <td>-82.949564</td>\n",
       "      <td>45.0</td>\n",
       "    </tr>\n",
       "  </tbody>\n",
       "</table>\n",
       "</div>"
      ],
      "text/plain": [
       "   price  year  condition  cylinders  odometer title_status transmission  \\\n",
       "0  43900  2016          4          6     43500        clean    automatic   \n",
       "1  15490  2009          2          8     98131        clean    automatic   \n",
       "2   2495  2002          2          8    201803        clean    automatic   \n",
       "\n",
       "  drive       size        lat       long  weather  \n",
       "0   4wd  full-size  36.471500 -82.483400     59.0  \n",
       "1   4wd  full-size  40.468826 -74.281734     52.0  \n",
       "2   4wd  full-size  42.477134 -82.949564     45.0  "
      ]
     },
     "execution_count": 142,
     "metadata": {},
     "output_type": "execute_result"
    }
   ],
   "source": [
    "data = pd.read_excel('data/data_ford_price.xlsx')\n",
    "data.head(3)"
   ]
  },
  {
   "cell_type": "markdown",
   "id": "5aaaa1c0",
   "metadata": {},
   "source": [
    "### Обучение линейной регрессии на данных всего датасета (проводится для сравнения с последующими результатами)"
   ]
  },
  {
   "cell_type": "code",
   "execution_count": 143,
   "id": "bb18a146",
   "metadata": {},
   "outputs": [],
   "source": [
    "# Выделяем из датасета слолбцы с числовыми данными\n",
    "data = data[['price', 'year', \n",
    "             'condition', \n",
    "             'cylinders', 'odometer', 'lat', 'long', 'weather']]\n",
    "# избавляемся от пропусков\n",
    "data.dropna(inplace = True)\n",
    "# выделяем целевую переменную \n",
    "y = data['price']\n",
    "# поскольку в задании указано, что нужно провести ТОЛЬКО отбор признаков (без предварительной обработки), \n",
    "# формируем матрицу наблюдений только из числовых признаков\n",
    "x = data.drop(columns='price')\n",
    "# формируем обучаемую и тестовую выбоки в соотношении 70/30 и задаваем параметр random_state, равный 40.\n",
    "X_train, X_test, y_train, y_test = train_test_split(x, y, test_size=0.3, random_state=40)"
   ]
  },
  {
   "cell_type": "markdown",
   "id": "18b3bb13",
   "metadata": {},
   "source": [
    "Обучаем модель, делаем предсказание и вычисляем метрики, оценивая базовое качество модели "
   ]
  },
  {
   "cell_type": "code",
   "execution_count": 144,
   "id": "eade8eaa",
   "metadata": {},
   "outputs": [
    {
     "name": "stdout",
     "output_type": "stream",
     "text": [
      "Test R^2: 0.619\n"
     ]
    }
   ],
   "source": [
    "model = LinearRegression()\n",
    "model.fit(X_train, y_train)\n",
    "y_predicted = model.predict(X_test)\n",
    " \n",
    "r2 = metrics.r2_score(y_test, y_predicted)\n",
    "print('Test R^2: %.3f' % r2)"
   ]
  },
  {
   "cell_type": "markdown",
   "id": "9591cf76",
   "metadata": {},
   "source": [
    "### Выбор метрики для сравнения качества моделей"
   ]
  },
  {
   "cell_type": "markdown",
   "id": "d6842384",
   "metadata": {},
   "source": [
    "Для сравнения моделей в качестве метрики выбираем коэффициент детерминации (R^2), поскольку он позволяет сравнивать модели обученные на разных признаках"
   ]
  },
  {
   "cell_type": "markdown",
   "id": "40e8b645",
   "metadata": {},
   "source": [
    "### Отбор важных признаков методом RFE"
   ]
  },
  {
   "cell_type": "markdown",
   "id": "ad0a17ba",
   "metadata": {},
   "source": [
    "Выделяем три наиболее важных признака эти методом"
   ]
  },
  {
   "cell_type": "code",
   "execution_count": 145,
   "id": "3e5b2d45",
   "metadata": {},
   "outputs": [
    {
     "data": {
      "text/plain": [
       "array(['year', 'condition', 'cylinders'], dtype=object)"
      ]
     },
     "execution_count": 145,
     "metadata": {},
     "output_type": "execute_result"
    }
   ],
   "source": [
    "from sklearn.feature_selection import RFE\n",
    " \n",
    "estimator = LinearRegression()\n",
    "selector = RFE(estimator, n_features_to_select=3, step=1)\n",
    "selector = selector.fit(X_train, y_train)\n",
    " \n",
    "selector.get_feature_names_out()"
   ]
  },
  {
   "cell_type": "markdown",
   "id": "c3803195",
   "metadata": {},
   "source": [
    "### Отбор важных признаков методом SelectKBest"
   ]
  },
  {
   "cell_type": "markdown",
   "id": "81d495b5",
   "metadata": {},
   "source": [
    "Выделяем три наиболее важных признака другим методом, SelectKBest"
   ]
  },
  {
   "cell_type": "code",
   "execution_count": 146,
   "id": "b9143d7c",
   "metadata": {},
   "outputs": [
    {
     "data": {
      "text/plain": [
       "array(['year', 'condition', 'odometer'], dtype=object)"
      ]
     },
     "execution_count": 146,
     "metadata": {},
     "output_type": "execute_result"
    }
   ],
   "source": [
    "from sklearn.feature_selection import SelectKBest, f_regression\n",
    "selector = SelectKBest(f_regression, k=3)\n",
    "\n",
    "# from sklearn.feature_selection import SelectKBest, f_classif\n",
    "# selector = SelectKBest(f_classif, k=3)\n",
    "selector.fit(X_train, y_train)\n",
    " \n",
    "selector.get_feature_names_out()"
   ]
  },
  {
   "cell_type": "markdown",
   "id": "e3ac8d0b",
   "metadata": {},
   "source": [
    " ### Моделирование, обучение модели и оценка ее качества на признаках, полученных RFE"
   ]
  },
  {
   "cell_type": "markdown",
   "id": "23cbfa64",
   "metadata": {},
   "source": [
    "Формируем матрицу наблюдений из выделенных наиболее важных признаков "
   ]
  },
  {
   "cell_type": "code",
   "execution_count": 147,
   "id": "15f6ec76",
   "metadata": {},
   "outputs": [
    {
     "data": {
      "text/html": [
       "<div>\n",
       "<style scoped>\n",
       "    .dataframe tbody tr th:only-of-type {\n",
       "        vertical-align: middle;\n",
       "    }\n",
       "\n",
       "    .dataframe tbody tr th {\n",
       "        vertical-align: top;\n",
       "    }\n",
       "\n",
       "    .dataframe thead th {\n",
       "        text-align: right;\n",
       "    }\n",
       "</style>\n",
       "<table border=\"1\" class=\"dataframe\">\n",
       "  <thead>\n",
       "    <tr style=\"text-align: right;\">\n",
       "      <th></th>\n",
       "      <th>year</th>\n",
       "      <th>condition</th>\n",
       "      <th>cylinders</th>\n",
       "    </tr>\n",
       "  </thead>\n",
       "  <tbody>\n",
       "    <tr>\n",
       "      <th>0</th>\n",
       "      <td>2016</td>\n",
       "      <td>4</td>\n",
       "      <td>6</td>\n",
       "    </tr>\n",
       "    <tr>\n",
       "      <th>1</th>\n",
       "      <td>2009</td>\n",
       "      <td>2</td>\n",
       "      <td>8</td>\n",
       "    </tr>\n",
       "    <tr>\n",
       "      <th>2</th>\n",
       "      <td>2002</td>\n",
       "      <td>2</td>\n",
       "      <td>8</td>\n",
       "    </tr>\n",
       "  </tbody>\n",
       "</table>\n",
       "</div>"
      ],
      "text/plain": [
       "   year  condition  cylinders\n",
       "0  2016          4          6\n",
       "1  2009          2          8\n",
       "2  2002          2          8"
      ]
     },
     "execution_count": 147,
     "metadata": {},
     "output_type": "execute_result"
    }
   ],
   "source": [
    "x = data.drop(columns = ['price', 'odometer', 'lat', 'long', 'weather'])\n",
    "x.head(3)"
   ]
  },
  {
   "cell_type": "code",
   "execution_count": 148,
   "id": "ba30283c",
   "metadata": {},
   "outputs": [],
   "source": [
    "# Формируем обучаемую и тестовую выборки \n",
    "X_train, X_test, y_train, y_test = train_test_split(x, y, test_size=0.3, random_state=40)"
   ]
  },
  {
   "cell_type": "markdown",
   "id": "6ca27cb1",
   "metadata": {},
   "source": [
    "Обучаем модель на признаках, выделенных RFE, делаем предсказание и вычисляем метрики для оценки качества модели"
   ]
  },
  {
   "cell_type": "code",
   "execution_count": 149,
   "id": "8c5547bd",
   "metadata": {},
   "outputs": [
    {
     "name": "stdout",
     "output_type": "stream",
     "text": [
      "Test R^2: 0.589\n"
     ]
    }
   ],
   "source": [
    "from sklearn import metrics #метрики\n",
    "model = LinearRegression()\n",
    "model.fit(X_train, y_train)\n",
    "y_train_pred = model.predict(X_train)\n",
    "y_predicted = model.predict(X_test)\n",
    " \n",
    "r2 = metrics.r2_score(y_test, y_predicted)\n",
    "print('Test R^2: %.3f' % r2)"
   ]
  },
  {
   "cell_type": "markdown",
   "id": "b6e32112",
   "metadata": {},
   "source": [
    "### Моделирование, обучение модели и оценка ее качества на признаках, полученных SelectKBest"
   ]
  },
  {
   "cell_type": "markdown",
   "id": "1fddcd7a",
   "metadata": {},
   "source": [
    "Формируем матрицу наблюдений на основе выборки SelectKBest"
   ]
  },
  {
   "cell_type": "code",
   "execution_count": 150,
   "id": "12e39063",
   "metadata": {},
   "outputs": [
    {
     "data": {
      "text/html": [
       "<div>\n",
       "<style scoped>\n",
       "    .dataframe tbody tr th:only-of-type {\n",
       "        vertical-align: middle;\n",
       "    }\n",
       "\n",
       "    .dataframe tbody tr th {\n",
       "        vertical-align: top;\n",
       "    }\n",
       "\n",
       "    .dataframe thead th {\n",
       "        text-align: right;\n",
       "    }\n",
       "</style>\n",
       "<table border=\"1\" class=\"dataframe\">\n",
       "  <thead>\n",
       "    <tr style=\"text-align: right;\">\n",
       "      <th></th>\n",
       "      <th>year</th>\n",
       "      <th>condition</th>\n",
       "      <th>odometer</th>\n",
       "    </tr>\n",
       "  </thead>\n",
       "  <tbody>\n",
       "    <tr>\n",
       "      <th>0</th>\n",
       "      <td>2016</td>\n",
       "      <td>4</td>\n",
       "      <td>43500</td>\n",
       "    </tr>\n",
       "    <tr>\n",
       "      <th>1</th>\n",
       "      <td>2009</td>\n",
       "      <td>2</td>\n",
       "      <td>98131</td>\n",
       "    </tr>\n",
       "    <tr>\n",
       "      <th>2</th>\n",
       "      <td>2002</td>\n",
       "      <td>2</td>\n",
       "      <td>201803</td>\n",
       "    </tr>\n",
       "  </tbody>\n",
       "</table>\n",
       "</div>"
      ],
      "text/plain": [
       "   year  condition  odometer\n",
       "0  2016          4     43500\n",
       "1  2009          2     98131\n",
       "2  2002          2    201803"
      ]
     },
     "execution_count": 150,
     "metadata": {},
     "output_type": "execute_result"
    }
   ],
   "source": [
    "# Формируем обучаемую и тестовую выборки \n",
    "x = data.drop(columns = ['price', 'cylinders', 'lat', 'long', 'weather'])\n",
    "x.head(3)"
   ]
  },
  {
   "cell_type": "code",
   "execution_count": 151,
   "id": "26e3fb0c",
   "metadata": {},
   "outputs": [],
   "source": [
    "# Формируем обучаемую и тестовую выборки \n",
    "X_train, X_test, y_train, y_test = train_test_split(x, y, test_size=0.3, random_state=40)"
   ]
  },
  {
   "cell_type": "markdown",
   "id": "97a71b8d",
   "metadata": {},
   "source": [
    "Обучаем модель на признаках, выделенных SelectKBest, делаем предсказание и вычисляем метрики для оценки качества модели"
   ]
  },
  {
   "cell_type": "code",
   "execution_count": 152,
   "id": "9a928b4b",
   "metadata": {},
   "outputs": [
    {
     "name": "stdout",
     "output_type": "stream",
     "text": [
      "Test R^2: 0.598\n"
     ]
    }
   ],
   "source": [
    "from sklearn import metrics #метрики\n",
    "model = LinearRegression()\n",
    "model.fit(X_train, y_train)\n",
    "y_train_pred = model.predict(X_train)\n",
    "y_predicted = model.predict(X_test)\n",
    "\n",
    "r2 = metrics.r2_score(y_test, y_predicted)\n",
    "print('Test R^2: %.3f' % r2)"
   ]
  },
  {
   "cell_type": "markdown",
   "id": "5c261b64",
   "metadata": {},
   "source": [
    "**Вывод:** Обе модели показали удовлетворительные результаты (метрика R^2 у обеих выше 0.5), но **модель на признаках, отобранных методом SelectKBest, показала несколько лучшие результаты.**"
   ]
  },
  {
   "cell_type": "code",
   "execution_count": null,
   "id": "64656a66",
   "metadata": {},
   "outputs": [],
   "source": []
  }
 ],
 "metadata": {
  "kernelspec": {
   "display_name": "Python 3 (ipykernel)",
   "language": "python",
   "name": "python3"
  },
  "language_info": {
   "codemirror_mode": {
    "name": "ipython",
    "version": 3
   },
   "file_extension": ".py",
   "mimetype": "text/x-python",
   "name": "python",
   "nbconvert_exporter": "python",
   "pygments_lexer": "ipython3",
   "version": "3.9.12"
  }
 },
 "nbformat": 4,
 "nbformat_minor": 5
}
