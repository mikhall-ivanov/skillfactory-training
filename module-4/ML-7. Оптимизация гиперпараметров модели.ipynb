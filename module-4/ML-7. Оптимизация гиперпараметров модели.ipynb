{
 "cells": [
  {
   "cell_type": "markdown",
   "id": "105aa41c",
   "metadata": {},
   "source": [
    "### Постановка задачи"
   ]
  },
  {
   "cell_type": "markdown",
   "id": "3c098492",
   "metadata": {},
   "source": [
    "Необходимо предсказать биологический ответ молекул (столбец 'Activity') по их химическому составу (столбцы D1-D1776).\n",
    "\n",
    "Данные представлены в формате CSV. Каждая строка представляет молекулу.\n",
    "\n",
    "Первый столбец Activity содержит экспериментальные данные, описывающие фактический биологический ответ [0, 1];\n",
    "Остальные столбцы D1-D1776 представляют собой молекулярные дескрипторы — это вычисляемые свойства, которые могут фиксировать некоторые характеристики молекулы, например размер, форму или состав элементов.\n",
    "Предварительная обработка не требуется, данные уже закодированы и нормализованы.\n",
    "\n",
    "В качестве метрики будем использовать F1-score.\n",
    "\n",
    "Необходимо обучить две модели: логистическую регрессию и случайный лес. Далее нужно сделать подбор гиперпараметров с помощью базовых и продвинутых методов оптимизации. Важно использовать все четыре метода (GridSeachCV, RandomizedSearchCV, Hyperopt, Optuna) хотя бы по разу, максимальное количество итераций не должно превышать 50."
   ]
  },
  {
   "cell_type": "code",
   "execution_count": 1,
   "id": "673b4323",
   "metadata": {},
   "outputs": [],
   "source": [
    "#импорт библиотек\n",
    "import numpy as np #для матричных вычислений\n",
    "import pandas as pd #для анализа и предобработки данных\n",
    "import matplotlib.pyplot as plt #для визуализации\n",
    "import seaborn as sns #для визуализации\n",
    "\n",
    "import warnings\n",
    "warnings.filterwarnings(\"ignore\")\n",
    "\n",
    "from sklearn import linear_model #линейные модели\n",
    "from sklearn import tree #деревья решений\n",
    "from sklearn import ensemble #ансамбли\n",
    "from sklearn import metrics #метрики\n",
    "from sklearn import preprocessing #предобработка\n",
    "from sklearn.model_selection import train_test_split #сплитование выборки\n",
    "from sklearn.model_selection import cross_val_score #Кросс валидация\n",
    "\n",
    "# Импорт оптимизаторов параметров\n",
    "from sklearn.model_selection import GridSearchCV\n",
    "from sklearn.model_selection import RandomizedSearchCV\n",
    "\n",
    "import hyperopt\n",
    "from hyperopt import hp, fmin, tpe, Trials\n",
    "\n",
    "import optuna\n",
    "\n",
    "%matplotlib inline\n",
    "plt.style.use('seaborn')"
   ]
  },
  {
   "cell_type": "code",
   "execution_count": 2,
   "id": "9f1b59be",
   "metadata": {},
   "outputs": [
    {
     "data": {
      "text/html": [
       "<div>\n",
       "<style scoped>\n",
       "    .dataframe tbody tr th:only-of-type {\n",
       "        vertical-align: middle;\n",
       "    }\n",
       "\n",
       "    .dataframe tbody tr th {\n",
       "        vertical-align: top;\n",
       "    }\n",
       "\n",
       "    .dataframe thead th {\n",
       "        text-align: right;\n",
       "    }\n",
       "</style>\n",
       "<table border=\"1\" class=\"dataframe\">\n",
       "  <thead>\n",
       "    <tr style=\"text-align: right;\">\n",
       "      <th></th>\n",
       "      <th>Activity</th>\n",
       "      <th>D1</th>\n",
       "      <th>D2</th>\n",
       "      <th>D3</th>\n",
       "      <th>D4</th>\n",
       "      <th>D5</th>\n",
       "      <th>D6</th>\n",
       "      <th>D7</th>\n",
       "      <th>D8</th>\n",
       "      <th>D9</th>\n",
       "      <th>...</th>\n",
       "      <th>D1767</th>\n",
       "      <th>D1768</th>\n",
       "      <th>D1769</th>\n",
       "      <th>D1770</th>\n",
       "      <th>D1771</th>\n",
       "      <th>D1772</th>\n",
       "      <th>D1773</th>\n",
       "      <th>D1774</th>\n",
       "      <th>D1775</th>\n",
       "      <th>D1776</th>\n",
       "    </tr>\n",
       "  </thead>\n",
       "  <tbody>\n",
       "    <tr>\n",
       "      <th>0</th>\n",
       "      <td>1</td>\n",
       "      <td>0.000000</td>\n",
       "      <td>0.497009</td>\n",
       "      <td>0.10</td>\n",
       "      <td>0.0</td>\n",
       "      <td>0.132956</td>\n",
       "      <td>0.678031</td>\n",
       "      <td>0.273166</td>\n",
       "      <td>0.585445</td>\n",
       "      <td>0.743663</td>\n",
       "      <td>...</td>\n",
       "      <td>0</td>\n",
       "      <td>0</td>\n",
       "      <td>0</td>\n",
       "      <td>0</td>\n",
       "      <td>0</td>\n",
       "      <td>0</td>\n",
       "      <td>0</td>\n",
       "      <td>0</td>\n",
       "      <td>0</td>\n",
       "      <td>0</td>\n",
       "    </tr>\n",
       "    <tr>\n",
       "      <th>1</th>\n",
       "      <td>1</td>\n",
       "      <td>0.366667</td>\n",
       "      <td>0.606291</td>\n",
       "      <td>0.05</td>\n",
       "      <td>0.0</td>\n",
       "      <td>0.111209</td>\n",
       "      <td>0.803455</td>\n",
       "      <td>0.106105</td>\n",
       "      <td>0.411754</td>\n",
       "      <td>0.836582</td>\n",
       "      <td>...</td>\n",
       "      <td>1</td>\n",
       "      <td>1</td>\n",
       "      <td>1</td>\n",
       "      <td>1</td>\n",
       "      <td>0</td>\n",
       "      <td>1</td>\n",
       "      <td>0</td>\n",
       "      <td>0</td>\n",
       "      <td>1</td>\n",
       "      <td>0</td>\n",
       "    </tr>\n",
       "    <tr>\n",
       "      <th>2</th>\n",
       "      <td>1</td>\n",
       "      <td>0.033300</td>\n",
       "      <td>0.480124</td>\n",
       "      <td>0.00</td>\n",
       "      <td>0.0</td>\n",
       "      <td>0.209791</td>\n",
       "      <td>0.610350</td>\n",
       "      <td>0.356453</td>\n",
       "      <td>0.517720</td>\n",
       "      <td>0.679051</td>\n",
       "      <td>...</td>\n",
       "      <td>0</td>\n",
       "      <td>0</td>\n",
       "      <td>0</td>\n",
       "      <td>0</td>\n",
       "      <td>0</td>\n",
       "      <td>0</td>\n",
       "      <td>0</td>\n",
       "      <td>0</td>\n",
       "      <td>0</td>\n",
       "      <td>0</td>\n",
       "    </tr>\n",
       "    <tr>\n",
       "      <th>3</th>\n",
       "      <td>1</td>\n",
       "      <td>0.000000</td>\n",
       "      <td>0.538825</td>\n",
       "      <td>0.00</td>\n",
       "      <td>0.5</td>\n",
       "      <td>0.196344</td>\n",
       "      <td>0.724230</td>\n",
       "      <td>0.235606</td>\n",
       "      <td>0.288764</td>\n",
       "      <td>0.805110</td>\n",
       "      <td>...</td>\n",
       "      <td>0</td>\n",
       "      <td>0</td>\n",
       "      <td>0</td>\n",
       "      <td>0</td>\n",
       "      <td>0</td>\n",
       "      <td>0</td>\n",
       "      <td>0</td>\n",
       "      <td>0</td>\n",
       "      <td>0</td>\n",
       "      <td>0</td>\n",
       "    </tr>\n",
       "    <tr>\n",
       "      <th>4</th>\n",
       "      <td>0</td>\n",
       "      <td>0.100000</td>\n",
       "      <td>0.517794</td>\n",
       "      <td>0.00</td>\n",
       "      <td>0.0</td>\n",
       "      <td>0.494734</td>\n",
       "      <td>0.781422</td>\n",
       "      <td>0.154361</td>\n",
       "      <td>0.303809</td>\n",
       "      <td>0.812646</td>\n",
       "      <td>...</td>\n",
       "      <td>0</td>\n",
       "      <td>0</td>\n",
       "      <td>0</td>\n",
       "      <td>0</td>\n",
       "      <td>0</td>\n",
       "      <td>0</td>\n",
       "      <td>0</td>\n",
       "      <td>0</td>\n",
       "      <td>0</td>\n",
       "      <td>0</td>\n",
       "    </tr>\n",
       "  </tbody>\n",
       "</table>\n",
       "<p>5 rows × 1777 columns</p>\n",
       "</div>"
      ],
      "text/plain": [
       "   Activity        D1        D2    D3   D4        D5        D6        D7  \\\n",
       "0         1  0.000000  0.497009  0.10  0.0  0.132956  0.678031  0.273166   \n",
       "1         1  0.366667  0.606291  0.05  0.0  0.111209  0.803455  0.106105   \n",
       "2         1  0.033300  0.480124  0.00  0.0  0.209791  0.610350  0.356453   \n",
       "3         1  0.000000  0.538825  0.00  0.5  0.196344  0.724230  0.235606   \n",
       "4         0  0.100000  0.517794  0.00  0.0  0.494734  0.781422  0.154361   \n",
       "\n",
       "         D8        D9  ...  D1767  D1768  D1769  D1770  D1771  D1772  D1773  \\\n",
       "0  0.585445  0.743663  ...      0      0      0      0      0      0      0   \n",
       "1  0.411754  0.836582  ...      1      1      1      1      0      1      0   \n",
       "2  0.517720  0.679051  ...      0      0      0      0      0      0      0   \n",
       "3  0.288764  0.805110  ...      0      0      0      0      0      0      0   \n",
       "4  0.303809  0.812646  ...      0      0      0      0      0      0      0   \n",
       "\n",
       "   D1774  D1775  D1776  \n",
       "0      0      0      0  \n",
       "1      0      1      0  \n",
       "2      0      0      0  \n",
       "3      0      0      0  \n",
       "4      0      0      0  \n",
       "\n",
       "[5 rows x 1777 columns]"
      ]
     },
     "execution_count": 2,
     "metadata": {},
     "output_type": "execute_result"
    }
   ],
   "source": [
    "data = pd.read_csv('data/_train_sem09.csv')\n",
    "data.head()"
   ]
  },
  {
   "cell_type": "code",
   "execution_count": 3,
   "id": "5685d78c",
   "metadata": {},
   "outputs": [],
   "source": [
    "X = data.drop(['Activity'], axis=1)\n",
    "y = data['Activity']"
   ]
  },
  {
   "cell_type": "code",
   "execution_count": 4,
   "id": "e0363220",
   "metadata": {},
   "outputs": [],
   "source": [
    "X_train, X_test, y_train, y_test = train_test_split(X, y, random_state = 42, test_size = 0.3)"
   ]
  },
  {
   "cell_type": "markdown",
   "id": "edc64d41",
   "metadata": {},
   "source": [
    "# Мое решение"
   ]
  },
  {
   "cell_type": "markdown",
   "id": "9552846d",
   "metadata": {},
   "source": [
    "Сначала получим значения меток F1-score для логистической регресии и случайного леса без использования методов оптимизации, чтобы иметь в дальнейшем базу для сравнения."
   ]
  },
  {
   "cell_type": "markdown",
   "id": "cf31af26",
   "metadata": {},
   "source": [
    "Для обобщения результатов создаем два словаря logreg и ranfor, в которые будем заносить результаты обучения каждым методом. "
   ]
  },
  {
   "cell_type": "code",
   "execution_count": 5,
   "id": "09422778",
   "metadata": {},
   "outputs": [],
   "source": [
    "logreg = {}     # словарь для методов логистической регрессии\n",
    "ranfor = {}     # словарь для методов случайного леса "
   ]
  },
  {
   "cell_type": "markdown",
   "id": "ea571b43",
   "metadata": {},
   "source": [
    "### Логистическая регрессия (без методов оптимизации)"
   ]
  },
  {
   "cell_type": "code",
   "execution_count": 6,
   "id": "1270aa82",
   "metadata": {},
   "outputs": [
    {
     "name": "stdout",
     "output_type": "stream",
     "text": [
      "f1_score на тестовом наборе: 0.78\n"
     ]
    }
   ],
   "source": [
    "#Создаем объект класса логистическая регрессия\n",
    "log_reg = linear_model.LogisticRegression(random_state=42, max_iter = 50)\n",
    "#Обучаем модель\n",
    "log_reg.fit(X_train, y_train)\n",
    "\n",
    "y_test_pred = log_reg.predict(X_test)\n",
    "print('f1_score на тестовом наборе: {:.2f}'.format(metrics.f1_score(y_test, y_test_pred)))"
   ]
  },
  {
   "cell_type": "code",
   "execution_count": 7,
   "id": "9f10f73b",
   "metadata": {},
   "outputs": [],
   "source": [
    "# Записываем получившееся значение в словарь для дальнейшего сравнения\n",
    "logreg['LogReg_init'] = round(metrics.f1_score(y_test, y_test_pred), 3)"
   ]
  },
  {
   "cell_type": "markdown",
   "id": "72b8d438",
   "metadata": {},
   "source": [
    "### Случайный лес (без методов оптимизации)"
   ]
  },
  {
   "cell_type": "code",
   "execution_count": 8,
   "id": "3327e6ee",
   "metadata": {},
   "outputs": [
    {
     "name": "stdout",
     "output_type": "stream",
     "text": [
      "f1_score на тестовом наборе: 0.82\n"
     ]
    }
   ],
   "source": [
    "#Создаем объект класса случайный лес\n",
    "rf = ensemble.RandomForestClassifier(random_state=42)\n",
    "#Обучаем модель\n",
    "rf.fit(X_train, y_train)\n",
    "\n",
    "y_test_pred = rf.predict(X_test)\n",
    "print('f1_score на тестовом наборе: {:.2f}'.format(metrics.f1_score(y_test, y_test_pred)))"
   ]
  },
  {
   "cell_type": "code",
   "execution_count": 9,
   "id": "f140ae8f",
   "metadata": {},
   "outputs": [],
   "source": [
    "# Записываем получившееся значение в словарь для дальнейшего сравнения\n",
    "ranfor['RanFor_init'] = round(metrics.f1_score(y_test, y_test_pred), 3)"
   ]
  },
  {
   "cell_type": "markdown",
   "id": "e0d4ff66",
   "metadata": {},
   "source": [
    "Далее последовательно используются методы оптимизации"
   ]
  },
  {
   "cell_type": "markdown",
   "id": "5df59020",
   "metadata": {},
   "source": [
    "# Метод GridSeachCV"
   ]
  },
  {
   "cell_type": "markdown",
   "id": "6dd8dba4",
   "metadata": {},
   "source": [
    "### Логистическая регрессия, метод GridSeachCV"
   ]
  },
  {
   "cell_type": "code",
   "execution_count": 10,
   "id": "5243fc69",
   "metadata": {},
   "outputs": [
    {
     "name": "stdout",
     "output_type": "stream",
     "text": [
      "Wall time: 9min 1s\n",
      "f1_score на тестовом наборе: 0.79\n",
      "Наилучшие значения гиперпараметров: {'C': 0.1, 'penalty': 'l2', 'solver': 'saga'}\n"
     ]
    }
   ],
   "source": [
    "param_grid = [\n",
    "    {'penalty' : ['l2', 'none'], # тип регуляризации\n",
    "    'solver' : ['newton-cg', 'lbfgs', 'sag'], # алгоритм оптимизации\n",
    "    'C' : [0.01, 0.1, 0.3, 0.5, 0.7, 0.9, 1]}, # уровень силы регурялизации\n",
    "    # другой набор гиперпараметров\n",
    "    {'penalty': ['l1', 'l2'] ,\n",
    "    'solver': ['liblinear', 'saga'],\n",
    "    'C': [0.01, 0.1, 0.3, 0.5, 0.7, 0.9, 1]}\n",
    "]\n",
    "\n",
    "grid_search_LR = GridSearchCV(\n",
    "    estimator = linear_model.LogisticRegression(random_state= 42, max_iter = 50),\n",
    "    param_grid = param_grid,\n",
    "    cv = 5,\n",
    "    n_jobs = -1,\n",
    "    scoring='f1'\n",
    ")\n",
    "%time grid_search_LR.fit(X_train, y_train)\n",
    "\n",
    "y_test_pred = grid_search_LR.predict(X_test)\n",
    "\n",
    "print('f1_score на тестовом наборе: {:.2f}'.format(metrics.f1_score(y_test, y_test_pred)))\n",
    "print(\"Наилучшие значения гиперпараметров: {}\".format(grid_search_LR.best_params_))"
   ]
  },
  {
   "cell_type": "code",
   "execution_count": 11,
   "id": "80ef6f13",
   "metadata": {},
   "outputs": [],
   "source": [
    "# Записываем получившееся значение в словарь для дальнейшего сравнения\n",
    "logreg['LogReg_GridSeach'] = round(metrics.f1_score(y_test, y_test_pred), 3)"
   ]
  },
  {
   "cell_type": "markdown",
   "id": "24ca217e",
   "metadata": {},
   "source": [
    "### Случайный лес, метод GridSeachCV"
   ]
  },
  {
   "cell_type": "code",
   "execution_count": 12,
   "id": "5c1831d0",
   "metadata": {},
   "outputs": [
    {
     "name": "stdout",
     "output_type": "stream",
     "text": [
      "Wall time: 59.4 s\n",
      "f1_score на тестовом наборе: 0.82\n",
      "Наилучшие значения гиперпараметров: {'n_estimators': 110, 'min_samples_leaf': 5, 'max_depth': 40}\n"
     ]
    }
   ],
   "source": [
    "param_distributions = {'n_estimators': list(range(80, 200, 30)),\n",
    "              'min_samples_leaf': list(np.linspace(5, 25, 5, dtype=int)),\n",
    "              'max_depth': list(np.linspace(1, 40, 5, dtype=int))\n",
    "              }\n",
    "            \n",
    "random_search_forest = RandomizedSearchCV(\n",
    "    estimator=ensemble.RandomForestClassifier(random_state=42), \n",
    "    param_distributions=param_distributions, \n",
    "    cv=5,\n",
    "    n_iter = 50, \n",
    "    n_jobs = -1,\n",
    "    scoring = 'f1'\n",
    ")  \n",
    "%time random_search_forest.fit(X_train, y_train) \n",
    "\n",
    "y_test_pred = random_search_forest.predict(X_test)\n",
    "print('f1_score на тестовом наборе: {:.2f}'.format(metrics.f1_score(y_test, y_test_pred)))\n",
    "print(\"Наилучшие значения гиперпараметров: {}\".format(random_search_forest.best_params_))"
   ]
  },
  {
   "cell_type": "code",
   "execution_count": 13,
   "id": "9f3a6710",
   "metadata": {},
   "outputs": [],
   "source": [
    "# Записываем получившееся значение в словарь для дальнейшего сравнения\n",
    "ranfor['RanFor_GridSeach'] = round(metrics.f1_score(y_test, y_test_pred), 3)"
   ]
  },
  {
   "cell_type": "markdown",
   "id": "f543bfb3",
   "metadata": {},
   "source": [
    "# Метод RandomizedSeachCV"
   ]
  },
  {
   "cell_type": "markdown",
   "id": "41ce4c1d",
   "metadata": {},
   "source": [
    "### Логистическая регрессия, метод RandomizedSeachCV"
   ]
  },
  {
   "cell_type": "code",
   "execution_count": 14,
   "id": "e67dff66",
   "metadata": {},
   "outputs": [
    {
     "name": "stdout",
     "output_type": "stream",
     "text": [
      "Wall time: 4min 37s\n",
      "f1_score на тестовом наборе: 0.79\n",
      "Наилучшие значения гиперпараметров: {'solver': 'saga', 'penalty': 'l2', 'C': 0.12}\n"
     ]
    }
   ],
   "source": [
    "param_distributions = [\n",
    "                        {'penalty': ['l2', 'none'] , # тип регуляризации\n",
    "                         'solver' : ['newton-cg', 'lbfgs', 'sag'], # алгоритм оптимизации\n",
    "                          'C': list(np.linspace(0.01, 1, 10, dtype=float))\n",
    "                        },\n",
    "                        {'penalty': ['l1', 'l2'] ,\n",
    "                         'solver': ['liblinear', 'saga'],\n",
    "                          'C': list(np.linspace(0.01, 1, 10, dtype=float))\n",
    "                        }]\n",
    "random_search_LR = RandomizedSearchCV(\n",
    "    estimator=linear_model.LogisticRegression(random_state=42, max_iter= 50), \n",
    "    param_distributions=param_distributions, \n",
    "    cv=5,\n",
    "    n_iter = 20, \n",
    "    n_jobs = -1,\n",
    "    scoring='f1'\n",
    ")  \n",
    "%time random_search_LR.fit(X_train, y_train) \n",
    "\n",
    "y_test_pred = random_search_LR.predict(X_test)\n",
    "print('f1_score на тестовом наборе: {:.2f}'.format(metrics.f1_score(y_test, y_test_pred)))\n",
    "print(\"Наилучшие значения гиперпараметров: {}\".format(random_search_LR.best_params_))"
   ]
  },
  {
   "cell_type": "code",
   "execution_count": 15,
   "id": "d41821f4",
   "metadata": {},
   "outputs": [],
   "source": [
    "# Записываем получившееся значение в словарь для дальнейшего сравнения\n",
    "logreg['LogReg_RandSeach'] = round(metrics.f1_score(y_test, y_test_pred), 3)"
   ]
  },
  {
   "cell_type": "markdown",
   "id": "32a1f314",
   "metadata": {},
   "source": [
    "### Случайный лес, метод RandomizedSeachCV"
   ]
  },
  {
   "cell_type": "code",
   "execution_count": 16,
   "id": "23eec991",
   "metadata": {
    "scrolled": true
   },
   "outputs": [
    {
     "name": "stdout",
     "output_type": "stream",
     "text": [
      "Wall time: 1min 14s\n",
      "f1_score на тестовом наборе: 0.82\n",
      "Наилучшие значения гиперпараметров: {'n_estimators': 170, 'min_samples_leaf': 5, 'max_depth': 30}\n"
     ]
    }
   ],
   "source": [
    "param_distributions = {'n_estimators': list(range(80, 200, 30)),\n",
    "              'min_samples_leaf': list(np.linspace(5, 25, 5, dtype=int)),\n",
    "              'max_depth': list(np.linspace(1, 40, 5, dtype=int))\n",
    "              }\n",
    "            \n",
    "random_search_RF = RandomizedSearchCV(\n",
    "    estimator=ensemble.RandomForestClassifier(random_state=42), \n",
    "    param_distributions=param_distributions, \n",
    "    cv=5,\n",
    "    n_iter = 50, \n",
    "    n_jobs = -1,\n",
    "    scoring= 'f1'\n",
    ")  \n",
    "%time random_search_RF.fit(X_train, y_train) \n",
    "\n",
    "y_test_pred = random_search_RF.predict(X_test)\n",
    "print('f1_score на тестовом наборе: {:.2f}'.format(metrics.f1_score(y_test, y_test_pred)))\n",
    "print(\"Наилучшие значения гиперпараметров: {}\".format(random_search_RF.best_params_))"
   ]
  },
  {
   "cell_type": "code",
   "execution_count": 17,
   "id": "b9542df3",
   "metadata": {},
   "outputs": [],
   "source": [
    "# Записываем получившееся значение в словарь для дальнейшего сравнения\n",
    "ranfor['RanFor_RandSeach'] = round(metrics.f1_score(y_test, y_test_pred), 3)"
   ]
  },
  {
   "cell_type": "markdown",
   "id": "2acb8708",
   "metadata": {},
   "source": [
    "# Метод Hyperopt"
   ]
  },
  {
   "cell_type": "code",
   "execution_count": 18,
   "id": "d9ceb7da",
   "metadata": {},
   "outputs": [
    {
     "name": "stdout",
     "output_type": "stream",
     "text": [
      "Версия Hyperopt : 0.2.5\n"
     ]
    }
   ],
   "source": [
    "# Уточняем текущую версию HyperOpt\n",
    "print(\"Версия Hyperopt : {}\".format(hyperopt.__version__))"
   ]
  },
  {
   "cell_type": "markdown",
   "id": "369599ea",
   "metadata": {},
   "source": [
    "### Логистическая регрессия, метод HyperOpt"
   ]
  },
  {
   "cell_type": "code",
   "execution_count": 19,
   "id": "1db8bc34",
   "metadata": {},
   "outputs": [],
   "source": [
    "space ={\n",
    "    'penalty' : hp.choice(label='penalty', options= ['l1', 'l2']), # тип регуляризации\n",
    "    'solver' : hp.choice(label = 'solver', options= ['liblinear', 'saga']), # алгоритм оптимизации\n",
    "    'C' : hp.loguniform(label='C', low=-2*np.log(10), high=2*np.log(10)), # уровень силы регурялизации\n",
    "    'max_iter': hp.choice('max_iter', [50])}"
   ]
  },
  {
   "cell_type": "code",
   "execution_count": 20,
   "id": "f7ef6e42",
   "metadata": {},
   "outputs": [],
   "source": [
    "random_state = 42\n",
    "def hyperopt_logr(params, cv=5, X=X_train, y=y_train, random_state=random_state):\n",
    "    params = {'penalty': params['penalty'],\n",
    "              'solver': params['solver'],\n",
    "              'C': params['C'],\n",
    "              'max_iter': params['max_iter']\n",
    "              }\n",
    "    model_HO = linear_model.LogisticRegression(**params, random_state=random_state)\n",
    "\n",
    "    # обучаем модель\n",
    "    model_HO.fit(X, y)\n",
    "    score = cross_val_score(model_HO, X, y, cv=cv, scoring=\"f1\", n_jobs=-1).mean()\n",
    "\n",
    "\n",
    "    # метрику необходимо минимизировать, поэтому ставим знак минус\n",
    "    return -score"
   ]
  },
  {
   "cell_type": "code",
   "execution_count": 21,
   "id": "115f531e",
   "metadata": {},
   "outputs": [
    {
     "name": "stdout",
     "output_type": "stream",
     "text": [
      "100%|████████████████████████████████████████████████| 50/50 [07:58<00:00,  9.57s/trial, best loss: -0.777617316199278]\n",
      "Наилучшие значения гиперпараметров {'C': 0.7038661632470573, 'max_iter': 0, 'penalty': 0, 'solver': 1}\n",
      "Wall time: 7min 58s\n"
     ]
    }
   ],
   "source": [
    "%%time\n",
    "# начинаем подбор гиперпараметров\n",
    "trials = Trials() # используется для логирования результатов\n",
    "\n",
    "best=fmin(hyperopt_logr, # наша функция \n",
    "          space=space, # пространство гиперпараметров\n",
    "          algo=tpe.suggest, # алгоритм оптимизации, установлен по умолчанию, задавать необязательно\n",
    "          max_evals=50, # максимальное количество итераций\n",
    "          trials=trials, # логирование результатов\n",
    "          # rstate = np.random.default_rng(42) # для версии 0.2.7\n",
    "          rstate=np.random.RandomState(42) # (random_state)# фиксируем для повторяемости результата\n",
    "         )\n",
    "print(\"Наилучшие значения гиперпараметров {}\".format(best))"
   ]
  },
  {
   "cell_type": "markdown",
   "id": "5ed727ca",
   "metadata": {},
   "source": [
    "Поскольку данная версия hyperopt в качестве индексов массива выдает для логистической регрессии только индексы массива, то воспользуемся space_eval, чтобы обращаться к элементам массива напрямую"
   ]
  },
  {
   "cell_type": "code",
   "execution_count": 22,
   "id": "310ffeb9",
   "metadata": {},
   "outputs": [
    {
     "data": {
      "text/plain": [
       "{'C': 0.7038661632470573, 'max_iter': 50, 'penalty': 'l1', 'solver': 'saga'}"
      ]
     },
     "execution_count": 22,
     "metadata": {},
     "output_type": "execute_result"
    }
   ],
   "source": [
    "from hyperopt import space_eval\n",
    "hyperparams = space_eval(space, best)\n",
    "hyperparams"
   ]
  },
  {
   "cell_type": "code",
   "execution_count": 23,
   "id": "51cba0aa",
   "metadata": {},
   "outputs": [
    {
     "name": "stdout",
     "output_type": "stream",
     "text": [
      "f1_score на тестовом наборе: 0.80\n"
     ]
    }
   ],
   "source": [
    "# рассчитаем точность для тестовой выборки\n",
    "model_HO = linear_model.LogisticRegression(\n",
    "    random_state=random_state,\n",
    "    penalty = hyperparams['penalty'],\n",
    "    solver = hyperparams['solver'],\n",
    "    C = hyperparams['C'],\n",
    "    max_iter = hyperparams['max_iter']\n",
    "    )\n",
    "model_HO.fit(X_train, y_train)\n",
    "\n",
    "y_test_pred = model_HO.predict(X_test)\n",
    "print('f1_score на тестовом наборе: {:.2f}'.format(metrics.f1_score(y_test, y_test_pred)))"
   ]
  },
  {
   "cell_type": "code",
   "execution_count": 24,
   "id": "ce017adc",
   "metadata": {},
   "outputs": [],
   "source": [
    "# Записываем получившееся значение в словарь для дальнейшего сравнения\n",
    "logreg['LogReg_HO'] = round(metrics.f1_score(y_test, y_test_pred), 3)"
   ]
  },
  {
   "cell_type": "markdown",
   "id": "a0c3ecee",
   "metadata": {},
   "source": [
    "### Случайный лес, метод HyperOpt"
   ]
  },
  {
   "cell_type": "code",
   "execution_count": 25,
   "id": "c8c0e2b4",
   "metadata": {},
   "outputs": [],
   "source": [
    "# зададим пространство поиска гиперпараметров\n",
    "space={'n_estimators': hp.quniform('n_estimators', 80, 200, 1),\n",
    "       'max_depth' : hp.quniform('max_depth', 1, 30, 1),\n",
    "       'min_samples_leaf': hp.quniform('min_samples_leaf', 5, 25, 1)\n",
    "      }"
   ]
  },
  {
   "cell_type": "code",
   "execution_count": 26,
   "id": "25633cd8",
   "metadata": {},
   "outputs": [],
   "source": [
    "random_state = 42\n",
    "def hyperopt_rf(params, cv=5, X=X_train, y=y_train, random_state=random_state):\n",
    "    \n",
    "    params = {'n_estimators': int(params['n_estimators']), \n",
    "              'max_depth': int(params['max_depth']), \n",
    "             'min_samples_leaf': int(params['min_samples_leaf'])\n",
    "    }\n",
    "    # используем эту комбинацию для построения модели   \n",
    "    model_HO_RF = ensemble.RandomForestClassifier(**params, random_state=random_state)\n",
    "\n",
    "    # обучаем модель\n",
    "    model_HO_RF.fit(X, y)\n",
    "    score = cross_val_score(model_HO_RF, X, y, cv=cv, scoring=\"f1\", n_jobs=-1).mean()\n",
    "\n",
    "    return -score  "
   ]
  },
  {
   "cell_type": "code",
   "execution_count": 27,
   "id": "a5548f97",
   "metadata": {
    "scrolled": true
   },
   "outputs": [
    {
     "name": "stdout",
     "output_type": "stream",
     "text": [
      "100%|███████████████████████████████████████████████| 50/50 [03:23<00:00,  4.06s/trial, best loss: -0.8005102732363687]\n",
      "Наилучшие значения гиперпараметров {'max_depth': 30.0, 'min_samples_leaf': 5.0, 'n_estimators': 115.0}\n",
      "Wall time: 3min 23s\n"
     ]
    }
   ],
   "source": [
    "%%time\n",
    "# начинаем подбор гиперпараметров\n",
    "trials = Trials() # используется для логирования результатов\n",
    "\n",
    "best=fmin(hyperopt_rf, # наша функция \n",
    "          space=space, # пространство гиперпараметров\n",
    "          algo=tpe.suggest, # алгоритм оптимизации, установлен по умолчанию, задавать необязательно\n",
    "          max_evals=50, # максимальное количество итераций\n",
    "          trials=trials, # логирование результатов\n",
    "          # rstate = np.random.default_rng(42) # для версии 0.2.7\n",
    "          rstate=np.random.RandomState(42) # (random_state)# для версии 0.2.5, фиксируем для повторяемости результата\n",
    "         )\n",
    "print(\"Наилучшие значения гиперпараметров {}\".format(best))"
   ]
  },
  {
   "cell_type": "code",
   "execution_count": 28,
   "id": "957cc153",
   "metadata": {},
   "outputs": [
    {
     "name": "stdout",
     "output_type": "stream",
     "text": [
      "f1_score на тестовом наборе: 0.82\n"
     ]
    }
   ],
   "source": [
    "# рассчитаем точность для тестовой выборки\n",
    "model_HO_RF = ensemble.RandomForestClassifier(\n",
    "    random_state=random_state, \n",
    "    n_estimators=int(best['n_estimators']),\n",
    "    max_depth=int(best['max_depth']),\n",
    "    min_samples_leaf=int(best['min_samples_leaf'])\n",
    ")\n",
    "\n",
    "model_HO_RF.fit(X_train, y_train)\n",
    "\n",
    "y_test_pred = model_HO_RF.predict(X_test)\n",
    "print('f1_score на тестовом наборе: {:.2f}'.format(metrics.f1_score(y_test, y_test_pred)))"
   ]
  },
  {
   "cell_type": "code",
   "execution_count": 29,
   "id": "82c3e8d8",
   "metadata": {},
   "outputs": [],
   "source": [
    "# Записываем получившееся значение в словарь для дальнейшего сравнения\n",
    "ranfor['RanFor_HO'] = round(metrics.f1_score(y_test, y_test_pred), 3)"
   ]
  },
  {
   "cell_type": "markdown",
   "id": "b62983d4",
   "metadata": {},
   "source": [
    "# Метод Optuna"
   ]
  },
  {
   "cell_type": "code",
   "execution_count": 30,
   "id": "5f460298",
   "metadata": {},
   "outputs": [
    {
     "name": "stdout",
     "output_type": "stream",
     "text": [
      "Версия Optuna: 3.0.2\n"
     ]
    }
   ],
   "source": [
    "print(\"Версия Optuna: {}\".format(optuna.__version__))"
   ]
  },
  {
   "cell_type": "markdown",
   "id": "c3e8de5f",
   "metadata": {},
   "source": [
    "### Логистическая регрессия, метод Optuna "
   ]
  },
  {
   "cell_type": "code",
   "execution_count": 31,
   "id": "ed975edf",
   "metadata": {},
   "outputs": [],
   "source": [
    "random_state=42\n",
    "def optuna_lr(trial):\n",
    "    penalty = trial.suggest_categorical('penalty', ['l1', 'l2'])\n",
    "    solver = trial.suggest_categorical('solver', ['liblinear', 'saga'])\n",
    "    C = trial.suggest_float(name='C', low=0.01, high=1.01, step = 0.05)\n",
    "   \n",
    "    ## Создаем модель\n",
    "    model_Op_LR = linear_model.LogisticRegression(\n",
    "                                    penalty=penalty,\n",
    "                                    solver=solver,\n",
    "                                    C=C,\n",
    "                                    random_state=random_state\n",
    "                              )\n",
    "    ## Обучаем модель\n",
    "    model_Op_LR.fit(X_train, y_train)\n",
    "    score = cross_val_score(model_Op_LR, X_train, y_train, cv=5, scoring=\"f1\", n_jobs=-1).mean()\n",
    "    \n",
    "    return score"
   ]
  },
  {
   "cell_type": "code",
   "execution_count": 32,
   "id": "d09dfcf5",
   "metadata": {},
   "outputs": [
    {
     "name": "stderr",
     "output_type": "stream",
     "text": [
      "\u001b[32m[I 2023-02-06 18:23:15,658]\u001b[0m A new study created in memory with name: LogisticRegression\u001b[0m\n",
      "\u001b[32m[I 2023-02-06 18:23:29,762]\u001b[0m Trial 0 finished with value: 0.7743965200263728 and parameters: {'penalty': 'l1', 'solver': 'saga', 'C': 0.11}. Best is trial 0 with value: 0.7743965200263728.\u001b[0m\n",
      "\u001b[32m[I 2023-02-06 18:23:46,204]\u001b[0m Trial 1 finished with value: 0.7774415820631229 and parameters: {'penalty': 'l1', 'solver': 'saga', 'C': 0.6100000000000001}. Best is trial 1 with value: 0.7774415820631229.\u001b[0m\n",
      "\u001b[32m[I 2023-02-06 18:23:57,155]\u001b[0m Trial 2 finished with value: 0.763296420693192 and parameters: {'penalty': 'l2', 'solver': 'saga', 'C': 0.7100000000000001}. Best is trial 1 with value: 0.7774415820631229.\u001b[0m\n",
      "\u001b[32m[I 2023-02-06 18:24:08,317]\u001b[0m Trial 3 finished with value: 0.7644289379954936 and parameters: {'penalty': 'l2', 'solver': 'saga', 'C': 0.41000000000000003}. Best is trial 1 with value: 0.7774415820631229.\u001b[0m\n",
      "\u001b[32m[I 2023-02-06 18:24:19,124]\u001b[0m Trial 4 finished with value: 0.7644472151177506 and parameters: {'penalty': 'l2', 'solver': 'saga', 'C': 0.91}. Best is trial 1 with value: 0.7774415820631229.\u001b[0m\n",
      "\u001b[32m[I 2023-02-06 18:24:30,535]\u001b[0m Trial 5 finished with value: 0.7751916744539226 and parameters: {'penalty': 'l2', 'solver': 'saga', 'C': 0.16000000000000003}. Best is trial 1 with value: 0.7774415820631229.\u001b[0m\n",
      "\u001b[32m[I 2023-02-06 18:24:32,538]\u001b[0m Trial 6 finished with value: 0.7625061997233952 and parameters: {'penalty': 'l2', 'solver': 'liblinear', 'C': 0.56}. Best is trial 1 with value: 0.7774415820631229.\u001b[0m\n",
      "\u001b[32m[I 2023-02-06 18:24:34,404]\u001b[0m Trial 7 finished with value: 0.7755413725467388 and parameters: {'penalty': 'l1', 'solver': 'liblinear', 'C': 0.7100000000000001}. Best is trial 1 with value: 0.7774415820631229.\u001b[0m\n",
      "\u001b[32m[I 2023-02-06 18:24:37,023]\u001b[0m Trial 8 finished with value: 0.772437858870374 and parameters: {'penalty': 'l1', 'solver': 'liblinear', 'C': 0.9600000000000001}. Best is trial 1 with value: 0.7774415820631229.\u001b[0m\n",
      "\u001b[32m[I 2023-02-06 18:24:52,718]\u001b[0m Trial 9 finished with value: 0.7752834722812747 and parameters: {'penalty': 'l1', 'solver': 'saga', 'C': 0.26}. Best is trial 1 with value: 0.7774415820631229.\u001b[0m\n",
      "\u001b[32m[I 2023-02-06 18:24:54,157]\u001b[0m Trial 10 finished with value: 0.7774671619382254 and parameters: {'penalty': 'l1', 'solver': 'liblinear', 'C': 0.41000000000000003}. Best is trial 10 with value: 0.7774671619382254.\u001b[0m\n",
      "\u001b[32m[I 2023-02-06 18:24:55,708]\u001b[0m Trial 11 finished with value: 0.7774671619382254 and parameters: {'penalty': 'l1', 'solver': 'liblinear', 'C': 0.41000000000000003}. Best is trial 10 with value: 0.7774671619382254.\u001b[0m\n",
      "\u001b[32m[I 2023-02-06 18:24:57,082]\u001b[0m Trial 12 finished with value: 0.7774671619382254 and parameters: {'penalty': 'l1', 'solver': 'liblinear', 'C': 0.41000000000000003}. Best is trial 10 with value: 0.7774671619382254.\u001b[0m\n",
      "\u001b[32m[I 2023-02-06 18:24:58,651]\u001b[0m Trial 13 finished with value: 0.7758958096727463 and parameters: {'penalty': 'l1', 'solver': 'liblinear', 'C': 0.31000000000000005}. Best is trial 10 with value: 0.7774671619382254.\u001b[0m\n",
      "\u001b[32m[I 2023-02-06 18:24:59,394]\u001b[0m Trial 14 finished with value: 0.74701333922839 and parameters: {'penalty': 'l1', 'solver': 'liblinear', 'C': 0.01}. Best is trial 10 with value: 0.7774671619382254.\u001b[0m\n",
      "\u001b[32m[I 2023-02-06 18:25:01,372]\u001b[0m Trial 15 finished with value: 0.7776142352002984 and parameters: {'penalty': 'l1', 'solver': 'liblinear', 'C': 0.46}. Best is trial 15 with value: 0.7776142352002984.\u001b[0m\n",
      "\u001b[32m[I 2023-02-06 18:25:03,283]\u001b[0m Trial 16 finished with value: 0.7749830912633888 and parameters: {'penalty': 'l1', 'solver': 'liblinear', 'C': 0.76}. Best is trial 15 with value: 0.7776142352002984.\u001b[0m\n",
      "\u001b[32m[I 2023-02-06 18:25:04,933]\u001b[0m Trial 17 finished with value: 0.7773211712643994 and parameters: {'penalty': 'l1', 'solver': 'liblinear', 'C': 0.51}. Best is trial 15 with value: 0.7776142352002984.\u001b[0m\n",
      "\u001b[32m[I 2023-02-06 18:25:06,108]\u001b[0m Trial 18 finished with value: 0.7754745853055905 and parameters: {'penalty': 'l1', 'solver': 'liblinear', 'C': 0.26}. Best is trial 15 with value: 0.7776142352002984.\u001b[0m\n",
      "\u001b[32m[I 2023-02-06 18:25:07,693]\u001b[0m Trial 19 finished with value: 0.7773211712643994 and parameters: {'penalty': 'l1', 'solver': 'liblinear', 'C': 0.51}. Best is trial 15 with value: 0.7776142352002984.\u001b[0m\n",
      "\u001b[32m[I 2023-02-06 18:25:09,146]\u001b[0m Trial 20 finished with value: 0.7769976860889901 and parameters: {'penalty': 'l1', 'solver': 'liblinear', 'C': 0.36000000000000004}. Best is trial 15 with value: 0.7776142352002984.\u001b[0m\n",
      "\u001b[32m[I 2023-02-06 18:25:11,119]\u001b[0m Trial 21 finished with value: 0.7776142352002984 and parameters: {'penalty': 'l1', 'solver': 'liblinear', 'C': 0.46}. Best is trial 15 with value: 0.7776142352002984.\u001b[0m\n",
      "\u001b[32m[I 2023-02-06 18:25:13,488]\u001b[0m Trial 22 finished with value: 0.7747122483442727 and parameters: {'penalty': 'l1', 'solver': 'liblinear', 'C': 0.6100000000000001}. Best is trial 15 with value: 0.7776142352002984.\u001b[0m\n",
      "\u001b[32m[I 2023-02-06 18:25:15,112]\u001b[0m Trial 23 finished with value: 0.7773211712643994 and parameters: {'penalty': 'l1', 'solver': 'liblinear', 'C': 0.51}. Best is trial 15 with value: 0.7776142352002984.\u001b[0m\n",
      "\u001b[32m[I 2023-02-06 18:25:17,008]\u001b[0m Trial 24 finished with value: 0.7776142352002984 and parameters: {'penalty': 'l1', 'solver': 'liblinear', 'C': 0.46}. Best is trial 15 with value: 0.7776142352002984.\u001b[0m\n",
      "\u001b[32m[I 2023-02-06 18:25:19,589]\u001b[0m Trial 25 finished with value: 0.7726618048751221 and parameters: {'penalty': 'l1', 'solver': 'liblinear', 'C': 0.8600000000000001}. Best is trial 15 with value: 0.7776142352002984.\u001b[0m\n",
      "\u001b[32m[I 2023-02-06 18:25:21,405]\u001b[0m Trial 26 finished with value: 0.7699442531583468 and parameters: {'penalty': 'l2', 'solver': 'liblinear', 'C': 0.21000000000000002}. Best is trial 15 with value: 0.7776142352002984.\u001b[0m\n",
      "\u001b[32m[I 2023-02-06 18:25:23,676]\u001b[0m Trial 27 finished with value: 0.7747122483442727 and parameters: {'penalty': 'l1', 'solver': 'liblinear', 'C': 0.6100000000000001}. Best is trial 15 with value: 0.7776142352002984.\u001b[0m\n",
      "\u001b[32m[I 2023-02-06 18:25:25,488]\u001b[0m Trial 28 finished with value: 0.7776142352002984 and parameters: {'penalty': 'l1', 'solver': 'liblinear', 'C': 0.46}. Best is trial 15 with value: 0.7776142352002984.\u001b[0m\n",
      "\u001b[32m[I 2023-02-06 18:25:26,453]\u001b[0m Trial 29 finished with value: 0.774383551298769 and parameters: {'penalty': 'l1', 'solver': 'liblinear', 'C': 0.11}. Best is trial 15 with value: 0.7776142352002984.\u001b[0m\n",
      "\u001b[32m[I 2023-02-06 18:25:27,890]\u001b[0m Trial 30 finished with value: 0.7758958096727463 and parameters: {'penalty': 'l1', 'solver': 'liblinear', 'C': 0.31000000000000005}. Best is trial 15 with value: 0.7776142352002984.\u001b[0m\n",
      "\u001b[32m[I 2023-02-06 18:25:29,705]\u001b[0m Trial 31 finished with value: 0.7776142352002984 and parameters: {'penalty': 'l1', 'solver': 'liblinear', 'C': 0.46}. Best is trial 15 with value: 0.7776142352002984.\u001b[0m\n",
      "\u001b[32m[I 2023-02-06 18:25:32,265]\u001b[0m Trial 32 finished with value: 0.7727034694084602 and parameters: {'penalty': 'l1', 'solver': 'liblinear', 'C': 0.56}. Best is trial 15 with value: 0.7776142352002984.\u001b[0m\n",
      "\u001b[32m[I 2023-02-06 18:25:34,794]\u001b[0m Trial 33 finished with value: 0.7760987039537511 and parameters: {'penalty': 'l1', 'solver': 'liblinear', 'C': 0.66}. Best is trial 15 with value: 0.7776142352002984.\u001b[0m\n",
      "\u001b[32m[I 2023-02-06 18:25:50,368]\u001b[0m Trial 34 finished with value: 0.7788159787831656 and parameters: {'penalty': 'l1', 'solver': 'saga', 'C': 0.46}. Best is trial 34 with value: 0.7788159787831656.\u001b[0m\n",
      "\u001b[32m[I 2023-02-06 18:26:01,730]\u001b[0m Trial 35 finished with value: 0.7644305046236922 and parameters: {'penalty': 'l2', 'solver': 'saga', 'C': 0.36000000000000004}. Best is trial 34 with value: 0.7788159787831656.\u001b[0m\n",
      "\u001b[32m[I 2023-02-06 18:26:18,906]\u001b[0m Trial 36 finished with value: 0.7728581730593133 and parameters: {'penalty': 'l1', 'solver': 'saga', 'C': 0.81}. Best is trial 34 with value: 0.7788159787831656.\u001b[0m\n",
      "\u001b[32m[I 2023-02-06 18:26:29,899]\u001b[0m Trial 37 finished with value: 0.7638589051732023 and parameters: {'penalty': 'l2', 'solver': 'saga', 'C': 0.56}. Best is trial 34 with value: 0.7788159787831656.\u001b[0m\n",
      "\u001b[32m[I 2023-02-06 18:26:46,496]\u001b[0m Trial 38 finished with value: 0.7768308997970526 and parameters: {'penalty': 'l1', 'solver': 'saga', 'C': 0.66}. Best is trial 34 with value: 0.7788159787831656.\u001b[0m\n"
     ]
    },
    {
     "name": "stderr",
     "output_type": "stream",
     "text": [
      "\u001b[32m[I 2023-02-06 18:26:57,429]\u001b[0m Trial 39 finished with value: 0.7643926177712026 and parameters: {'penalty': 'l2', 'solver': 'saga', 'C': 0.46}. Best is trial 34 with value: 0.7788159787831656.\u001b[0m\n",
      "\u001b[32m[I 2023-02-06 18:27:12,978]\u001b[0m Trial 40 finished with value: 0.7753374538744907 and parameters: {'penalty': 'l1', 'solver': 'saga', 'C': 0.36000000000000004}. Best is trial 34 with value: 0.7788159787831656.\u001b[0m\n",
      "\u001b[32m[I 2023-02-06 18:27:29,069]\u001b[0m Trial 41 finished with value: 0.7788159787831656 and parameters: {'penalty': 'l1', 'solver': 'saga', 'C': 0.46}. Best is trial 34 with value: 0.7788159787831656.\u001b[0m\n",
      "\u001b[32m[I 2023-02-06 18:27:45,072]\u001b[0m Trial 42 finished with value: 0.7770546097143257 and parameters: {'penalty': 'l1', 'solver': 'saga', 'C': 0.51}. Best is trial 34 with value: 0.7788159787831656.\u001b[0m\n",
      "\u001b[32m[I 2023-02-06 18:28:01,058]\u001b[0m Trial 43 finished with value: 0.7788159787831656 and parameters: {'penalty': 'l1', 'solver': 'saga', 'C': 0.46}. Best is trial 34 with value: 0.7788159787831656.\u001b[0m\n",
      "\u001b[32m[I 2023-02-06 18:28:16,200]\u001b[0m Trial 44 finished with value: 0.7757009477860695 and parameters: {'penalty': 'l1', 'solver': 'saga', 'C': 0.31000000000000005}. Best is trial 34 with value: 0.7788159787831656.\u001b[0m\n",
      "\u001b[32m[I 2023-02-06 18:28:32,252]\u001b[0m Trial 45 finished with value: 0.7771573043847159 and parameters: {'penalty': 'l1', 'solver': 'saga', 'C': 0.41000000000000003}. Best is trial 34 with value: 0.7788159787831656.\u001b[0m\n",
      "\u001b[32m[I 2023-02-06 18:28:49,001]\u001b[0m Trial 46 finished with value: 0.7774415820631229 and parameters: {'penalty': 'l1', 'solver': 'saga', 'C': 0.6100000000000001}. Best is trial 34 with value: 0.7788159787831656.\u001b[0m\n",
      "\u001b[32m[I 2023-02-06 18:29:00,150]\u001b[0m Trial 47 finished with value: 0.7638589051732023 and parameters: {'penalty': 'l2', 'solver': 'saga', 'C': 0.56}. Best is trial 34 with value: 0.7788159787831656.\u001b[0m\n",
      "\u001b[32m[I 2023-02-06 18:29:15,281]\u001b[0m Trial 48 finished with value: 0.7752834722812747 and parameters: {'penalty': 'l1', 'solver': 'saga', 'C': 0.26}. Best is trial 34 with value: 0.7788159787831656.\u001b[0m\n",
      "\u001b[32m[I 2023-02-06 18:29:30,951]\u001b[0m Trial 49 finished with value: 0.7771573043847159 and parameters: {'penalty': 'l1', 'solver': 'saga', 'C': 0.41000000000000003}. Best is trial 34 with value: 0.7788159787831656.\u001b[0m\n"
     ]
    },
    {
     "name": "stdout",
     "output_type": "stream",
     "text": [
      "Wall time: 6min 15s\n"
     ]
    }
   ],
   "source": [
    "%%time\n",
    "study = optuna.create_study(study_name=\"LogisticRegression\", direction=\"maximize\")\n",
    "study.optimize(optuna_lr, n_trials=50)"
   ]
  },
  {
   "cell_type": "code",
   "execution_count": 33,
   "id": "1aa6a37a",
   "metadata": {},
   "outputs": [
    {
     "name": "stdout",
     "output_type": "stream",
     "text": [
      "Наилучшие значения гиперпараметров {'penalty': 'l1', 'solver': 'saga', 'C': 0.46}\n"
     ]
    }
   ],
   "source": [
    "# выводим наилучшие значения гиперпараметров\n",
    "print(\"Наилучшие значения гиперпараметров {}\".format(study.best_params))"
   ]
  },
  {
   "cell_type": "code",
   "execution_count": 34,
   "id": "86f01694",
   "metadata": {},
   "outputs": [
    {
     "name": "stdout",
     "output_type": "stream",
     "text": [
      "f1_score на тестовом наборе: 0.79\n"
     ]
    }
   ],
   "source": [
    "model_Op_LR = linear_model.LogisticRegression(**study.best_params, random_state=random_state,)\n",
    "\n",
    "model_Op_LR.fit(X_train, y_train)\n",
    "\n",
    "y_test_pred = model_Op_LR.predict(X_test)\n",
    "print('f1_score на тестовом наборе: {:.2f}'.format(metrics.f1_score(y_test, y_test_pred)))"
   ]
  },
  {
   "cell_type": "code",
   "execution_count": 35,
   "id": "7da48eaf",
   "metadata": {},
   "outputs": [],
   "source": [
    "# Записываем получившееся значение в словарь для дальнейшего сравнения\n",
    "logreg['LogReg_Optuna'] = round(metrics.f1_score(y_test, y_test_pred), 3)"
   ]
  },
  {
   "cell_type": "markdown",
   "id": "0f7d648a",
   "metadata": {},
   "source": [
    "### Случайный лес, метод Optuna"
   ]
  },
  {
   "cell_type": "code",
   "execution_count": 36,
   "id": "71536c92",
   "metadata": {},
   "outputs": [],
   "source": [
    "random_state = 42\n",
    "def optuna_rf(trial):\n",
    "  # задаем пространства поиска гиперпараметров\n",
    "  n_estimators = trial.suggest_int('n_estimators', 100, 400, 1)\n",
    "  max_depth = trial.suggest_int('max_depth', 5, 30, 1)\n",
    "  min_samples_leaf = trial.suggest_int('min_samples_leaf', 2, 12, 1)\n",
    "\n",
    "  # создаем модель\n",
    "  model_Op_rf = ensemble.RandomForestClassifier(n_estimators=n_estimators,\n",
    "                                          max_depth=max_depth,\n",
    "                                          min_samples_leaf=min_samples_leaf,\n",
    "                                          random_state=random_state)\n",
    "  # обучаем модель\n",
    "  model_Op_rf.fit(X_train, y_train)\n",
    "  score = cross_val_score(model_Op_rf, X_train, y_train, cv = 5, scoring = 'f1', n_jobs= -1).mean()\n",
    "    \n",
    "  return score"
   ]
  },
  {
   "cell_type": "code",
   "execution_count": 37,
   "id": "9217d094",
   "metadata": {},
   "outputs": [
    {
     "name": "stderr",
     "output_type": "stream",
     "text": [
      "\u001b[32m[I 2023-02-06 18:30:21,056]\u001b[0m A new study created in memory with name: RandomForestClassifier\u001b[0m\n",
      "\u001b[32m[I 2023-02-06 18:30:29,678]\u001b[0m Trial 0 finished with value: 0.7871897587442922 and parameters: {'n_estimators': 306, 'max_depth': 21, 'min_samples_leaf': 11}. Best is trial 0 with value: 0.7871897587442922.\u001b[0m\n",
      "\u001b[32m[I 2023-02-06 18:30:37,657]\u001b[0m Trial 1 finished with value: 0.7910445674446748 and parameters: {'n_estimators': 301, 'max_depth': 9, 'min_samples_leaf': 6}. Best is trial 1 with value: 0.7910445674446748.\u001b[0m\n",
      "\u001b[32m[I 2023-02-06 18:30:43,394]\u001b[0m Trial 2 finished with value: 0.7941998371835538 and parameters: {'n_estimators': 182, 'max_depth': 16, 'min_samples_leaf': 8}. Best is trial 2 with value: 0.7941998371835538.\u001b[0m\n",
      "\u001b[32m[I 2023-02-06 18:30:48,427]\u001b[0m Trial 3 finished with value: 0.7636537156330495 and parameters: {'n_estimators': 251, 'max_depth': 6, 'min_samples_leaf': 8}. Best is trial 2 with value: 0.7941998371835538.\u001b[0m\n",
      "\u001b[32m[I 2023-02-06 18:30:52,845]\u001b[0m Trial 4 finished with value: 0.7871385656938145 and parameters: {'n_estimators': 150, 'max_depth': 15, 'min_samples_leaf': 12}. Best is trial 2 with value: 0.7941998371835538.\u001b[0m\n",
      "\u001b[32m[I 2023-02-06 18:30:57,219]\u001b[0m Trial 5 finished with value: 0.7856067243410205 and parameters: {'n_estimators': 146, 'max_depth': 18, 'min_samples_leaf': 12}. Best is trial 2 with value: 0.7941998371835538.\u001b[0m\n",
      "\u001b[32m[I 2023-02-06 18:31:02,627]\u001b[0m Trial 6 finished with value: 0.7844615696878721 and parameters: {'n_estimators': 199, 'max_depth': 9, 'min_samples_leaf': 8}. Best is trial 2 with value: 0.7941998371835538.\u001b[0m\n",
      "\u001b[32m[I 2023-02-06 18:31:12,646]\u001b[0m Trial 7 finished with value: 0.7891411835342296 and parameters: {'n_estimators': 356, 'max_depth': 26, 'min_samples_leaf': 10}. Best is trial 2 with value: 0.7941998371835538.\u001b[0m\n",
      "\u001b[32m[I 2023-02-06 18:31:21,431]\u001b[0m Trial 8 finished with value: 0.7904489009846423 and parameters: {'n_estimators': 279, 'max_depth': 15, 'min_samples_leaf': 7}. Best is trial 2 with value: 0.7941998371835538.\u001b[0m\n",
      "\u001b[32m[I 2023-02-06 18:31:25,821]\u001b[0m Trial 9 finished with value: 0.7659527234735158 and parameters: {'n_estimators': 188, 'max_depth': 7, 'min_samples_leaf': 9}. Best is trial 2 with value: 0.7941998371835538.\u001b[0m\n",
      "\u001b[32m[I 2023-02-06 18:31:29,980]\u001b[0m Trial 10 finished with value: 0.8012481124820653 and parameters: {'n_estimators': 100, 'max_depth': 30, 'min_samples_leaf': 3}. Best is trial 10 with value: 0.8012481124820653.\u001b[0m\n",
      "\u001b[32m[I 2023-02-06 18:31:34,334]\u001b[0m Trial 11 finished with value: 0.8001164336315295 and parameters: {'n_estimators': 102, 'max_depth': 30, 'min_samples_leaf': 3}. Best is trial 10 with value: 0.8012481124820653.\u001b[0m\n",
      "\u001b[32m[I 2023-02-06 18:31:38,849]\u001b[0m Trial 12 finished with value: 0.8058355585617762 and parameters: {'n_estimators': 100, 'max_depth': 30, 'min_samples_leaf': 2}. Best is trial 12 with value: 0.8058355585617762.\u001b[0m\n",
      "\u001b[32m[I 2023-02-06 18:31:43,478]\u001b[0m Trial 13 finished with value: 0.806672347883884 and parameters: {'n_estimators': 106, 'max_depth': 30, 'min_samples_leaf': 2}. Best is trial 13 with value: 0.806672347883884.\u001b[0m\n",
      "\u001b[32m[I 2023-02-06 18:31:49,639]\u001b[0m Trial 14 finished with value: 0.8081576307062376 and parameters: {'n_estimators': 146, 'max_depth': 25, 'min_samples_leaf': 2}. Best is trial 14 with value: 0.8081576307062376.\u001b[0m\n",
      "\u001b[32m[I 2023-02-06 18:31:54,820]\u001b[0m Trial 15 finished with value: 0.79937496914074 and parameters: {'n_estimators': 142, 'max_depth': 25, 'min_samples_leaf': 5}. Best is trial 14 with value: 0.8081576307062376.\u001b[0m\n",
      "\u001b[32m[I 2023-02-06 18:32:02,750]\u001b[0m Trial 16 finished with value: 0.8029250588961794 and parameters: {'n_estimators': 216, 'max_depth': 25, 'min_samples_leaf': 4}. Best is trial 14 with value: 0.8081576307062376.\u001b[0m\n",
      "\u001b[32m[I 2023-02-06 18:32:17,978]\u001b[0m Trial 17 finished with value: 0.8084572309946548 and parameters: {'n_estimators': 381, 'max_depth': 22, 'min_samples_leaf': 2}. Best is trial 17 with value: 0.8084572309946548.\u001b[0m\n",
      "\u001b[32m[I 2023-02-06 18:32:30,920]\u001b[0m Trial 18 finished with value: 0.8003590052337186 and parameters: {'n_estimators': 386, 'max_depth': 21, 'min_samples_leaf': 5}. Best is trial 17 with value: 0.8084572309946548.\u001b[0m\n",
      "\u001b[32m[I 2023-02-06 18:32:43,927]\u001b[0m Trial 19 finished with value: 0.8053240058364792 and parameters: {'n_estimators': 350, 'max_depth': 22, 'min_samples_leaf': 3}. Best is trial 17 with value: 0.8084572309946548.\u001b[0m\n",
      "\u001b[32m[I 2023-02-06 18:32:57,778]\u001b[0m Trial 20 finished with value: 0.8062819093807232 and parameters: {'n_estimators': 394, 'max_depth': 19, 'min_samples_leaf': 4}. Best is trial 17 with value: 0.8084572309946548.\u001b[0m\n",
      "\u001b[32m[I 2023-02-06 18:33:03,310]\u001b[0m Trial 21 finished with value: 0.8097077195859829 and parameters: {'n_estimators': 129, 'max_depth': 27, 'min_samples_leaf': 2}. Best is trial 21 with value: 0.8097077195859829.\u001b[0m\n",
      "\u001b[32m[I 2023-02-06 18:33:13,368]\u001b[0m Trial 22 finished with value: 0.8115768114511598 and parameters: {'n_estimators': 243, 'max_depth': 27, 'min_samples_leaf': 2}. Best is trial 22 with value: 0.8115768114511598.\u001b[0m\n",
      "\u001b[32m[I 2023-02-06 18:33:22,072]\u001b[0m Trial 23 finished with value: 0.8021507354585123 and parameters: {'n_estimators': 234, 'max_depth': 27, 'min_samples_leaf': 4}. Best is trial 22 with value: 0.8115768114511598.\u001b[0m\n",
      "\u001b[32m[I 2023-02-06 18:33:32,736]\u001b[0m Trial 24 finished with value: 0.8122918116434285 and parameters: {'n_estimators': 269, 'max_depth': 23, 'min_samples_leaf': 2}. Best is trial 24 with value: 0.8122918116434285.\u001b[0m\n",
      "\u001b[32m[I 2023-02-06 18:33:42,254]\u001b[0m Trial 25 finished with value: 0.8029576903737053 and parameters: {'n_estimators': 259, 'max_depth': 27, 'min_samples_leaf': 3}. Best is trial 24 with value: 0.8122918116434285.\u001b[0m\n",
      "\u001b[32m[I 2023-02-06 18:33:52,480]\u001b[0m Trial 26 finished with value: 0.7990539399253018 and parameters: {'n_estimators': 310, 'max_depth': 28, 'min_samples_leaf': 5}. Best is trial 24 with value: 0.8122918116434285.\u001b[0m\n",
      "\u001b[32m[I 2023-02-06 18:34:03,278]\u001b[0m Trial 27 finished with value: 0.8114774460677268 and parameters: {'n_estimators': 274, 'max_depth': 23, 'min_samples_leaf': 2}. Best is trial 24 with value: 0.8122918116434285.\u001b[0m\n",
      "\u001b[32m[I 2023-02-06 18:34:12,113]\u001b[0m Trial 28 finished with value: 0.7992355877267525 and parameters: {'n_estimators': 285, 'max_depth': 23, 'min_samples_leaf': 6}. Best is trial 24 with value: 0.8122918116434285.\u001b[0m\n",
      "\u001b[32m[I 2023-02-06 18:34:23,219]\u001b[0m Trial 29 finished with value: 0.8068139216000045 and parameters: {'n_estimators': 325, 'max_depth': 23, 'min_samples_leaf': 4}. Best is trial 24 with value: 0.8122918116434285.\u001b[0m\n",
      "\u001b[32m[I 2023-02-06 18:34:31,194]\u001b[0m Trial 30 finished with value: 0.806151359346525 and parameters: {'n_estimators': 235, 'max_depth': 13, 'min_samples_leaf': 3}. Best is trial 24 with value: 0.8122918116434285.\u001b[0m\n",
      "\u001b[32m[I 2023-02-06 18:34:41,656]\u001b[0m Trial 31 finished with value: 0.8106129320751096 and parameters: {'n_estimators': 274, 'max_depth': 20, 'min_samples_leaf': 2}. Best is trial 24 with value: 0.8122918116434285.\u001b[0m\n",
      "\u001b[32m[I 2023-02-06 18:34:52,150]\u001b[0m Trial 32 finished with value: 0.8111986440721866 and parameters: {'n_estimators': 271, 'max_depth': 20, 'min_samples_leaf': 2}. Best is trial 24 with value: 0.8122918116434285.\u001b[0m\n",
      "\u001b[32m[I 2023-02-06 18:35:03,008]\u001b[0m Trial 33 finished with value: 0.8045891660073299 and parameters: {'n_estimators': 301, 'max_depth': 23, 'min_samples_leaf': 3}. Best is trial 24 with value: 0.8122918116434285.\u001b[0m\n",
      "\u001b[32m[I 2023-02-06 18:35:13,537]\u001b[0m Trial 34 finished with value: 0.8113692063480566 and parameters: {'n_estimators': 266, 'max_depth': 20, 'min_samples_leaf': 2}. Best is trial 24 with value: 0.8122918116434285.\u001b[0m\n",
      "\u001b[32m[I 2023-02-06 18:35:21,935]\u001b[0m Trial 35 finished with value: 0.8033335166846326 and parameters: {'n_estimators': 237, 'max_depth': 18, 'min_samples_leaf': 4}. Best is trial 24 with value: 0.8122918116434285.\u001b[0m\n",
      "\u001b[32m[I 2023-02-06 18:35:32,449]\u001b[0m Trial 36 finished with value: 0.7994035498522252 and parameters: {'n_estimators': 327, 'max_depth': 24, 'min_samples_leaf': 6}. Best is trial 24 with value: 0.8122918116434285.\u001b[0m\n",
      "\u001b[32m[I 2023-02-06 18:35:40,597]\u001b[0m Trial 37 finished with value: 0.8046220641347481 and parameters: {'n_estimators': 217, 'max_depth': 16, 'min_samples_leaf': 3}. Best is trial 24 with value: 0.8122918116434285.\u001b[0m\n"
     ]
    },
    {
     "name": "stderr",
     "output_type": "stream",
     "text": [
      "\u001b[32m[I 2023-02-06 18:35:50,043]\u001b[0m Trial 38 finished with value: 0.8089988276411189 and parameters: {'n_estimators': 254, 'max_depth': 13, 'min_samples_leaf': 2}. Best is trial 24 with value: 0.8122918116434285.\u001b[0m\n",
      "\u001b[32m[I 2023-02-06 18:36:00,554]\u001b[0m Trial 39 finished with value: 0.8055979907464833 and parameters: {'n_estimators': 288, 'max_depth': 21, 'min_samples_leaf': 3}. Best is trial 24 with value: 0.8122918116434285.\u001b[0m\n",
      "\u001b[32m[I 2023-02-06 18:36:06,029]\u001b[0m Trial 40 finished with value: 0.7916269979232755 and parameters: {'n_estimators': 175, 'max_depth': 17, 'min_samples_leaf': 7}. Best is trial 24 with value: 0.8122918116434285.\u001b[0m\n",
      "\u001b[32m[I 2023-02-06 18:36:16,545]\u001b[0m Trial 41 finished with value: 0.8114895007480551 and parameters: {'n_estimators': 272, 'max_depth': 20, 'min_samples_leaf': 2}. Best is trial 24 with value: 0.8122918116434285.\u001b[0m\n",
      "\u001b[32m[I 2023-02-06 18:36:26,741]\u001b[0m Trial 42 finished with value: 0.8103795465112418 and parameters: {'n_estimators': 262, 'max_depth': 19, 'min_samples_leaf': 2}. Best is trial 24 with value: 0.8122918116434285.\u001b[0m\n",
      "\u001b[32m[I 2023-02-06 18:36:37,762]\u001b[0m Trial 43 finished with value: 0.8075789806734832 and parameters: {'n_estimators': 304, 'max_depth': 21, 'min_samples_leaf': 3}. Best is trial 24 with value: 0.8122918116434285.\u001b[0m\n",
      "\u001b[32m[I 2023-02-06 18:36:43,825]\u001b[0m Trial 44 finished with value: 0.7884443838750046 and parameters: {'n_estimators': 217, 'max_depth': 28, 'min_samples_leaf': 11}. Best is trial 24 with value: 0.8122918116434285.\u001b[0m\n",
      "\u001b[32m[I 2023-02-06 18:36:53,606]\u001b[0m Trial 45 finished with value: 0.8086189781024498 and parameters: {'n_estimators': 246, 'max_depth': 24, 'min_samples_leaf': 2}. Best is trial 24 with value: 0.8122918116434285.\u001b[0m\n",
      "\u001b[32m[I 2023-02-06 18:37:03,560]\u001b[0m Trial 46 finished with value: 0.8047473045041489 and parameters: {'n_estimators': 290, 'max_depth': 18, 'min_samples_leaf': 4}. Best is trial 24 with value: 0.8122918116434285.\u001b[0m\n",
      "\u001b[32m[I 2023-02-06 18:37:16,045]\u001b[0m Trial 47 finished with value: 0.8084808666266141 and parameters: {'n_estimators': 320, 'max_depth': 22, 'min_samples_leaf': 2}. Best is trial 24 with value: 0.8122918116434285.\u001b[0m\n",
      "\u001b[32m[I 2023-02-06 18:37:23,568]\u001b[0m Trial 48 finished with value: 0.8035460247526707 and parameters: {'n_estimators': 201, 'max_depth': 26, 'min_samples_leaf': 3}. Best is trial 24 with value: 0.8122918116434285.\u001b[0m\n",
      "\u001b[32m[I 2023-02-06 18:37:31,170]\u001b[0m Trial 49 finished with value: 0.7952100962018449 and parameters: {'n_estimators': 269, 'max_depth': 14, 'min_samples_leaf': 9}. Best is trial 24 with value: 0.8122918116434285.\u001b[0m\n"
     ]
    },
    {
     "name": "stdout",
     "output_type": "stream",
     "text": [
      "Wall time: 7min 10s\n"
     ]
    }
   ],
   "source": [
    "%%time\n",
    "# cоздаем объект исследования\n",
    "# можем напрямую указать, что нам необходимо максимизировать метрику direction=\"maximize\"\n",
    "study = optuna.create_study(study_name=\"RandomForestClassifier\", direction=\"maximize\")\n",
    "# ищем лучшую комбинацию гиперпараметров n_trials раз\n",
    "study.optimize(optuna_rf, n_trials=50)"
   ]
  },
  {
   "cell_type": "code",
   "execution_count": 38,
   "id": "ceefd1da",
   "metadata": {},
   "outputs": [
    {
     "name": "stdout",
     "output_type": "stream",
     "text": [
      "Наилучшие значения гиперпараметров {'n_estimators': 269, 'max_depth': 23, 'min_samples_leaf': 2}\n"
     ]
    }
   ],
   "source": [
    "# выводим наилучшие значения гиперпараметров\n",
    "print(\"Наилучшие значения гиперпараметров {}\".format(study.best_params))"
   ]
  },
  {
   "cell_type": "code",
   "execution_count": 39,
   "id": "25a318fe",
   "metadata": {},
   "outputs": [
    {
     "name": "stdout",
     "output_type": "stream",
     "text": [
      "f1_score на тестовом наборе: 0.82\n"
     ]
    }
   ],
   "source": [
    "# рассчитаем точность для тестовой выборки\n",
    "model_Op_rf = ensemble.RandomForestClassifier(**study.best_params,random_state=random_state, )\n",
    "model_Op_rf.fit(X_train, y_train)\n",
    "y_test_pred = model_Op_rf.predict(X_test)\n",
    "print('f1_score на тестовом наборе: {:.2f}'.format(metrics.f1_score(y_test, y_test_pred)))"
   ]
  },
  {
   "cell_type": "code",
   "execution_count": 40,
   "id": "184d9b79",
   "metadata": {},
   "outputs": [],
   "source": [
    "# Записываем получившееся значение в словарь для дальнейшего сравнения\n",
    "ranfor['RanFor_Optuna'] = round(metrics.f1_score(y_test, y_test_pred), 3)"
   ]
  },
  {
   "cell_type": "code",
   "execution_count": 41,
   "id": "5bf57095",
   "metadata": {},
   "outputs": [
    {
     "data": {
      "text/html": [
       "<div>\n",
       "<style scoped>\n",
       "    .dataframe tbody tr th:only-of-type {\n",
       "        vertical-align: middle;\n",
       "    }\n",
       "\n",
       "    .dataframe tbody tr th {\n",
       "        vertical-align: top;\n",
       "    }\n",
       "\n",
       "    .dataframe thead th {\n",
       "        text-align: right;\n",
       "    }\n",
       "</style>\n",
       "<table border=\"1\" class=\"dataframe\">\n",
       "  <thead>\n",
       "    <tr style=\"text-align: right;\">\n",
       "      <th></th>\n",
       "      <th>LogReg_init</th>\n",
       "      <th>LogReg_GridSeach</th>\n",
       "      <th>LogReg_RandSeach</th>\n",
       "      <th>LogReg_HO</th>\n",
       "      <th>LogReg_Optuna</th>\n",
       "    </tr>\n",
       "  </thead>\n",
       "  <tbody>\n",
       "    <tr>\n",
       "      <th>0</th>\n",
       "      <td>0.782</td>\n",
       "      <td>0.794</td>\n",
       "      <td>0.794</td>\n",
       "      <td>0.796</td>\n",
       "      <td>0.794</td>\n",
       "    </tr>\n",
       "  </tbody>\n",
       "</table>\n",
       "</div>"
      ],
      "text/plain": [
       "   LogReg_init  LogReg_GridSeach  LogReg_RandSeach  LogReg_HO  LogReg_Optuna\n",
       "0        0.782             0.794             0.794      0.796          0.794"
      ]
     },
     "metadata": {},
     "output_type": "display_data"
    },
    {
     "data": {
      "text/html": [
       "<div>\n",
       "<style scoped>\n",
       "    .dataframe tbody tr th:only-of-type {\n",
       "        vertical-align: middle;\n",
       "    }\n",
       "\n",
       "    .dataframe tbody tr th {\n",
       "        vertical-align: top;\n",
       "    }\n",
       "\n",
       "    .dataframe thead th {\n",
       "        text-align: right;\n",
       "    }\n",
       "</style>\n",
       "<table border=\"1\" class=\"dataframe\">\n",
       "  <thead>\n",
       "    <tr style=\"text-align: right;\">\n",
       "      <th></th>\n",
       "      <th>RanFor_init</th>\n",
       "      <th>RanFor_GridSeach</th>\n",
       "      <th>RanFor_RandSeach</th>\n",
       "      <th>RanFor_HO</th>\n",
       "      <th>RanFor_Optuna</th>\n",
       "    </tr>\n",
       "  </thead>\n",
       "  <tbody>\n",
       "    <tr>\n",
       "      <th>0</th>\n",
       "      <td>0.817</td>\n",
       "      <td>0.819</td>\n",
       "      <td>0.817</td>\n",
       "      <td>0.817</td>\n",
       "      <td>0.824</td>\n",
       "    </tr>\n",
       "  </tbody>\n",
       "</table>\n",
       "</div>"
      ],
      "text/plain": [
       "   RanFor_init  RanFor_GridSeach  RanFor_RandSeach  RanFor_HO  RanFor_Optuna\n",
       "0        0.817             0.819             0.817      0.817          0.824"
      ]
     },
     "metadata": {},
     "output_type": "display_data"
    }
   ],
   "source": [
    "# преобразуем словари  в датафреймы    \n",
    "df_logreg = pd.DataFrame([logreg])\n",
    "display(df_logreg)\n",
    "\n",
    "df_ranfor = pd.DataFrame([ranfor])\n",
    "display(df_ranfor)"
   ]
  },
  {
   "cell_type": "markdown",
   "id": "e69fc6bc",
   "metadata": {},
   "source": [
    "### Некоторые выводы"
   ]
  },
  {
   "cell_type": "markdown",
   "id": "378adda0",
   "metadata": {},
   "source": [
    "1. Модель, использующая случайный лес, стабильно показывает более высокие результаты, чем модель, использующая логистическую регрессию при использовнии любого метода оптимизации\n",
    "2. Наилучшие результаты для логистической регрессии показал метод HyperOpt (0.796), а для случайного леса - Optuna (0.825)"
   ]
  },
  {
   "cell_type": "code",
   "execution_count": null,
   "id": "606326e9",
   "metadata": {},
   "outputs": [],
   "source": []
  }
 ],
 "metadata": {
  "kernelspec": {
   "display_name": "Python 3 (ipykernel)",
   "language": "python",
   "name": "python3"
  },
  "language_info": {
   "codemirror_mode": {
    "name": "ipython",
    "version": 3
   },
   "file_extension": ".py",
   "mimetype": "text/x-python",
   "name": "python",
   "nbconvert_exporter": "python",
   "pygments_lexer": "ipython3",
   "version": "3.9.15"
  }
 },
 "nbformat": 4,
 "nbformat_minor": 5
}
