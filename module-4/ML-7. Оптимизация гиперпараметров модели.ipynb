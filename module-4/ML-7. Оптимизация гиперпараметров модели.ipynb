{
 "cells": [
  {
   "cell_type": "markdown",
   "id": "105aa41c",
   "metadata": {},
   "source": [
    "### Постановка задачи"
   ]
  },
  {
   "cell_type": "markdown",
   "id": "3c098492",
   "metadata": {},
   "source": [
    "Необходимо предсказать биологический ответ молекул (столбец 'Activity') по их химическому составу (столбцы D1-D1776).\n",
    "\n",
    "Данные представлены в формате CSV. Каждая строка представляет молекулу.\n",
    "\n",
    "Первый столбец Activity содержит экспериментальные данные, описывающие фактический биологический ответ [0, 1];\n",
    "Остальные столбцы D1-D1776 представляют собой молекулярные дескрипторы — это вычисляемые свойства, которые могут фиксировать некоторые характеристики молекулы, например размер, форму или состав элементов.\n",
    "Предварительная обработка не требуется, данные уже закодированы и нормализованы.\n",
    "\n",
    "В качестве метрики будем использовать F1-score.\n",
    "\n",
    "Необходимо обучить две модели: логистическую регрессию и случайный лес. Далее нужно сделать подбор гиперпараметров с помощью базовых и продвинутых методов оптимизации. Важно использовать все четыре метода (GridSeachCV, RandomizedSearchCV, Hyperopt, Optuna) хотя бы по разу, максимальное количество итераций не должно превышать 50."
   ]
  },
  {
   "cell_type": "code",
   "execution_count": 66,
   "id": "673b4323",
   "metadata": {},
   "outputs": [],
   "source": [
    "#импорт библиотек\n",
    "import numpy as np #для матричных вычислений\n",
    "import pandas as pd #для анализа и предобработки данных\n",
    "import matplotlib.pyplot as plt #для визуализации\n",
    "import seaborn as sns #для визуализации\n",
    "\n",
    "from sklearn import linear_model #линейные модели\n",
    "from sklearn import tree #деревья решений\n",
    "from sklearn import ensemble #ансамбли\n",
    "from sklearn import metrics #метрики\n",
    "from sklearn import preprocessing #предобработка\n",
    "from sklearn.model_selection import train_test_split #сплитование выборки\n",
    "from sklearn.model_selection import cross_val_score #Кросс валидация\n",
    "\n",
    "# Импорт оптимизаторов параметров\n",
    "from sklearn.model_selection import GridSearchCV\n",
    "from sklearn.model_selection import RandomizedSearchCV\n",
    "\n",
    "import hyperopt\n",
    "from hyperopt import hp, fmin, tpe, Trials\n",
    "\n",
    "import optuna\n",
    "\n",
    "%matplotlib inline\n",
    "plt.style.use('seaborn')"
   ]
  },
  {
   "cell_type": "code",
   "execution_count": 67,
   "id": "9f1b59be",
   "metadata": {},
   "outputs": [
    {
     "data": {
      "text/html": [
       "<div>\n",
       "<style scoped>\n",
       "    .dataframe tbody tr th:only-of-type {\n",
       "        vertical-align: middle;\n",
       "    }\n",
       "\n",
       "    .dataframe tbody tr th {\n",
       "        vertical-align: top;\n",
       "    }\n",
       "\n",
       "    .dataframe thead th {\n",
       "        text-align: right;\n",
       "    }\n",
       "</style>\n",
       "<table border=\"1\" class=\"dataframe\">\n",
       "  <thead>\n",
       "    <tr style=\"text-align: right;\">\n",
       "      <th></th>\n",
       "      <th>Activity</th>\n",
       "      <th>D1</th>\n",
       "      <th>D2</th>\n",
       "      <th>D3</th>\n",
       "      <th>D4</th>\n",
       "      <th>D5</th>\n",
       "      <th>D6</th>\n",
       "      <th>D7</th>\n",
       "      <th>D8</th>\n",
       "      <th>D9</th>\n",
       "      <th>...</th>\n",
       "      <th>D1767</th>\n",
       "      <th>D1768</th>\n",
       "      <th>D1769</th>\n",
       "      <th>D1770</th>\n",
       "      <th>D1771</th>\n",
       "      <th>D1772</th>\n",
       "      <th>D1773</th>\n",
       "      <th>D1774</th>\n",
       "      <th>D1775</th>\n",
       "      <th>D1776</th>\n",
       "    </tr>\n",
       "  </thead>\n",
       "  <tbody>\n",
       "    <tr>\n",
       "      <th>0</th>\n",
       "      <td>1</td>\n",
       "      <td>0.000000</td>\n",
       "      <td>0.497009</td>\n",
       "      <td>0.10</td>\n",
       "      <td>0.0</td>\n",
       "      <td>0.132956</td>\n",
       "      <td>0.678031</td>\n",
       "      <td>0.273166</td>\n",
       "      <td>0.585445</td>\n",
       "      <td>0.743663</td>\n",
       "      <td>...</td>\n",
       "      <td>0</td>\n",
       "      <td>0</td>\n",
       "      <td>0</td>\n",
       "      <td>0</td>\n",
       "      <td>0</td>\n",
       "      <td>0</td>\n",
       "      <td>0</td>\n",
       "      <td>0</td>\n",
       "      <td>0</td>\n",
       "      <td>0</td>\n",
       "    </tr>\n",
       "    <tr>\n",
       "      <th>1</th>\n",
       "      <td>1</td>\n",
       "      <td>0.366667</td>\n",
       "      <td>0.606291</td>\n",
       "      <td>0.05</td>\n",
       "      <td>0.0</td>\n",
       "      <td>0.111209</td>\n",
       "      <td>0.803455</td>\n",
       "      <td>0.106105</td>\n",
       "      <td>0.411754</td>\n",
       "      <td>0.836582</td>\n",
       "      <td>...</td>\n",
       "      <td>1</td>\n",
       "      <td>1</td>\n",
       "      <td>1</td>\n",
       "      <td>1</td>\n",
       "      <td>0</td>\n",
       "      <td>1</td>\n",
       "      <td>0</td>\n",
       "      <td>0</td>\n",
       "      <td>1</td>\n",
       "      <td>0</td>\n",
       "    </tr>\n",
       "    <tr>\n",
       "      <th>2</th>\n",
       "      <td>1</td>\n",
       "      <td>0.033300</td>\n",
       "      <td>0.480124</td>\n",
       "      <td>0.00</td>\n",
       "      <td>0.0</td>\n",
       "      <td>0.209791</td>\n",
       "      <td>0.610350</td>\n",
       "      <td>0.356453</td>\n",
       "      <td>0.517720</td>\n",
       "      <td>0.679051</td>\n",
       "      <td>...</td>\n",
       "      <td>0</td>\n",
       "      <td>0</td>\n",
       "      <td>0</td>\n",
       "      <td>0</td>\n",
       "      <td>0</td>\n",
       "      <td>0</td>\n",
       "      <td>0</td>\n",
       "      <td>0</td>\n",
       "      <td>0</td>\n",
       "      <td>0</td>\n",
       "    </tr>\n",
       "    <tr>\n",
       "      <th>3</th>\n",
       "      <td>1</td>\n",
       "      <td>0.000000</td>\n",
       "      <td>0.538825</td>\n",
       "      <td>0.00</td>\n",
       "      <td>0.5</td>\n",
       "      <td>0.196344</td>\n",
       "      <td>0.724230</td>\n",
       "      <td>0.235606</td>\n",
       "      <td>0.288764</td>\n",
       "      <td>0.805110</td>\n",
       "      <td>...</td>\n",
       "      <td>0</td>\n",
       "      <td>0</td>\n",
       "      <td>0</td>\n",
       "      <td>0</td>\n",
       "      <td>0</td>\n",
       "      <td>0</td>\n",
       "      <td>0</td>\n",
       "      <td>0</td>\n",
       "      <td>0</td>\n",
       "      <td>0</td>\n",
       "    </tr>\n",
       "    <tr>\n",
       "      <th>4</th>\n",
       "      <td>0</td>\n",
       "      <td>0.100000</td>\n",
       "      <td>0.517794</td>\n",
       "      <td>0.00</td>\n",
       "      <td>0.0</td>\n",
       "      <td>0.494734</td>\n",
       "      <td>0.781422</td>\n",
       "      <td>0.154361</td>\n",
       "      <td>0.303809</td>\n",
       "      <td>0.812646</td>\n",
       "      <td>...</td>\n",
       "      <td>0</td>\n",
       "      <td>0</td>\n",
       "      <td>0</td>\n",
       "      <td>0</td>\n",
       "      <td>0</td>\n",
       "      <td>0</td>\n",
       "      <td>0</td>\n",
       "      <td>0</td>\n",
       "      <td>0</td>\n",
       "      <td>0</td>\n",
       "    </tr>\n",
       "  </tbody>\n",
       "</table>\n",
       "<p>5 rows × 1777 columns</p>\n",
       "</div>"
      ],
      "text/plain": [
       "   Activity        D1        D2    D3   D4        D5        D6        D7  \\\n",
       "0         1  0.000000  0.497009  0.10  0.0  0.132956  0.678031  0.273166   \n",
       "1         1  0.366667  0.606291  0.05  0.0  0.111209  0.803455  0.106105   \n",
       "2         1  0.033300  0.480124  0.00  0.0  0.209791  0.610350  0.356453   \n",
       "3         1  0.000000  0.538825  0.00  0.5  0.196344  0.724230  0.235606   \n",
       "4         0  0.100000  0.517794  0.00  0.0  0.494734  0.781422  0.154361   \n",
       "\n",
       "         D8        D9  ...  D1767  D1768  D1769  D1770  D1771  D1772  D1773  \\\n",
       "0  0.585445  0.743663  ...      0      0      0      0      0      0      0   \n",
       "1  0.411754  0.836582  ...      1      1      1      1      0      1      0   \n",
       "2  0.517720  0.679051  ...      0      0      0      0      0      0      0   \n",
       "3  0.288764  0.805110  ...      0      0      0      0      0      0      0   \n",
       "4  0.303809  0.812646  ...      0      0      0      0      0      0      0   \n",
       "\n",
       "   D1774  D1775  D1776  \n",
       "0      0      0      0  \n",
       "1      0      1      0  \n",
       "2      0      0      0  \n",
       "3      0      0      0  \n",
       "4      0      0      0  \n",
       "\n",
       "[5 rows x 1777 columns]"
      ]
     },
     "execution_count": 67,
     "metadata": {},
     "output_type": "execute_result"
    }
   ],
   "source": [
    "data = pd.read_csv('data/_train_sem09.csv')\n",
    "data.head()"
   ]
  },
  {
   "cell_type": "code",
   "execution_count": 68,
   "id": "5685d78c",
   "metadata": {},
   "outputs": [],
   "source": [
    "X = data.drop(['Activity'], axis=1)\n",
    "y = data['Activity']"
   ]
  },
  {
   "cell_type": "code",
   "execution_count": 69,
   "id": "e0363220",
   "metadata": {},
   "outputs": [],
   "source": [
    "X_train, X_test, y_train, y_test = train_test_split(X, y, random_state = 42, test_size = 0.3)"
   ]
  },
  {
   "cell_type": "markdown",
   "id": "edc64d41",
   "metadata": {},
   "source": [
    "# Мое решение"
   ]
  },
  {
   "cell_type": "markdown",
   "id": "9552846d",
   "metadata": {},
   "source": [
    "Сначала получим значения меток F1-score для логистической регресии и случайного леса без использования методов оптимизации, чтобы иметь в дальнейшем базу для сравнения."
   ]
  },
  {
   "cell_type": "markdown",
   "id": "cf31af26",
   "metadata": {},
   "source": [
    "Для обобщения результатов создаем два словаря logreg и ranfor, в которые будем заносить результаты обучения каждым методом. "
   ]
  },
  {
   "cell_type": "code",
   "execution_count": 70,
   "id": "09422778",
   "metadata": {},
   "outputs": [],
   "source": [
    "logreg = {}\n",
    "ranfor = {}"
   ]
  },
  {
   "cell_type": "markdown",
   "id": "ea571b43",
   "metadata": {},
   "source": [
    "### Логистическая регрессия (без методов оптимизации)"
   ]
  },
  {
   "cell_type": "code",
   "execution_count": 71,
   "id": "1270aa82",
   "metadata": {},
   "outputs": [
    {
     "name": "stdout",
     "output_type": "stream",
     "text": [
      "f1_score на тестовом наборе: 0.78\n"
     ]
    },
    {
     "name": "stderr",
     "output_type": "stream",
     "text": [
      "C:\\Users\\ASUS\\anaconda3\\lib\\site-packages\\sklearn\\linear_model\\_logistic.py:444: ConvergenceWarning: lbfgs failed to converge (status=1):\n",
      "STOP: TOTAL NO. of ITERATIONS REACHED LIMIT.\n",
      "\n",
      "Increase the number of iterations (max_iter) or scale the data as shown in:\n",
      "    https://scikit-learn.org/stable/modules/preprocessing.html\n",
      "Please also refer to the documentation for alternative solver options:\n",
      "    https://scikit-learn.org/stable/modules/linear_model.html#logistic-regression\n",
      "  n_iter_i = _check_optimize_result(\n"
     ]
    }
   ],
   "source": [
    "#Создаем объект класса логистическая регрессия\n",
    "log_reg = linear_model.LogisticRegression(random_state=42, max_iter = 50)\n",
    "#Обучаем модель\n",
    "log_reg.fit(X_train, y_train)\n",
    "\n",
    "y_test_pred = log_reg.predict(X_test)\n",
    "print('f1_score на тестовом наборе: {:.2f}'.format(metrics.f1_score(y_test, y_test_pred)))"
   ]
  },
  {
   "cell_type": "code",
   "execution_count": 72,
   "id": "9f10f73b",
   "metadata": {},
   "outputs": [
    {
     "data": {
      "text/plain": [
       "0.782"
      ]
     },
     "execution_count": 72,
     "metadata": {},
     "output_type": "execute_result"
    }
   ],
   "source": [
    "logreg['LogReg_init'] = round(metrics.f1_score(y_test, y_test_pred), 3)\n",
    "logreg['LogReg_init']"
   ]
  },
  {
   "cell_type": "markdown",
   "id": "72b8d438",
   "metadata": {},
   "source": [
    "### Случайный лес (без методов оптимизации)"
   ]
  },
  {
   "cell_type": "code",
   "execution_count": 73,
   "id": "3327e6ee",
   "metadata": {},
   "outputs": [
    {
     "name": "stdout",
     "output_type": "stream",
     "text": [
      "f1_score на тестовом наборе: 0.82\n"
     ]
    }
   ],
   "source": [
    "#Создаем объект класса случайный лес\n",
    "rf = ensemble.RandomForestClassifier(random_state=42)\n",
    "#Обучаем модель\n",
    "rf.fit(X_train, y_train)\n",
    "\n",
    "y_test_pred = rf.predict(X_test)\n",
    "print('f1_score на тестовом наборе: {:.2f}'.format(metrics.f1_score(y_test, y_test_pred)))"
   ]
  },
  {
   "cell_type": "code",
   "execution_count": 74,
   "id": "f140ae8f",
   "metadata": {},
   "outputs": [
    {
     "data": {
      "text/plain": [
       "0.817"
      ]
     },
     "execution_count": 74,
     "metadata": {},
     "output_type": "execute_result"
    }
   ],
   "source": [
    "ranfor['RanFor_init'] = round(metrics.f1_score(y_test, y_test_pred), 3)\n",
    "ranfor['RanFor_init']"
   ]
  },
  {
   "cell_type": "markdown",
   "id": "e0d4ff66",
   "metadata": {},
   "source": [
    "Далее последовательно используются методы оптимизации"
   ]
  },
  {
   "cell_type": "markdown",
   "id": "5df59020",
   "metadata": {},
   "source": [
    "# Метод GridSeachCV"
   ]
  },
  {
   "cell_type": "markdown",
   "id": "6dd8dba4",
   "metadata": {},
   "source": [
    "### Логистическая регрессия, метод GridSeachCV"
   ]
  },
  {
   "cell_type": "code",
   "execution_count": 75,
   "id": "5243fc69",
   "metadata": {},
   "outputs": [
    {
     "name": "stdout",
     "output_type": "stream",
     "text": [
      "CPU times: total: 8.08 s\n",
      "Wall time: 8min 35s\n",
      "f1_score на тестовом наборе: 0.79\n",
      "Наилучшие значения гиперпараметров: {'C': 0.1, 'penalty': 'l2', 'solver': 'saga'}\n"
     ]
    },
    {
     "name": "stderr",
     "output_type": "stream",
     "text": [
      "C:\\Users\\ASUS\\anaconda3\\lib\\site-packages\\sklearn\\linear_model\\_sag.py:350: ConvergenceWarning: The max_iter was reached which means the coef_ did not converge\n",
      "  warnings.warn(\n"
     ]
    }
   ],
   "source": [
    "param_grid = [\n",
    "    {'penalty' : ['l2', 'none'], # тип регуляризации\n",
    "    'solver' : ['newton-cg', 'lbfgs', 'sag'], # алгоритм оптимизации\n",
    "    'C' : [0.01, 0.1, 0.3, 0.5, 0.7, 0.9, 1]}, # уровень силы регурялизации\n",
    "    # другой набор гиперпараметров\n",
    "    {'penalty': ['l1', 'l2'] ,\n",
    "    'solver': ['liblinear', 'saga'],\n",
    "    'C': [0.01, 0.1, 0.3, 0.5, 0.7, 0.9, 1]}\n",
    "]\n",
    "\n",
    "grid_search_LR = GridSearchCV(\n",
    "    estimator = linear_model.LogisticRegression(random_state= 42, max_iter = 50),\n",
    "    param_grid = param_grid,\n",
    "    cv = 5,\n",
    "    n_jobs = -1,\n",
    "    scoring='f1'\n",
    ")\n",
    "%time grid_search_LR.fit(X_train, y_train)\n",
    "\n",
    "y_test_pred = grid_search_LR.predict(X_test)\n",
    "\n",
    "print('f1_score на тестовом наборе: {:.2f}'.format(metrics.f1_score(y_test, y_test_pred)))\n",
    "print(\"Наилучшие значения гиперпараметров: {}\".format(grid_search_LR.best_params_))"
   ]
  },
  {
   "cell_type": "code",
   "execution_count": 76,
   "id": "80ef6f13",
   "metadata": {},
   "outputs": [
    {
     "data": {
      "text/plain": [
       "0.794"
      ]
     },
     "execution_count": 76,
     "metadata": {},
     "output_type": "execute_result"
    }
   ],
   "source": [
    "logreg['LogReg_GridSeach'] = round(metrics.f1_score(y_test, y_test_pred), 3)\n",
    "logreg['LogReg_GridSeach']"
   ]
  },
  {
   "cell_type": "markdown",
   "id": "24ca217e",
   "metadata": {},
   "source": [
    "### Случайный лес, метод GridSeachCV"
   ]
  },
  {
   "cell_type": "code",
   "execution_count": 77,
   "id": "5c1831d0",
   "metadata": {},
   "outputs": [
    {
     "name": "stdout",
     "output_type": "stream",
     "text": [
      "CPU times: total: 3.69 s\n",
      "Wall time: 58.4 s\n",
      "f1_score на тестовом наборе: 0.82\n",
      "Наилучшие значения гиперпараметров: {'n_estimators': 170, 'min_samples_leaf': 5, 'max_depth': 30}\n"
     ]
    }
   ],
   "source": [
    "param_distributions = {'n_estimators': list(range(80, 200, 30)),\n",
    "              'min_samples_leaf': list(np.linspace(5, 25, 5, dtype=int)),\n",
    "              'max_depth': list(np.linspace(1, 40, 5, dtype=int))\n",
    "              }\n",
    "            \n",
    "random_search_forest = RandomizedSearchCV(\n",
    "    estimator=ensemble.RandomForestClassifier(random_state=42), \n",
    "    param_distributions=param_distributions, \n",
    "    cv=5,\n",
    "    n_iter = 50, \n",
    "    n_jobs = -1,\n",
    "    scoring = 'f1'\n",
    ")  \n",
    "%time random_search_forest.fit(X_train, y_train) \n",
    "\n",
    "y_test_pred = random_search_forest.predict(X_test)\n",
    "print('f1_score на тестовом наборе: {:.2f}'.format(metrics.f1_score(y_test, y_test_pred)))\n",
    "print(\"Наилучшие значения гиперпараметров: {}\".format(random_search_forest.best_params_))"
   ]
  },
  {
   "cell_type": "code",
   "execution_count": 78,
   "id": "9f3a6710",
   "metadata": {},
   "outputs": [
    {
     "data": {
      "text/plain": [
       "0.817"
      ]
     },
     "execution_count": 78,
     "metadata": {},
     "output_type": "execute_result"
    }
   ],
   "source": [
    "ranfor['RanFor_GridSeach'] = round(metrics.f1_score(y_test, y_test_pred), 3)\n",
    "ranfor['RanFor_GridSeach']"
   ]
  },
  {
   "cell_type": "markdown",
   "id": "f543bfb3",
   "metadata": {},
   "source": [
    "# Метод RandomizedSeachCV"
   ]
  },
  {
   "cell_type": "markdown",
   "id": "41ce4c1d",
   "metadata": {},
   "source": [
    "### Логистическая регрессия, метод RandomizedSeachCV"
   ]
  },
  {
   "cell_type": "code",
   "execution_count": 79,
   "id": "e67dff66",
   "metadata": {},
   "outputs": [
    {
     "name": "stdout",
     "output_type": "stream",
     "text": [
      "CPU times: total: 3.42 s\n",
      "Wall time: 3min 7s\n",
      "f1_score на тестовом наборе: 0.79\n",
      "Наилучшие значения гиперпараметров: {'solver': 'saga', 'penalty': 'l2', 'C': 0.12}\n"
     ]
    },
    {
     "name": "stderr",
     "output_type": "stream",
     "text": [
      "C:\\Users\\ASUS\\anaconda3\\lib\\site-packages\\sklearn\\linear_model\\_sag.py:350: ConvergenceWarning: The max_iter was reached which means the coef_ did not converge\n",
      "  warnings.warn(\n"
     ]
    }
   ],
   "source": [
    "param_distributions = [\n",
    "                        {'penalty': ['l2', 'none'] , # тип регуляризации\n",
    "                         'solver' : ['newton-cg', 'lbfgs', 'sag'], # алгоритм оптимизации\n",
    "                          'C': list(np.linspace(0.01, 1, 10, dtype=float))\n",
    "                        },\n",
    "                        {'penalty': ['l1', 'l2'] ,\n",
    "                         'solver': ['liblinear', 'saga'],\n",
    "                          'C': list(np.linspace(0.01, 1, 10, dtype=float))\n",
    "                        }]\n",
    "random_search_LR = RandomizedSearchCV(\n",
    "    estimator=linear_model.LogisticRegression(random_state=42, max_iter= 50), \n",
    "    param_distributions=param_distributions, \n",
    "    cv=5,\n",
    "    n_iter = 20, \n",
    "    n_jobs = -1,\n",
    "    scoring='f1'\n",
    ")  \n",
    "%time random_search_LR.fit(X_train, y_train) \n",
    "\n",
    "y_test_pred = random_search_LR.predict(X_test)\n",
    "print('f1_score на тестовом наборе: {:.2f}'.format(metrics.f1_score(y_test, y_test_pred)))\n",
    "print(\"Наилучшие значения гиперпараметров: {}\".format(random_search_LR.best_params_))"
   ]
  },
  {
   "cell_type": "code",
   "execution_count": 80,
   "id": "d41821f4",
   "metadata": {},
   "outputs": [
    {
     "data": {
      "text/plain": [
       "0.794"
      ]
     },
     "execution_count": 80,
     "metadata": {},
     "output_type": "execute_result"
    }
   ],
   "source": [
    "logreg['LogReg_RandSeach'] = round(metrics.f1_score(y_test, y_test_pred), 3)\n",
    "logreg['LogReg_RandSeach']"
   ]
  },
  {
   "cell_type": "markdown",
   "id": "32a1f314",
   "metadata": {},
   "source": [
    "### Случайный лес, метод RandomizedSeachCV"
   ]
  },
  {
   "cell_type": "code",
   "execution_count": 81,
   "id": "23eec991",
   "metadata": {
    "scrolled": true
   },
   "outputs": [
    {
     "name": "stdout",
     "output_type": "stream",
     "text": [
      "CPU times: total: 2.94 s\n",
      "Wall time: 58 s\n",
      "f1_score на тестовом наборе: 0.82\n",
      "Наилучшие значения гиперпараметров: {'n_estimators': 140, 'min_samples_leaf': 5, 'max_depth': 40}\n"
     ]
    }
   ],
   "source": [
    "param_distributions = {'n_estimators': list(range(80, 200, 30)),\n",
    "              'min_samples_leaf': list(np.linspace(5, 25, 5, dtype=int)),\n",
    "              'max_depth': list(np.linspace(1, 40, 5, dtype=int))\n",
    "              }\n",
    "            \n",
    "random_search_RF = RandomizedSearchCV(\n",
    "    estimator=ensemble.RandomForestClassifier(random_state=42), \n",
    "    param_distributions=param_distributions, \n",
    "    cv=5,\n",
    "    n_iter = 50, \n",
    "    n_jobs = -1,\n",
    "    scoring= 'f1'\n",
    ")  \n",
    "%time random_search_RF.fit(X_train, y_train) \n",
    "\n",
    "y_test_pred = random_search_RF.predict(X_test)\n",
    "print('f1_score на тестовом наборе: {:.2f}'.format(metrics.f1_score(y_test, y_test_pred)))\n",
    "print(\"Наилучшие значения гиперпараметров: {}\".format(random_search_RF.best_params_))"
   ]
  },
  {
   "cell_type": "code",
   "execution_count": 82,
   "id": "b9542df3",
   "metadata": {},
   "outputs": [
    {
     "data": {
      "text/plain": [
       "0.815"
      ]
     },
     "execution_count": 82,
     "metadata": {},
     "output_type": "execute_result"
    }
   ],
   "source": [
    "ranfor['RanFor_RandSeach'] = round(metrics.f1_score(y_test, y_test_pred), 3)\n",
    "ranfor['RanFor_RandSeach']"
   ]
  },
  {
   "cell_type": "markdown",
   "id": "2acb8708",
   "metadata": {},
   "source": [
    "# Метод Hyperopt"
   ]
  },
  {
   "cell_type": "code",
   "execution_count": 83,
   "id": "d9ceb7da",
   "metadata": {},
   "outputs": [
    {
     "name": "stdout",
     "output_type": "stream",
     "text": [
      "Версия Hyperopt : 0.2.5\n"
     ]
    }
   ],
   "source": [
    "# Уточняем текущую версию HyperOpt\n",
    "print(\"Версия Hyperopt : {}\".format(hyperopt.__version__))"
   ]
  },
  {
   "cell_type": "markdown",
   "id": "369599ea",
   "metadata": {},
   "source": [
    "### Логистическая регрессия, метод HyperOpt"
   ]
  },
  {
   "cell_type": "code",
   "execution_count": 84,
   "id": "1db8bc34",
   "metadata": {},
   "outputs": [],
   "source": [
    "space ={\n",
    "    'penalty' : hp.choice(label='penalty', options= ['l1', 'l2']), # тип регуляризации\n",
    "    'solver' : hp.choice(label = 'solver', options= ['liblinear', 'saga']), # алгоритм оптимизации\n",
    "    'C' : hp.loguniform(label='C', low=-2*np.log(10), high=2*np.log(10)), # уровень силы регурялизации\n",
    "    'max_iter': hp.choice('max_iter', [50])}"
   ]
  },
  {
   "cell_type": "code",
   "execution_count": 85,
   "id": "f7ef6e42",
   "metadata": {},
   "outputs": [],
   "source": [
    "random_state = 42\n",
    "def hyperopt_logr(params, cv=5, X=X_train, y=y_train, random_state=random_state):\n",
    "    params = {'penalty': params['penalty'],\n",
    "              'solver': params['solver'],\n",
    "              'C': params['C'],\n",
    "              'max_iter': params['max_iter']\n",
    "              }\n",
    "    model_HO = linear_model.LogisticRegression(**params, random_state=random_state)\n",
    "\n",
    "    # обучаем модель\n",
    "    model_HO.fit(X, y)\n",
    "    score = cross_val_score(model_HO, X, y, cv=cv, scoring=\"f1\", n_jobs=-1).mean()\n",
    "\n",
    "    # метрику необходимо минимизировать, поэтому ставим знак минус\n",
    "    return -score"
   ]
  },
  {
   "cell_type": "code",
   "execution_count": 86,
   "id": "115f531e",
   "metadata": {},
   "outputs": [
    {
     "name": "stdout",
     "output_type": "stream",
     "text": [
      "\r",
      "  0%|                                                                           | 0/50 [00:00<?, ?trial/s, best loss=?]"
     ]
    },
    {
     "name": "stderr",
     "output_type": "stream",
     "text": [
      "C:\\Users\\ASUS\\anaconda3\\lib\\site-packages\\sklearn\\linear_model\\_sag.py:350: ConvergenceWarning: The max_iter was reached which means the coef_ did not converge\n",
      "  warnings.warn(\n",
      "\n"
     ]
    },
    {
     "name": "stdout",
     "output_type": "stream",
     "text": [
      "  8%|███▊                                            | 4/50 [00:44<09:22, 12.23s/trial, best loss: -0.7644504520739478]"
     ]
    },
    {
     "name": "stderr",
     "output_type": "stream",
     "text": [
      "C:\\Users\\ASUS\\anaconda3\\lib\\site-packages\\sklearn\\linear_model\\_sag.py:350: ConvergenceWarning: The max_iter was reached which means the coef_ did not converge\n",
      "  warnings.warn(\n",
      "\n"
     ]
    },
    {
     "name": "stdout",
     "output_type": "stream",
     "text": [
      "\r",
      " 10%|████▊                                           | 5/50 [00:52<07:57, 10.62s/trial, best loss: -0.7644504520739478]"
     ]
    },
    {
     "name": "stderr",
     "output_type": "stream",
     "text": [
      "C:\\Users\\ASUS\\anaconda3\\lib\\site-packages\\sklearn\\linear_model\\_sag.py:350: ConvergenceWarning: The max_iter was reached which means the coef_ did not converge\n",
      "  warnings.warn(\n",
      "\n"
     ]
    },
    {
     "name": "stdout",
     "output_type": "stream",
     "text": [
      " 20%|█████████▍                                     | 10/50 [02:10<09:00, 13.50s/trial, best loss: -0.7772004929471606]"
     ]
    },
    {
     "name": "stderr",
     "output_type": "stream",
     "text": [
      "C:\\Users\\ASUS\\anaconda3\\lib\\site-packages\\sklearn\\linear_model\\_sag.py:350: ConvergenceWarning: The max_iter was reached which means the coef_ did not converge\n",
      "  warnings.warn(\n",
      "\n"
     ]
    },
    {
     "name": "stdout",
     "output_type": "stream",
     "text": [
      " 24%|███████████▎                                   | 12/50 [02:23<05:52,  9.28s/trial, best loss: -0.7772004929471606]"
     ]
    },
    {
     "name": "stderr",
     "output_type": "stream",
     "text": [
      "C:\\Users\\ASUS\\anaconda3\\lib\\site-packages\\sklearn\\linear_model\\_sag.py:350: ConvergenceWarning: The max_iter was reached which means the coef_ did not converge\n",
      "  warnings.warn(\n",
      "\n"
     ]
    },
    {
     "name": "stdout",
     "output_type": "stream",
     "text": [
      " 32%|███████████████                                | 16/50 [02:46<03:53,  6.87s/trial, best loss: -0.7773040943091213]"
     ]
    },
    {
     "name": "stderr",
     "output_type": "stream",
     "text": [
      "C:\\Users\\ASUS\\anaconda3\\lib\\site-packages\\sklearn\\linear_model\\_sag.py:350: ConvergenceWarning: The max_iter was reached which means the coef_ did not converge\n",
      "  warnings.warn(\n",
      "\n"
     ]
    },
    {
     "name": "stdout",
     "output_type": "stream",
     "text": [
      " 36%|████████████████▉                              | 18/50 [03:01<03:55,  7.37s/trial, best loss: -0.7773040943091213]"
     ]
    },
    {
     "name": "stderr",
     "output_type": "stream",
     "text": [
      "C:\\Users\\ASUS\\anaconda3\\lib\\site-packages\\sklearn\\linear_model\\_sag.py:350: ConvergenceWarning: The max_iter was reached which means the coef_ did not converge\n",
      "  warnings.warn(\n",
      "\n"
     ]
    },
    {
     "name": "stdout",
     "output_type": "stream",
     "text": [
      " 40%|██████████████████▊                            | 20/50 [03:18<03:57,  7.90s/trial, best loss: -0.7773040943091213]"
     ]
    },
    {
     "name": "stderr",
     "output_type": "stream",
     "text": [
      "C:\\Users\\ASUS\\anaconda3\\lib\\site-packages\\sklearn\\linear_model\\_sag.py:350: ConvergenceWarning: The max_iter was reached which means the coef_ did not converge\n",
      "  warnings.warn(\n",
      "\n"
     ]
    },
    {
     "name": "stdout",
     "output_type": "stream",
     "text": [
      "\r",
      " 42%|███████████████████▋                           | 21/50 [03:27<03:54,  8.10s/trial, best loss: -0.7773040943091213]"
     ]
    },
    {
     "name": "stderr",
     "output_type": "stream",
     "text": [
      "C:\\Users\\ASUS\\anaconda3\\lib\\site-packages\\sklearn\\linear_model\\_sag.py:350: ConvergenceWarning: The max_iter was reached which means the coef_ did not converge\n",
      "  warnings.warn(\n",
      "\n"
     ]
    },
    {
     "name": "stdout",
     "output_type": "stream",
     "text": [
      "\r",
      " 44%|████████████████████▋                          | 22/50 [03:34<03:41,  7.92s/trial, best loss: -0.7773040943091213]"
     ]
    },
    {
     "name": "stderr",
     "output_type": "stream",
     "text": [
      "C:\\Users\\ASUS\\anaconda3\\lib\\site-packages\\sklearn\\linear_model\\_sag.py:350: ConvergenceWarning: The max_iter was reached which means the coef_ did not converge\n",
      "  warnings.warn(\n",
      "\n"
     ]
    },
    {
     "name": "stdout",
     "output_type": "stream",
     "text": [
      "\r",
      " 46%|█████████████████████▌                         | 23/50 [03:40<03:15,  7.26s/trial, best loss: -0.7773040943091213]"
     ]
    },
    {
     "name": "stderr",
     "output_type": "stream",
     "text": [
      "C:\\Users\\ASUS\\anaconda3\\lib\\site-packages\\sklearn\\linear_model\\_sag.py:350: ConvergenceWarning: The max_iter was reached which means the coef_ did not converge\n",
      "  warnings.warn(\n",
      "\n"
     ]
    },
    {
     "name": "stdout",
     "output_type": "stream",
     "text": [
      "\r",
      " 48%|██████████████████████▌                        | 24/50 [03:47<03:10,  7.31s/trial, best loss: -0.7773040943091213]"
     ]
    },
    {
     "name": "stderr",
     "output_type": "stream",
     "text": [
      "C:\\Users\\ASUS\\anaconda3\\lib\\site-packages\\sklearn\\linear_model\\_sag.py:350: ConvergenceWarning: The max_iter was reached which means the coef_ did not converge\n",
      "  warnings.warn(\n",
      "\n"
     ]
    },
    {
     "name": "stdout",
     "output_type": "stream",
     "text": [
      "\r",
      " 50%|███████████████████████▌                       | 25/50 [03:53<02:51,  6.88s/trial, best loss: -0.7773040943091213]"
     ]
    },
    {
     "name": "stderr",
     "output_type": "stream",
     "text": [
      "C:\\Users\\ASUS\\anaconda3\\lib\\site-packages\\sklearn\\linear_model\\_sag.py:350: ConvergenceWarning: The max_iter was reached which means the coef_ did not converge\n",
      "  warnings.warn(\n",
      "\n"
     ]
    },
    {
     "name": "stdout",
     "output_type": "stream",
     "text": [
      "\r",
      " 52%|████████████████████████▍                      | 26/50 [04:02<02:58,  7.45s/trial, best loss: -0.7774848275791342]"
     ]
    },
    {
     "name": "stderr",
     "output_type": "stream",
     "text": [
      "C:\\Users\\ASUS\\anaconda3\\lib\\site-packages\\sklearn\\linear_model\\_sag.py:350: ConvergenceWarning: The max_iter was reached which means the coef_ did not converge\n",
      "  warnings.warn(\n",
      "\n"
     ]
    },
    {
     "name": "stdout",
     "output_type": "stream",
     "text": [
      "\r",
      " 54%|█████████████████████████▍                     | 27/50 [04:07<02:37,  6.83s/trial, best loss: -0.7774848275791342]"
     ]
    },
    {
     "name": "stderr",
     "output_type": "stream",
     "text": [
      "C:\\Users\\ASUS\\anaconda3\\lib\\site-packages\\sklearn\\linear_model\\_sag.py:350: ConvergenceWarning: The max_iter was reached which means the coef_ did not converge\n",
      "  warnings.warn(\n",
      "\n"
     ]
    },
    {
     "name": "stdout",
     "output_type": "stream",
     "text": [
      "\r",
      " 56%|██████████████████████████▎                    | 28/50 [04:15<02:36,  7.09s/trial, best loss: -0.7774848275791342]"
     ]
    },
    {
     "name": "stderr",
     "output_type": "stream",
     "text": [
      "C:\\Users\\ASUS\\anaconda3\\lib\\site-packages\\sklearn\\linear_model\\_sag.py:350: ConvergenceWarning: The max_iter was reached which means the coef_ did not converge\n",
      "  warnings.warn(\n",
      "\n"
     ]
    },
    {
     "name": "stdout",
     "output_type": "stream",
     "text": [
      "\r",
      " 58%|███████████████████████████▎                   | 29/50 [04:20<02:19,  6.64s/trial, best loss: -0.7774848275791342]"
     ]
    },
    {
     "name": "stderr",
     "output_type": "stream",
     "text": [
      "C:\\Users\\ASUS\\anaconda3\\lib\\site-packages\\sklearn\\linear_model\\_sag.py:350: ConvergenceWarning: The max_iter was reached which means the coef_ did not converge\n",
      "  warnings.warn(\n",
      "\n"
     ]
    },
    {
     "name": "stdout",
     "output_type": "stream",
     "text": [
      "\r",
      " 60%|████████████████████████████▊                   | 30/50 [04:29<02:23,  7.20s/trial, best loss: -0.777617316199278]"
     ]
    },
    {
     "name": "stderr",
     "output_type": "stream",
     "text": [
      "C:\\Users\\ASUS\\anaconda3\\lib\\site-packages\\sklearn\\linear_model\\_sag.py:350: ConvergenceWarning: The max_iter was reached which means the coef_ did not converge\n",
      "  warnings.warn(\n",
      "\n"
     ]
    },
    {
     "name": "stdout",
     "output_type": "stream",
     "text": [
      "\r",
      " 62%|█████████████████████████████▊                  | 31/50 [04:38<02:26,  7.71s/trial, best loss: -0.777617316199278]"
     ]
    },
    {
     "name": "stderr",
     "output_type": "stream",
     "text": [
      "C:\\Users\\ASUS\\anaconda3\\lib\\site-packages\\sklearn\\linear_model\\_sag.py:350: ConvergenceWarning: The max_iter was reached which means the coef_ did not converge\n",
      "  warnings.warn(\n",
      "\n"
     ]
    },
    {
     "name": "stdout",
     "output_type": "stream",
     "text": [
      "\r",
      " 64%|██████████████████████████████▋                 | 32/50 [04:48<02:31,  8.39s/trial, best loss: -0.777617316199278]"
     ]
    },
    {
     "name": "stderr",
     "output_type": "stream",
     "text": [
      "C:\\Users\\ASUS\\anaconda3\\lib\\site-packages\\sklearn\\linear_model\\_sag.py:350: ConvergenceWarning: The max_iter was reached which means the coef_ did not converge\n",
      "  warnings.warn(\n",
      "\n"
     ]
    },
    {
     "name": "stdout",
     "output_type": "stream",
     "text": [
      "\r",
      " 66%|███████████████████████████████▋                | 33/50 [04:56<02:20,  8.26s/trial, best loss: -0.777617316199278]"
     ]
    },
    {
     "name": "stderr",
     "output_type": "stream",
     "text": [
      "C:\\Users\\ASUS\\anaconda3\\lib\\site-packages\\sklearn\\linear_model\\_sag.py:350: ConvergenceWarning: The max_iter was reached which means the coef_ did not converge\n",
      "  warnings.warn(\n",
      "\n"
     ]
    },
    {
     "name": "stdout",
     "output_type": "stream",
     "text": [
      "\r",
      " 68%|████████████████████████████████▋               | 34/50 [05:03<02:06,  7.89s/trial, best loss: -0.777617316199278]"
     ]
    },
    {
     "name": "stderr",
     "output_type": "stream",
     "text": [
      "C:\\Users\\ASUS\\anaconda3\\lib\\site-packages\\sklearn\\linear_model\\_sag.py:350: ConvergenceWarning: The max_iter was reached which means the coef_ did not converge\n",
      "  warnings.warn(\n",
      "\n"
     ]
    },
    {
     "name": "stdout",
     "output_type": "stream",
     "text": [
      "\r",
      " 70%|█████████████████████████████████▌              | 35/50 [05:12<02:05,  8.36s/trial, best loss: -0.777617316199278]"
     ]
    },
    {
     "name": "stderr",
     "output_type": "stream",
     "text": [
      "C:\\Users\\ASUS\\anaconda3\\lib\\site-packages\\sklearn\\linear_model\\_sag.py:350: ConvergenceWarning: The max_iter was reached which means the coef_ did not converge\n",
      "  warnings.warn(\n",
      "\n"
     ]
    },
    {
     "name": "stdout",
     "output_type": "stream",
     "text": [
      "\r",
      " 72%|██████████████████████████████████▌             | 36/50 [05:22<02:02,  8.77s/trial, best loss: -0.777617316199278]"
     ]
    },
    {
     "name": "stderr",
     "output_type": "stream",
     "text": [
      "C:\\Users\\ASUS\\anaconda3\\lib\\site-packages\\sklearn\\linear_model\\_sag.py:350: ConvergenceWarning: The max_iter was reached which means the coef_ did not converge\n",
      "  warnings.warn(\n",
      "\n"
     ]
    },
    {
     "name": "stdout",
     "output_type": "stream",
     "text": [
      "\r",
      " 74%|███████████████████████████████████▌            | 37/50 [05:31<01:55,  8.86s/trial, best loss: -0.777617316199278]"
     ]
    },
    {
     "name": "stderr",
     "output_type": "stream",
     "text": [
      "C:\\Users\\ASUS\\anaconda3\\lib\\site-packages\\sklearn\\linear_model\\_sag.py:350: ConvergenceWarning: The max_iter was reached which means the coef_ did not converge\n",
      "  warnings.warn(\n",
      "\n"
     ]
    },
    {
     "name": "stdout",
     "output_type": "stream",
     "text": [
      "\r",
      " 76%|████████████████████████████████████▍           | 38/50 [05:42<01:51,  9.33s/trial, best loss: -0.777617316199278]"
     ]
    },
    {
     "name": "stderr",
     "output_type": "stream",
     "text": [
      "C:\\Users\\ASUS\\anaconda3\\lib\\site-packages\\sklearn\\linear_model\\_sag.py:350: ConvergenceWarning: The max_iter was reached which means the coef_ did not converge\n",
      "  warnings.warn(\n",
      "\n"
     ]
    },
    {
     "name": "stdout",
     "output_type": "stream",
     "text": [
      "\r",
      " 78%|█████████████████████████████████████▍          | 39/50 [05:50<01:40,  9.14s/trial, best loss: -0.777617316199278]"
     ]
    },
    {
     "name": "stderr",
     "output_type": "stream",
     "text": [
      "C:\\Users\\ASUS\\anaconda3\\lib\\site-packages\\sklearn\\linear_model\\_sag.py:350: ConvergenceWarning: The max_iter was reached which means the coef_ did not converge\n",
      "  warnings.warn(\n",
      "\n"
     ]
    },
    {
     "name": "stdout",
     "output_type": "stream",
     "text": [
      "\r",
      " 80%|██████████████████████████████████████▍         | 40/50 [06:01<01:36,  9.67s/trial, best loss: -0.777617316199278]"
     ]
    },
    {
     "name": "stderr",
     "output_type": "stream",
     "text": [
      "C:\\Users\\ASUS\\anaconda3\\lib\\site-packages\\sklearn\\linear_model\\_sag.py:350: ConvergenceWarning: The max_iter was reached which means the coef_ did not converge\n",
      "  warnings.warn(\n",
      "\n"
     ]
    },
    {
     "name": "stdout",
     "output_type": "stream",
     "text": [
      " 84%|████████████████████████████████████████▎       | 42/50 [06:13<01:01,  7.67s/trial, best loss: -0.777617316199278]"
     ]
    },
    {
     "name": "stderr",
     "output_type": "stream",
     "text": [
      "C:\\Users\\ASUS\\anaconda3\\lib\\site-packages\\sklearn\\linear_model\\_sag.py:350: ConvergenceWarning: The max_iter was reached which means the coef_ did not converge\n",
      "  warnings.warn(\n",
      "\n"
     ]
    },
    {
     "name": "stdout",
     "output_type": "stream",
     "text": [
      "\r",
      " 86%|█████████████████████████████████████████▎      | 43/50 [06:22<00:56,  8.00s/trial, best loss: -0.777617316199278]"
     ]
    },
    {
     "name": "stderr",
     "output_type": "stream",
     "text": [
      "C:\\Users\\ASUS\\anaconda3\\lib\\site-packages\\sklearn\\linear_model\\_sag.py:350: ConvergenceWarning: The max_iter was reached which means the coef_ did not converge\n",
      "  warnings.warn(\n",
      "\n"
     ]
    },
    {
     "name": "stdout",
     "output_type": "stream",
     "text": [
      " 90%|███████████████████████████████████████████▏    | 45/50 [06:36<00:36,  7.24s/trial, best loss: -0.777617316199278]"
     ]
    },
    {
     "name": "stderr",
     "output_type": "stream",
     "text": [
      "C:\\Users\\ASUS\\anaconda3\\lib\\site-packages\\sklearn\\linear_model\\_sag.py:350: ConvergenceWarning: The max_iter was reached which means the coef_ did not converge\n",
      "  warnings.warn(\n",
      "\n"
     ]
    },
    {
     "name": "stdout",
     "output_type": "stream",
     "text": [
      " 94%|█████████████████████████████████████████████   | 47/50 [07:11<00:39, 13.16s/trial, best loss: -0.777617316199278]"
     ]
    },
    {
     "name": "stderr",
     "output_type": "stream",
     "text": [
      "C:\\Users\\ASUS\\anaconda3\\lib\\site-packages\\sklearn\\linear_model\\_sag.py:350: ConvergenceWarning: The max_iter was reached which means the coef_ did not converge\n",
      "  warnings.warn(\n",
      "\n"
     ]
    },
    {
     "name": "stdout",
     "output_type": "stream",
     "text": [
      " 98%|███████████████████████████████████████████████ | 49/50 [07:22<00:08,  8.85s/trial, best loss: -0.777617316199278]"
     ]
    },
    {
     "name": "stderr",
     "output_type": "stream",
     "text": [
      "C:\\Users\\ASUS\\anaconda3\\lib\\site-packages\\sklearn\\linear_model\\_sag.py:350: ConvergenceWarning: The max_iter was reached which means the coef_ did not converge\n",
      "  warnings.warn(\n",
      "\n"
     ]
    },
    {
     "name": "stdout",
     "output_type": "stream",
     "text": [
      "100%|████████████████████████████████████████████████| 50/50 [07:31<00:00,  9.02s/trial, best loss: -0.777617316199278]\n",
      "Наилучшие значения гиперпараметров {'C': 0.7038661632470573, 'max_iter': 0, 'penalty': 0, 'solver': 1}\n",
      "CPU times: total: 3min 18s\n",
      "Wall time: 7min 31s\n"
     ]
    }
   ],
   "source": [
    "%%time\n",
    "# начинаем подбор гиперпараметров\n",
    "trials = Trials() # используется для логирования результатов\n",
    "\n",
    "best=fmin(hyperopt_logr, # наша функция \n",
    "          space=space, # пространство гиперпараметров\n",
    "          algo=tpe.suggest, # алгоритм оптимизации, установлен по умолчанию, задавать необязательно\n",
    "          max_evals=50, # максимальное количество итераций\n",
    "          trials=trials, # логирование результатов\n",
    "          # rstate = np.random.default_rng(42) # для версии 0.2.7\n",
    "          rstate=np.random.RandomState(42) # (random_state)# фиксируем для повторяемости результата\n",
    "         )\n",
    "print(\"Наилучшие значения гиперпараметров {}\".format(best))"
   ]
  },
  {
   "cell_type": "markdown",
   "id": "5ed727ca",
   "metadata": {},
   "source": [
    "Поскольку данная версия hyperopt в качестве индексов массива выдает для логистической регрессии только индексы массива, то воспользуемся space_eval, чтобы обращаться к элементам массива напрямую"
   ]
  },
  {
   "cell_type": "code",
   "execution_count": 87,
   "id": "310ffeb9",
   "metadata": {},
   "outputs": [
    {
     "data": {
      "text/plain": [
       "{'C': 0.7038661632470573, 'max_iter': 50, 'penalty': 'l1', 'solver': 'saga'}"
      ]
     },
     "execution_count": 87,
     "metadata": {},
     "output_type": "execute_result"
    }
   ],
   "source": [
    "from hyperopt import space_eval\n",
    "hyperparams = space_eval(space, best)\n",
    "hyperparams"
   ]
  },
  {
   "cell_type": "code",
   "execution_count": 88,
   "id": "51cba0aa",
   "metadata": {},
   "outputs": [
    {
     "name": "stdout",
     "output_type": "stream",
     "text": [
      "f1_score на тестовом наборе: 0.80\n"
     ]
    },
    {
     "name": "stderr",
     "output_type": "stream",
     "text": [
      "C:\\Users\\ASUS\\anaconda3\\lib\\site-packages\\sklearn\\linear_model\\_sag.py:350: ConvergenceWarning: The max_iter was reached which means the coef_ did not converge\n",
      "  warnings.warn(\n"
     ]
    }
   ],
   "source": [
    "# рассчитаем точность для тестовой выборки\n",
    "model_HO = linear_model.LogisticRegression(\n",
    "    random_state=random_state,\n",
    "    penalty = hyperparams['penalty'],\n",
    "    solver = hyperparams['solver'],\n",
    "    C = hyperparams['C'],\n",
    "    max_iter = hyperparams['max_iter']\n",
    "    )\n",
    "model_HO.fit(X_train, y_train)\n",
    "\n",
    "y_test_pred = model_HO.predict(X_test)\n",
    "print('f1_score на тестовом наборе: {:.2f}'.format(metrics.f1_score(y_test, y_test_pred)))"
   ]
  },
  {
   "cell_type": "code",
   "execution_count": 89,
   "id": "ce017adc",
   "metadata": {},
   "outputs": [
    {
     "data": {
      "text/plain": [
       "0.796"
      ]
     },
     "execution_count": 89,
     "metadata": {},
     "output_type": "execute_result"
    }
   ],
   "source": [
    "logreg['LogReg_HO'] = round(metrics.f1_score(y_test, y_test_pred), 3)\n",
    "logreg['LogReg_HO']"
   ]
  },
  {
   "cell_type": "markdown",
   "id": "a0c3ecee",
   "metadata": {},
   "source": [
    "### Случайный лес, метод HyperOpt"
   ]
  },
  {
   "cell_type": "code",
   "execution_count": 90,
   "id": "c8c0e2b4",
   "metadata": {},
   "outputs": [],
   "source": [
    "# зададим пространство поиска гиперпараметров\n",
    "space={'n_estimators': hp.quniform('n_estimators', 80, 200, 1),\n",
    "       'max_depth' : hp.quniform('max_depth', 1, 30, 1),\n",
    "       'min_samples_leaf': hp.quniform('min_samples_leaf', 5, 25, 1)\n",
    "      }"
   ]
  },
  {
   "cell_type": "code",
   "execution_count": 91,
   "id": "25633cd8",
   "metadata": {},
   "outputs": [],
   "source": [
    "random_state = 42\n",
    "def hyperopt_rf(params, cv=5, X=X_train, y=y_train, random_state=random_state):\n",
    "    \n",
    "    params = {'n_estimators': int(params['n_estimators']), \n",
    "              'max_depth': int(params['max_depth']), \n",
    "             'min_samples_leaf': int(params['min_samples_leaf'])\n",
    "    }\n",
    "    # используем эту комбинацию для построения модели   \n",
    "    model_HO_RF = ensemble.RandomForestClassifier(**params, random_state=random_state)\n",
    "\n",
    "    # обучаем модель\n",
    "    model_HO_RF.fit(X, y)\n",
    "    score = cross_val_score(model_HO_RF, X, y, cv=cv, scoring=\"f1\", n_jobs=-1).mean()\n",
    "\n",
    "    return -score  "
   ]
  },
  {
   "cell_type": "code",
   "execution_count": 92,
   "id": "a5548f97",
   "metadata": {
    "scrolled": true
   },
   "outputs": [
    {
     "name": "stdout",
     "output_type": "stream",
     "text": [
      "100%|███████████████████████████████████████████████| 50/50 [02:48<00:00,  3.37s/trial, best loss: -0.8005102732363687]\n",
      "Наилучшие значения гиперпараметров {'max_depth': 30.0, 'min_samples_leaf': 5.0, 'n_estimators': 115.0}\n",
      "CPU times: total: 1min 11s\n",
      "Wall time: 2min 48s\n"
     ]
    }
   ],
   "source": [
    "%%time\n",
    "# начинаем подбор гиперпараметров\n",
    "trials = Trials() # используется для логирования результатов\n",
    "\n",
    "best=fmin(hyperopt_rf, # наша функция \n",
    "          space=space, # пространство гиперпараметров\n",
    "          algo=tpe.suggest, # алгоритм оптимизации, установлен по умолчанию, задавать необязательно\n",
    "          max_evals=50, # максимальное количество итераций\n",
    "          trials=trials, # логирование результатов\n",
    "          # rstate = np.random.default_rng(42) # для версии 0.2.7\n",
    "          rstate=np.random.RandomState(42) # (random_state)# для версии 0.2.5, фиксируем для повторяемости результата\n",
    "         )\n",
    "print(\"Наилучшие значения гиперпараметров {}\".format(best))"
   ]
  },
  {
   "cell_type": "code",
   "execution_count": 93,
   "id": "957cc153",
   "metadata": {},
   "outputs": [
    {
     "name": "stdout",
     "output_type": "stream",
     "text": [
      "f1_score на тестовом наборе: 0.82\n"
     ]
    }
   ],
   "source": [
    "# рассчитаем точность для тестовой выборки\n",
    "model_HO_RF = ensemble.RandomForestClassifier(\n",
    "    random_state=random_state, \n",
    "    n_estimators=int(best['n_estimators']),\n",
    "    max_depth=int(best['max_depth']),\n",
    "    min_samples_leaf=int(best['min_samples_leaf'])\n",
    ")\n",
    "\n",
    "model_HO_RF.fit(X_train, y_train)\n",
    "\n",
    "y_test_pred = model_HO_RF.predict(X_test)\n",
    "print('f1_score на тестовом наборе: {:.2f}'.format(metrics.f1_score(y_test, y_test_pred)))"
   ]
  },
  {
   "cell_type": "code",
   "execution_count": 94,
   "id": "82c3e8d8",
   "metadata": {},
   "outputs": [
    {
     "data": {
      "text/plain": [
       "0.817"
      ]
     },
     "execution_count": 94,
     "metadata": {},
     "output_type": "execute_result"
    }
   ],
   "source": [
    "ranfor['RanFor_HO'] = round(metrics.f1_score(y_test, y_test_pred), 3)\n",
    "ranfor['RanFor_HO']"
   ]
  },
  {
   "cell_type": "markdown",
   "id": "b62983d4",
   "metadata": {},
   "source": [
    "# Метод Optuna"
   ]
  },
  {
   "cell_type": "code",
   "execution_count": 95,
   "id": "5f460298",
   "metadata": {},
   "outputs": [
    {
     "name": "stdout",
     "output_type": "stream",
     "text": [
      "Версия Optuna: 3.0.2\n"
     ]
    }
   ],
   "source": [
    "print(\"Версия Optuna: {}\".format(optuna.__version__))"
   ]
  },
  {
   "cell_type": "markdown",
   "id": "c3e8de5f",
   "metadata": {},
   "source": [
    "### Логистическая регрессия, метод Optuna "
   ]
  },
  {
   "cell_type": "code",
   "execution_count": 96,
   "id": "ed975edf",
   "metadata": {},
   "outputs": [],
   "source": [
    "random_state=42\n",
    "def optuna_lr(trial):\n",
    "    penalty = trial.suggest_categorical('penalty', ['l1', 'l2'])\n",
    "    solver = trial.suggest_categorical('solver', ['liblinear', 'saga'])\n",
    "    C = trial.suggest_float(name='C', low=0.01, high=1.01, step = 0.05)\n",
    "   \n",
    "    ## Создаем модель\n",
    "    model_Op_LR = linear_model.LogisticRegression(\n",
    "                                    penalty=penalty,\n",
    "                                    solver=solver,\n",
    "                                    C=C,\n",
    "                                    random_state=random_state\n",
    "                              )\n",
    "    ## Обучаем модель\n",
    "    model_Op_LR.fit(X_train, y_train)\n",
    "    score = cross_val_score(model_Op_LR, X_train, y_train, cv=5, scoring=\"f1\", n_jobs=-1).mean()\n",
    "    \n",
    "    return score"
   ]
  },
  {
   "cell_type": "code",
   "execution_count": 97,
   "id": "d09dfcf5",
   "metadata": {},
   "outputs": [
    {
     "name": "stderr",
     "output_type": "stream",
     "text": [
      "\u001b[32m[I 2022-10-28 19:13:29,492]\u001b[0m A new study created in memory with name: LogisticRegression\u001b[0m\n",
      "C:\\Users\\ASUS\\anaconda3\\lib\\site-packages\\sklearn\\linear_model\\_sag.py:350: ConvergenceWarning: The max_iter was reached which means the coef_ did not converge\n",
      "  warnings.warn(\n",
      "\u001b[32m[I 2022-10-28 19:13:40,161]\u001b[0m Trial 0 finished with value: 0.763296420693192 and parameters: {'penalty': 'l2', 'solver': 'saga', 'C': 0.7100000000000001}. Best is trial 0 with value: 0.763296420693192.\u001b[0m\n",
      "C:\\Users\\ASUS\\anaconda3\\lib\\site-packages\\sklearn\\linear_model\\_sag.py:350: ConvergenceWarning: The max_iter was reached which means the coef_ did not converge\n",
      "  warnings.warn(\n",
      "\u001b[32m[I 2022-10-28 19:13:50,154]\u001b[0m Trial 1 finished with value: 0.7643926177712026 and parameters: {'penalty': 'l2', 'solver': 'saga', 'C': 0.46}. Best is trial 1 with value: 0.7643926177712026.\u001b[0m\n",
      "C:\\Users\\ASUS\\anaconda3\\lib\\site-packages\\sklearn\\linear_model\\_sag.py:350: ConvergenceWarning: The max_iter was reached which means the coef_ did not converge\n",
      "  warnings.warn(\n",
      "\u001b[32m[I 2022-10-28 19:14:04,443]\u001b[0m Trial 2 finished with value: 0.7753374538744907 and parameters: {'penalty': 'l1', 'solver': 'saga', 'C': 0.36000000000000004}. Best is trial 2 with value: 0.7753374538744907.\u001b[0m\n",
      "\u001b[32m[I 2022-10-28 19:14:06,324]\u001b[0m Trial 3 finished with value: 0.7625061997233952 and parameters: {'penalty': 'l2', 'solver': 'liblinear', 'C': 0.56}. Best is trial 2 with value: 0.7753374538744907.\u001b[0m\n",
      "C:\\Users\\ASUS\\anaconda3\\lib\\site-packages\\sklearn\\linear_model\\_sag.py:350: ConvergenceWarning: The max_iter was reached which means the coef_ did not converge\n",
      "  warnings.warn(\n",
      "\u001b[32m[I 2022-10-28 19:14:22,363]\u001b[0m Trial 4 finished with value: 0.7710835486199603 and parameters: {'penalty': 'l1', 'solver': 'saga', 'C': 0.9600000000000001}. Best is trial 2 with value: 0.7753374538744907.\u001b[0m\n",
      "\u001b[32m[I 2022-10-28 19:14:24,340]\u001b[0m Trial 5 finished with value: 0.7622395079034743 and parameters: {'penalty': 'l2', 'solver': 'liblinear', 'C': 0.51}. Best is trial 2 with value: 0.7753374538744907.\u001b[0m\n",
      "C:\\Users\\ASUS\\anaconda3\\lib\\site-packages\\sklearn\\linear_model\\_sag.py:350: ConvergenceWarning: The max_iter was reached which means the coef_ did not converge\n",
      "  warnings.warn(\n",
      "\u001b[32m[I 2022-10-28 19:14:34,198]\u001b[0m Trial 6 finished with value: 0.7637161008638934 and parameters: {'penalty': 'l2', 'solver': 'saga', 'C': 0.6100000000000001}. Best is trial 2 with value: 0.7753374538744907.\u001b[0m\n",
      "C:\\Users\\ASUS\\anaconda3\\lib\\site-packages\\sklearn\\linear_model\\_sag.py:350: ConvergenceWarning: The max_iter was reached which means the coef_ did not converge\n",
      "  warnings.warn(\n",
      "\u001b[32m[I 2022-10-28 19:14:44,821]\u001b[0m Trial 7 finished with value: 0.7690977935287374 and parameters: {'penalty': 'l2', 'solver': 'saga', 'C': 0.26}. Best is trial 2 with value: 0.7753374538744907.\u001b[0m\n",
      "\u001b[32m[I 2022-10-28 19:14:46,445]\u001b[0m Trial 8 finished with value: 0.7699442531583468 and parameters: {'penalty': 'l2', 'solver': 'liblinear', 'C': 0.21000000000000002}. Best is trial 2 with value: 0.7753374538744907.\u001b[0m\n",
      "\u001b[32m[I 2022-10-28 19:14:48,345]\u001b[0m Trial 9 finished with value: 0.7640612185939148 and parameters: {'penalty': 'l2', 'solver': 'liblinear', 'C': 0.41000000000000003}. Best is trial 2 with value: 0.7753374538744907.\u001b[0m\n",
      "\u001b[32m[I 2022-10-28 19:14:51,175]\u001b[0m Trial 10 finished with value: 0.74701333922839 and parameters: {'penalty': 'l1', 'solver': 'saga', 'C': 0.01}. Best is trial 2 with value: 0.7753374538744907.\u001b[0m\n",
      "C:\\Users\\ASUS\\anaconda3\\lib\\site-packages\\sklearn\\linear_model\\_sag.py:350: ConvergenceWarning: The max_iter was reached which means the coef_ did not converge\n",
      "  warnings.warn(\n",
      "\u001b[32m[I 2022-10-28 19:15:07,795]\u001b[0m Trial 11 finished with value: 0.7710835486199603 and parameters: {'penalty': 'l1', 'solver': 'saga', 'C': 0.9600000000000001}. Best is trial 2 with value: 0.7753374538744907.\u001b[0m\n",
      "C:\\Users\\ASUS\\anaconda3\\lib\\site-packages\\sklearn\\linear_model\\_sag.py:350: ConvergenceWarning: The max_iter was reached which means the coef_ did not converge\n",
      "  warnings.warn(\n",
      "\u001b[32m[I 2022-10-28 19:15:24,367]\u001b[0m Trial 12 finished with value: 0.7700884966735146 and parameters: {'penalty': 'l1', 'solver': 'saga', 'C': 1.01}. Best is trial 2 with value: 0.7753374538744907.\u001b[0m\n",
      "C:\\Users\\ASUS\\anaconda3\\lib\\site-packages\\sklearn\\linear_model\\_sag.py:350: ConvergenceWarning: The max_iter was reached which means the coef_ did not converge\n",
      "  warnings.warn(\n",
      "\u001b[32m[I 2022-10-28 19:15:40,187]\u001b[0m Trial 13 finished with value: 0.7747811368147921 and parameters: {'penalty': 'l1', 'solver': 'saga', 'C': 0.76}. Best is trial 2 with value: 0.7753374538744907.\u001b[0m\n",
      "C:\\Users\\ASUS\\anaconda3\\lib\\site-packages\\sklearn\\linear_model\\_sag.py:350: ConvergenceWarning: The max_iter was reached which means the coef_ did not converge\n",
      "  warnings.warn(\n",
      "\u001b[32m[I 2022-10-28 19:15:56,500]\u001b[0m Trial 14 finished with value: 0.7722220983413666 and parameters: {'penalty': 'l1', 'solver': 'saga', 'C': 0.8600000000000001}. Best is trial 2 with value: 0.7753374538744907.\u001b[0m\n",
      "C:\\Users\\ASUS\\anaconda3\\lib\\site-packages\\sklearn\\linear_model\\_sag.py:350: ConvergenceWarning: The max_iter was reached which means the coef_ did not converge\n",
      "  warnings.warn(\n",
      "\u001b[32m[I 2022-10-28 19:16:13,005]\u001b[0m Trial 15 finished with value: 0.7747811368147921 and parameters: {'penalty': 'l1', 'solver': 'saga', 'C': 0.76}. Best is trial 2 with value: 0.7753374538744907.\u001b[0m\n",
      "C:\\Users\\ASUS\\anaconda3\\lib\\site-packages\\sklearn\\linear_model\\_sag.py:350: ConvergenceWarning: The max_iter was reached which means the coef_ did not converge\n",
      "  warnings.warn(\n",
      "\u001b[32m[I 2022-10-28 19:16:28,702]\u001b[0m Trial 16 finished with value: 0.7753374538744907 and parameters: {'penalty': 'l1', 'solver': 'saga', 'C': 0.36000000000000004}. Best is trial 2 with value: 0.7753374538744907.\u001b[0m\n",
      "C:\\Users\\ASUS\\anaconda3\\lib\\site-packages\\sklearn\\linear_model\\_sag.py:350: ConvergenceWarning: The max_iter was reached which means the coef_ did not converge\n",
      "  warnings.warn(\n",
      "\u001b[32m[I 2022-10-28 19:16:43,198]\u001b[0m Trial 17 finished with value: 0.7757009477860695 and parameters: {'penalty': 'l1', 'solver': 'saga', 'C': 0.31000000000000005}. Best is trial 17 with value: 0.7757009477860695.\u001b[0m\n",
      "\u001b[32m[I 2022-10-28 19:16:44,117]\u001b[0m Trial 18 finished with value: 0.7635687997412217 and parameters: {'penalty': 'l1', 'solver': 'liblinear', 'C': 0.060000000000000005}. Best is trial 17 with value: 0.7757009477860695.\u001b[0m\n",
      "C:\\Users\\ASUS\\anaconda3\\lib\\site-packages\\sklearn\\linear_model\\_sag.py:350: ConvergenceWarning: The max_iter was reached which means the coef_ did not converge\n",
      "  warnings.warn(\n",
      "\u001b[32m[I 2022-10-28 19:16:59,758]\u001b[0m Trial 19 finished with value: 0.7774420512902167 and parameters: {'penalty': 'l1', 'solver': 'saga', 'C': 0.16000000000000003}. Best is trial 19 with value: 0.7774420512902167.\u001b[0m\n",
      "C:\\Users\\ASUS\\anaconda3\\lib\\site-packages\\sklearn\\linear_model\\_sag.py:350: ConvergenceWarning: The max_iter was reached which means the coef_ did not converge\n",
      "  warnings.warn(\n",
      "\u001b[32m[I 2022-10-28 19:17:14,879]\u001b[0m Trial 20 finished with value: 0.7774420512902167 and parameters: {'penalty': 'l1', 'solver': 'saga', 'C': 0.16000000000000003}. Best is trial 19 with value: 0.7774420512902167.\u001b[0m\n",
      "C:\\Users\\ASUS\\anaconda3\\lib\\site-packages\\sklearn\\linear_model\\_sag.py:350: ConvergenceWarning: The max_iter was reached which means the coef_ did not converge\n",
      "  warnings.warn(\n",
      "\u001b[32m[I 2022-10-28 19:17:30,080]\u001b[0m Trial 21 finished with value: 0.7774420512902167 and parameters: {'penalty': 'l1', 'solver': 'saga', 'C': 0.16000000000000003}. Best is trial 19 with value: 0.7774420512902167.\u001b[0m\n",
      "C:\\Users\\ASUS\\anaconda3\\lib\\site-packages\\sklearn\\linear_model\\_sag.py:350: ConvergenceWarning: The max_iter was reached which means the coef_ did not converge\n",
      "  warnings.warn(\n",
      "\u001b[32m[I 2022-10-28 19:17:45,452]\u001b[0m Trial 22 finished with value: 0.7774420512902167 and parameters: {'penalty': 'l1', 'solver': 'saga', 'C': 0.16000000000000003}. Best is trial 19 with value: 0.7774420512902167.\u001b[0m\n",
      "C:\\Users\\ASUS\\anaconda3\\lib\\site-packages\\sklearn\\linear_model\\_sag.py:350: ConvergenceWarning: The max_iter was reached which means the coef_ did not converge\n",
      "  warnings.warn(\n",
      "\u001b[32m[I 2022-10-28 19:18:01,015]\u001b[0m Trial 23 finished with value: 0.7743965200263728 and parameters: {'penalty': 'l1', 'solver': 'saga', 'C': 0.11}. Best is trial 19 with value: 0.7774420512902167.\u001b[0m\n"
     ]
    },
    {
     "name": "stderr",
     "output_type": "stream",
     "text": [
      "C:\\Users\\ASUS\\anaconda3\\lib\\site-packages\\sklearn\\linear_model\\_sag.py:350: ConvergenceWarning: The max_iter was reached which means the coef_ did not converge\n",
      "  warnings.warn(\n",
      "\u001b[32m[I 2022-10-28 19:18:15,957]\u001b[0m Trial 24 finished with value: 0.7774420512902167 and parameters: {'penalty': 'l1', 'solver': 'saga', 'C': 0.16000000000000003}. Best is trial 19 with value: 0.7774420512902167.\u001b[0m\n",
      "\u001b[32m[I 2022-10-28 19:18:18,984]\u001b[0m Trial 25 finished with value: 0.74701333922839 and parameters: {'penalty': 'l1', 'solver': 'saga', 'C': 0.01}. Best is trial 19 with value: 0.7774420512902167.\u001b[0m\n",
      "\u001b[32m[I 2022-10-28 19:18:20,320]\u001b[0m Trial 26 finished with value: 0.7754745853055905 and parameters: {'penalty': 'l1', 'solver': 'liblinear', 'C': 0.26}. Best is trial 19 with value: 0.7774420512902167.\u001b[0m\n",
      "C:\\Users\\ASUS\\anaconda3\\lib\\site-packages\\sklearn\\linear_model\\_sag.py:350: ConvergenceWarning: The max_iter was reached which means the coef_ did not converge\n",
      "  warnings.warn(\n",
      "\u001b[32m[I 2022-10-28 19:18:34,931]\u001b[0m Trial 27 finished with value: 0.7743965200263728 and parameters: {'penalty': 'l1', 'solver': 'saga', 'C': 0.11}. Best is trial 19 with value: 0.7774420512902167.\u001b[0m\n",
      "C:\\Users\\ASUS\\anaconda3\\lib\\site-packages\\sklearn\\linear_model\\_sag.py:350: ConvergenceWarning: The max_iter was reached which means the coef_ did not converge\n",
      "  warnings.warn(\n",
      "\u001b[32m[I 2022-10-28 19:18:50,480]\u001b[0m Trial 28 finished with value: 0.7755076891596959 and parameters: {'penalty': 'l1', 'solver': 'saga', 'C': 0.21000000000000002}. Best is trial 19 with value: 0.7774420512902167.\u001b[0m\n",
      "C:\\Users\\ASUS\\anaconda3\\lib\\site-packages\\sklearn\\linear_model\\_sag.py:350: ConvergenceWarning: The max_iter was reached which means the coef_ did not converge\n",
      "  warnings.warn(\n",
      "\u001b[32m[I 2022-10-28 19:19:05,301]\u001b[0m Trial 29 finished with value: 0.7743965200263728 and parameters: {'penalty': 'l1', 'solver': 'saga', 'C': 0.11}. Best is trial 19 with value: 0.7774420512902167.\u001b[0m\n",
      "C:\\Users\\ASUS\\anaconda3\\lib\\site-packages\\sklearn\\linear_model\\_sag.py:350: ConvergenceWarning: The max_iter was reached which means the coef_ did not converge\n",
      "  warnings.warn(\n",
      "\u001b[32m[I 2022-10-28 19:19:20,947]\u001b[0m Trial 30 finished with value: 0.7757009477860695 and parameters: {'penalty': 'l1', 'solver': 'saga', 'C': 0.31000000000000005}. Best is trial 19 with value: 0.7774420512902167.\u001b[0m\n",
      "C:\\Users\\ASUS\\anaconda3\\lib\\site-packages\\sklearn\\linear_model\\_sag.py:350: ConvergenceWarning: The max_iter was reached which means the coef_ did not converge\n",
      "  warnings.warn(\n",
      "\u001b[32m[I 2022-10-28 19:19:36,368]\u001b[0m Trial 31 finished with value: 0.7774420512902167 and parameters: {'penalty': 'l1', 'solver': 'saga', 'C': 0.16000000000000003}. Best is trial 19 with value: 0.7774420512902167.\u001b[0m\n",
      "C:\\Users\\ASUS\\anaconda3\\lib\\site-packages\\sklearn\\linear_model\\_sag.py:350: ConvergenceWarning: The max_iter was reached which means the coef_ did not converge\n",
      "  warnings.warn(\n",
      "\u001b[32m[I 2022-10-28 19:19:51,446]\u001b[0m Trial 32 finished with value: 0.7755076891596959 and parameters: {'penalty': 'l1', 'solver': 'saga', 'C': 0.21000000000000002}. Best is trial 19 with value: 0.7774420512902167.\u001b[0m\n",
      "\u001b[32m[I 2022-10-28 19:20:02,918]\u001b[0m Trial 33 finished with value: 0.7590781729490989 and parameters: {'penalty': 'l1', 'solver': 'saga', 'C': 0.060000000000000005}. Best is trial 19 with value: 0.7774420512902167.\u001b[0m\n",
      "C:\\Users\\ASUS\\anaconda3\\lib\\site-packages\\sklearn\\linear_model\\_sag.py:350: ConvergenceWarning: The max_iter was reached which means the coef_ did not converge\n",
      "  warnings.warn(\n",
      "\u001b[32m[I 2022-10-28 19:20:19,319]\u001b[0m Trial 34 finished with value: 0.7771573043847159 and parameters: {'penalty': 'l1', 'solver': 'saga', 'C': 0.41000000000000003}. Best is trial 19 with value: 0.7774420512902167.\u001b[0m\n",
      "C:\\Users\\ASUS\\anaconda3\\lib\\site-packages\\sklearn\\linear_model\\_sag.py:350: ConvergenceWarning: The max_iter was reached which means the coef_ did not converge\n",
      "  warnings.warn(\n",
      "\u001b[32m[I 2022-10-28 19:20:33,756]\u001b[0m Trial 35 finished with value: 0.7774420512902167 and parameters: {'penalty': 'l1', 'solver': 'saga', 'C': 0.16000000000000003}. Best is trial 19 with value: 0.7774420512902167.\u001b[0m\n",
      "C:\\Users\\ASUS\\anaconda3\\lib\\site-packages\\sklearn\\linear_model\\_sag.py:350: ConvergenceWarning: The max_iter was reached which means the coef_ did not converge\n",
      "  warnings.warn(\n",
      "\u001b[32m[I 2022-10-28 19:20:48,283]\u001b[0m Trial 36 finished with value: 0.7757009477860695 and parameters: {'penalty': 'l1', 'solver': 'saga', 'C': 0.31000000000000005}. Best is trial 19 with value: 0.7774420512902167.\u001b[0m\n",
      "\u001b[32m[I 2022-10-28 19:20:50,549]\u001b[0m Trial 37 finished with value: 0.7622395079034743 and parameters: {'penalty': 'l2', 'solver': 'liblinear', 'C': 0.51}. Best is trial 19 with value: 0.7774420512902167.\u001b[0m\n",
      "\u001b[32m[I 2022-10-28 19:21:01,815]\u001b[0m Trial 38 finished with value: 0.7590781729490989 and parameters: {'penalty': 'l1', 'solver': 'saga', 'C': 0.060000000000000005}. Best is trial 19 with value: 0.7774420512902167.\u001b[0m\n",
      "C:\\Users\\ASUS\\anaconda3\\lib\\site-packages\\sklearn\\linear_model\\_sag.py:350: ConvergenceWarning: The max_iter was reached which means the coef_ did not converge\n",
      "  warnings.warn(\n",
      "\u001b[32m[I 2022-10-28 19:21:13,131]\u001b[0m Trial 39 finished with value: 0.7690977935287374 and parameters: {'penalty': 'l2', 'solver': 'saga', 'C': 0.26}. Best is trial 19 with value: 0.7774420512902167.\u001b[0m\n",
      "\u001b[32m[I 2022-10-28 19:21:15,476]\u001b[0m Trial 40 finished with value: 0.7760987039537511 and parameters: {'penalty': 'l1', 'solver': 'liblinear', 'C': 0.66}. Best is trial 19 with value: 0.7774420512902167.\u001b[0m\n",
      "C:\\Users\\ASUS\\anaconda3\\lib\\site-packages\\sklearn\\linear_model\\_sag.py:350: ConvergenceWarning: The max_iter was reached which means the coef_ did not converge\n",
      "  warnings.warn(\n",
      "\u001b[32m[I 2022-10-28 19:21:30,045]\u001b[0m Trial 41 finished with value: 0.7755076891596959 and parameters: {'penalty': 'l1', 'solver': 'saga', 'C': 0.21000000000000002}. Best is trial 19 with value: 0.7774420512902167.\u001b[0m\n",
      "C:\\Users\\ASUS\\anaconda3\\lib\\site-packages\\sklearn\\linear_model\\_sag.py:350: ConvergenceWarning: The max_iter was reached which means the coef_ did not converge\n",
      "  warnings.warn(\n",
      "\u001b[32m[I 2022-10-28 19:21:44,061]\u001b[0m Trial 42 finished with value: 0.7774420512902167 and parameters: {'penalty': 'l1', 'solver': 'saga', 'C': 0.16000000000000003}. Best is trial 19 with value: 0.7774420512902167.\u001b[0m\n",
      "C:\\Users\\ASUS\\anaconda3\\lib\\site-packages\\sklearn\\linear_model\\_sag.py:350: ConvergenceWarning: The max_iter was reached which means the coef_ did not converge\n",
      "  warnings.warn(\n",
      "\u001b[32m[I 2022-10-28 19:21:58,740]\u001b[0m Trial 43 finished with value: 0.7774420512902167 and parameters: {'penalty': 'l1', 'solver': 'saga', 'C': 0.16000000000000003}. Best is trial 19 with value: 0.7774420512902167.\u001b[0m\n",
      "C:\\Users\\ASUS\\anaconda3\\lib\\site-packages\\sklearn\\linear_model\\_sag.py:350: ConvergenceWarning: The max_iter was reached which means the coef_ did not converge\n",
      "  warnings.warn(\n",
      "\u001b[32m[I 2022-10-28 19:22:09,540]\u001b[0m Trial 44 finished with value: 0.7682373371417734 and parameters: {'penalty': 'l2', 'solver': 'saga', 'C': 0.01}. Best is trial 19 with value: 0.7774420512902167.\u001b[0m\n",
      "C:\\Users\\ASUS\\anaconda3\\lib\\site-packages\\sklearn\\linear_model\\_sag.py:350: ConvergenceWarning: The max_iter was reached which means the coef_ did not converge\n",
      "  warnings.warn(\n",
      "\u001b[32m[I 2022-10-28 19:22:25,117]\u001b[0m Trial 45 finished with value: 0.7753374538744907 and parameters: {'penalty': 'l1', 'solver': 'saga', 'C': 0.36000000000000004}. Best is trial 19 with value: 0.7774420512902167.\u001b[0m\n",
      "C:\\Users\\ASUS\\anaconda3\\lib\\site-packages\\sklearn\\linear_model\\_sag.py:350: ConvergenceWarning: The max_iter was reached which means the coef_ did not converge\n",
      "  warnings.warn(\n",
      "\u001b[32m[I 2022-10-28 19:22:39,391]\u001b[0m Trial 46 finished with value: 0.7743965200263728 and parameters: {'penalty': 'l1', 'solver': 'saga', 'C': 0.11}. Best is trial 19 with value: 0.7774420512902167.\u001b[0m\n",
      "C:\\Users\\ASUS\\anaconda3\\lib\\site-packages\\sklearn\\linear_model\\_sag.py:350: ConvergenceWarning: The max_iter was reached which means the coef_ did not converge\n",
      "  warnings.warn(\n",
      "\u001b[32m[I 2022-10-28 19:22:53,719]\u001b[0m Trial 47 finished with value: 0.7752834722812747 and parameters: {'penalty': 'l1', 'solver': 'saga', 'C': 0.26}. Best is trial 19 with value: 0.7774420512902167.\u001b[0m\n"
     ]
    },
    {
     "name": "stderr",
     "output_type": "stream",
     "text": [
      "\u001b[32m[I 2022-10-28 19:22:54,825]\u001b[0m Trial 48 finished with value: 0.7779282846241222 and parameters: {'penalty': 'l2', 'solver': 'liblinear', 'C': 0.060000000000000005}. Best is trial 48 with value: 0.7779282846241222.\u001b[0m\n",
      "\u001b[32m[I 2022-10-28 19:22:56,183]\u001b[0m Trial 49 finished with value: 0.7779282846241222 and parameters: {'penalty': 'l2', 'solver': 'liblinear', 'C': 0.060000000000000005}. Best is trial 48 with value: 0.7779282846241222.\u001b[0m\n"
     ]
    },
    {
     "name": "stdout",
     "output_type": "stream",
     "text": [
      "CPU times: total: 4min 4s\n",
      "Wall time: 9min 26s\n"
     ]
    }
   ],
   "source": [
    "%%time\n",
    "study = optuna.create_study(study_name=\"LogisticRegression\", direction=\"maximize\")\n",
    "study.optimize(optuna_lr, n_trials=50)"
   ]
  },
  {
   "cell_type": "code",
   "execution_count": 98,
   "id": "1aa6a37a",
   "metadata": {},
   "outputs": [
    {
     "name": "stdout",
     "output_type": "stream",
     "text": [
      "Наилучшие значения гиперпараметров {'penalty': 'l2', 'solver': 'liblinear', 'C': 0.060000000000000005}\n"
     ]
    }
   ],
   "source": [
    "# выводим наилучшие значения гиперпараметров\n",
    "print(\"Наилучшие значения гиперпараметров {}\".format(study.best_params))"
   ]
  },
  {
   "cell_type": "code",
   "execution_count": 99,
   "id": "86f01694",
   "metadata": {},
   "outputs": [
    {
     "name": "stdout",
     "output_type": "stream",
     "text": [
      "f1_score на тестовом наборе: 0.79\n"
     ]
    }
   ],
   "source": [
    "model_Op_LR = linear_model.LogisticRegression(**study.best_params, random_state=random_state,)\n",
    "\n",
    "model_Op_LR.fit(X_train, y_train)\n",
    "\n",
    "y_test_pred = model_Op_LR.predict(X_test)\n",
    "print('f1_score на тестовом наборе: {:.2f}'.format(metrics.f1_score(y_test, y_test_pred)))"
   ]
  },
  {
   "cell_type": "code",
   "execution_count": 100,
   "id": "7da48eaf",
   "metadata": {},
   "outputs": [
    {
     "data": {
      "text/plain": [
       "0.792"
      ]
     },
     "execution_count": 100,
     "metadata": {},
     "output_type": "execute_result"
    }
   ],
   "source": [
    "logreg['LogReg_Optuna'] = round(metrics.f1_score(y_test, y_test_pred), 3)\n",
    "logreg['LogReg_Optuna']"
   ]
  },
  {
   "cell_type": "markdown",
   "id": "0f7d648a",
   "metadata": {},
   "source": [
    "### Случайный лес, метод Optuna"
   ]
  },
  {
   "cell_type": "code",
   "execution_count": 101,
   "id": "71536c92",
   "metadata": {},
   "outputs": [],
   "source": [
    "random_state = 42\n",
    "def optuna_rf(trial):\n",
    "  # задаем пространства поиска гиперпараметров\n",
    "  n_estimators = trial.suggest_int('n_estimators', 100, 400, 1)  #100, 200, 1\n",
    "  max_depth = trial.suggest_int('max_depth', 5, 30, 1)     # 10, 30, 1\n",
    "  min_samples_leaf = trial.suggest_int('min_samples_leaf', 2, 12, 1)\n",
    "\n",
    "  # создаем модель\n",
    "  model_Op_rf = ensemble.RandomForestClassifier(n_estimators=n_estimators,\n",
    "                                          max_depth=max_depth,\n",
    "                                          min_samples_leaf=min_samples_leaf,\n",
    "                                          random_state=random_state)\n",
    "  # обучаем модель\n",
    "  model_Op_rf.fit(X_train, y_train)\n",
    "  score = cross_val_score(model_Op_rf, X_train, y_train, cv = 5, scoring = 'f1', n_jobs= -1).mean()\n",
    "    \n",
    "  return score"
   ]
  },
  {
   "cell_type": "code",
   "execution_count": 102,
   "id": "9217d094",
   "metadata": {},
   "outputs": [
    {
     "name": "stderr",
     "output_type": "stream",
     "text": [
      "\u001b[32m[I 2022-10-28 19:24:55,516]\u001b[0m A new study created in memory with name: RandomForestClassifier\u001b[0m\n",
      "\u001b[32m[I 2022-10-28 19:25:04,566]\u001b[0m Trial 0 finished with value: 0.7874215084755555 and parameters: {'n_estimators': 397, 'max_depth': 15, 'min_samples_leaf': 11}. Best is trial 0 with value: 0.7874215084755555.\u001b[0m\n",
      "\u001b[32m[I 2022-10-28 19:25:11,206]\u001b[0m Trial 1 finished with value: 0.7934614021998577 and parameters: {'n_estimators': 257, 'max_depth': 23, 'min_samples_leaf': 8}. Best is trial 1 with value: 0.7934614021998577.\u001b[0m\n",
      "\u001b[32m[I 2022-10-28 19:25:16,602]\u001b[0m Trial 2 finished with value: 0.7938515062539839 and parameters: {'n_estimators': 237, 'max_depth': 8, 'min_samples_leaf': 2}. Best is trial 2 with value: 0.7938515062539839.\u001b[0m\n",
      "\u001b[32m[I 2022-10-28 19:25:23,411]\u001b[0m Trial 3 finished with value: 0.7906509830223318 and parameters: {'n_estimators': 282, 'max_depth': 30, 'min_samples_leaf': 12}. Best is trial 2 with value: 0.7938515062539839.\u001b[0m\n",
      "\u001b[32m[I 2022-10-28 19:25:34,084]\u001b[0m Trial 4 finished with value: 0.8012512162468102 and parameters: {'n_estimators': 384, 'max_depth': 15, 'min_samples_leaf': 6}. Best is trial 4 with value: 0.8012512162468102.\u001b[0m\n",
      "\u001b[32m[I 2022-10-28 19:25:46,224]\u001b[0m Trial 5 finished with value: 0.8051712865418859 and parameters: {'n_estimators': 317, 'max_depth': 26, 'min_samples_leaf': 3}. Best is trial 5 with value: 0.8051712865418859.\u001b[0m\n",
      "\u001b[32m[I 2022-10-28 19:25:50,269]\u001b[0m Trial 6 finished with value: 0.7855444257202785 and parameters: {'n_estimators': 164, 'max_depth': 10, 'min_samples_leaf': 11}. Best is trial 5 with value: 0.8051712865418859.\u001b[0m\n",
      "\u001b[32m[I 2022-10-28 19:25:54,679]\u001b[0m Trial 7 finished with value: 0.8010573677810375 and parameters: {'n_estimators': 125, 'max_depth': 23, 'min_samples_leaf': 5}. Best is trial 5 with value: 0.8051712865418859.\u001b[0m\n",
      "\u001b[32m[I 2022-10-28 19:26:03,514]\u001b[0m Trial 8 finished with value: 0.790885423024746 and parameters: {'n_estimators': 388, 'max_depth': 8, 'min_samples_leaf': 3}. Best is trial 5 with value: 0.8051712865418859.\u001b[0m\n",
      "\u001b[32m[I 2022-10-28 19:26:09,981]\u001b[0m Trial 9 finished with value: 0.8045939460498726 and parameters: {'n_estimators': 204, 'max_depth': 25, 'min_samples_leaf': 4}. Best is trial 5 with value: 0.8051712865418859.\u001b[0m\n",
      "\u001b[32m[I 2022-10-28 19:26:18,780]\u001b[0m Trial 10 finished with value: 0.797572543840908 and parameters: {'n_estimators': 321, 'max_depth': 30, 'min_samples_leaf': 8}. Best is trial 5 with value: 0.8051712865418859.\u001b[0m\n",
      "\u001b[32m[I 2022-10-28 19:26:26,491]\u001b[0m Trial 11 finished with value: 0.8047535272807158 and parameters: {'n_estimators': 208, 'max_depth': 24, 'min_samples_leaf': 4}. Best is trial 5 with value: 0.8051712865418859.\u001b[0m\n",
      "\u001b[32m[I 2022-10-28 19:26:38,536]\u001b[0m Trial 12 finished with value: 0.8097386187133558 and parameters: {'n_estimators': 317, 'max_depth': 20, 'min_samples_leaf': 2}. Best is trial 12 with value: 0.8097386187133558.\u001b[0m\n",
      "\u001b[32m[I 2022-10-28 19:26:50,140]\u001b[0m Trial 13 finished with value: 0.809305576017527 and parameters: {'n_estimators': 324, 'max_depth': 18, 'min_samples_leaf': 2}. Best is trial 12 with value: 0.8097386187133558.\u001b[0m\n",
      "\u001b[32m[I 2022-10-28 19:27:03,561]\u001b[0m Trial 14 finished with value: 0.8100338760872514 and parameters: {'n_estimators': 335, 'max_depth': 18, 'min_samples_leaf': 2}. Best is trial 14 with value: 0.8100338760872514.\u001b[0m\n",
      "\u001b[32m[I 2022-10-28 19:27:12,767]\u001b[0m Trial 15 finished with value: 0.7922655917446642 and parameters: {'n_estimators': 346, 'max_depth': 19, 'min_samples_leaf': 7}. Best is trial 14 with value: 0.8100338760872514.\u001b[0m\n",
      "\u001b[32m[I 2022-10-28 19:27:22,886]\u001b[0m Trial 16 finished with value: 0.8049913888687117 and parameters: {'n_estimators': 352, 'max_depth': 12, 'min_samples_leaf': 2}. Best is trial 14 with value: 0.8100338760872514.\u001b[0m\n",
      "\u001b[32m[I 2022-10-28 19:27:31,189]\u001b[0m Trial 17 finished with value: 0.8000220585777562 and parameters: {'n_estimators': 288, 'max_depth': 20, 'min_samples_leaf': 5}. Best is trial 14 with value: 0.8100338760872514.\u001b[0m\n",
      "\u001b[32m[I 2022-10-28 19:27:38,349]\u001b[0m Trial 18 finished with value: 0.793243755465956 and parameters: {'n_estimators': 283, 'max_depth': 15, 'min_samples_leaf': 9}. Best is trial 14 with value: 0.8100338760872514.\u001b[0m\n",
      "\u001b[32m[I 2022-10-28 19:27:43,450]\u001b[0m Trial 19 finished with value: 0.754341465665958 and parameters: {'n_estimators': 352, 'max_depth': 5, 'min_samples_leaf': 4}. Best is trial 14 with value: 0.8100338760872514.\u001b[0m\n",
      "\u001b[32m[I 2022-10-28 19:27:51,650]\u001b[0m Trial 20 finished with value: 0.8049084165300856 and parameters: {'n_estimators': 257, 'max_depth': 21, 'min_samples_leaf': 3}. Best is trial 14 with value: 0.8100338760872514.\u001b[0m\n",
      "\u001b[32m[I 2022-10-28 19:28:02,165]\u001b[0m Trial 21 finished with value: 0.808752876220067 and parameters: {'n_estimators': 318, 'max_depth': 17, 'min_samples_leaf': 2}. Best is trial 14 with value: 0.8100338760872514.\u001b[0m\n",
      "\u001b[32m[I 2022-10-28 19:28:13,346]\u001b[0m Trial 22 finished with value: 0.807473023854006 and parameters: {'n_estimators': 341, 'max_depth': 17, 'min_samples_leaf': 2}. Best is trial 14 with value: 0.8100338760872514.\u001b[0m\n",
      "\u001b[32m[I 2022-10-28 19:28:22,904]\u001b[0m Trial 23 finished with value: 0.8070190751311257 and parameters: {'n_estimators': 303, 'max_depth': 21, 'min_samples_leaf': 3}. Best is trial 14 with value: 0.8100338760872514.\u001b[0m\n",
      "\u001b[32m[I 2022-10-28 19:28:32,332]\u001b[0m Trial 24 finished with value: 0.8021528288163774 and parameters: {'n_estimators': 353, 'max_depth': 13, 'min_samples_leaf': 5}. Best is trial 14 with value: 0.8100338760872514.\u001b[0m\n",
      "\u001b[32m[I 2022-10-28 19:28:45,433]\u001b[0m Trial 25 finished with value: 0.811609632736379 and parameters: {'n_estimators': 372, 'max_depth': 18, 'min_samples_leaf': 2}. Best is trial 25 with value: 0.811609632736379.\u001b[0m\n",
      "\u001b[32m[I 2022-10-28 19:28:56,853]\u001b[0m Trial 26 finished with value: 0.8073719948748309 and parameters: {'n_estimators': 367, 'max_depth': 27, 'min_samples_leaf': 4}. Best is trial 25 with value: 0.811609632736379.\u001b[0m\n",
      "\u001b[32m[I 2022-10-28 19:29:07,189]\u001b[0m Trial 27 finished with value: 0.7967051857870302 and parameters: {'n_estimators': 380, 'max_depth': 22, 'min_samples_leaf': 6}. Best is trial 25 with value: 0.811609632736379.\u001b[0m\n",
      "\u001b[32m[I 2022-10-28 19:29:19,680]\u001b[0m Trial 28 finished with value: 0.8072013623265544 and parameters: {'n_estimators': 367, 'max_depth': 18, 'min_samples_leaf': 3}. Best is trial 25 with value: 0.811609632736379.\u001b[0m\n",
      "\u001b[32m[I 2022-10-28 19:29:30,212]\u001b[0m Trial 29 finished with value: 0.7868298527390843 and parameters: {'n_estimators': 397, 'max_depth': 14, 'min_samples_leaf': 10}. Best is trial 25 with value: 0.811609632736379.\u001b[0m\n",
      "\u001b[32m[I 2022-10-28 19:29:40,628]\u001b[0m Trial 30 finished with value: 0.8133970271147021 and parameters: {'n_estimators': 300, 'max_depth': 16, 'min_samples_leaf': 2}. Best is trial 30 with value: 0.8133970271147021.\u001b[0m\n",
      "\u001b[32m[I 2022-10-28 19:29:51,856]\u001b[0m Trial 31 finished with value: 0.8133970271147021 and parameters: {'n_estimators': 300, 'max_depth': 16, 'min_samples_leaf': 2}. Best is trial 30 with value: 0.8133970271147021.\u001b[0m\n",
      "\u001b[32m[I 2022-10-28 19:30:01,622]\u001b[0m Trial 32 finished with value: 0.8045591456143313 and parameters: {'n_estimators': 264, 'max_depth': 16, 'min_samples_leaf': 3}. Best is trial 30 with value: 0.8133970271147021.\u001b[0m\n",
      "\u001b[32m[I 2022-10-28 19:30:11,778]\u001b[0m Trial 33 finished with value: 0.8075899448568519 and parameters: {'n_estimators': 296, 'max_depth': 13, 'min_samples_leaf': 2}. Best is trial 30 with value: 0.8133970271147021.\u001b[0m\n",
      "\u001b[32m[I 2022-10-28 19:30:19,905]\u001b[0m Trial 34 finished with value: 0.8037335703595 and parameters: {'n_estimators': 231, 'max_depth': 16, 'min_samples_leaf': 3}. Best is trial 30 with value: 0.8133970271147021.\u001b[0m\n",
      "\u001b[32m[I 2022-10-28 19:30:30,389]\u001b[0m Trial 35 finished with value: 0.8062801185356026 and parameters: {'n_estimators': 332, 'max_depth': 19, 'min_samples_leaf': 4}. Best is trial 30 with value: 0.8133970271147021.\u001b[0m\n",
      "\u001b[32m[I 2022-10-28 19:30:40,620]\u001b[0m Trial 36 finished with value: 0.8138336806772921 and parameters: {'n_estimators': 302, 'max_depth': 16, 'min_samples_leaf': 2}. Best is trial 36 with value: 0.8138336806772921.\u001b[0m\n",
      "\u001b[32m[I 2022-10-28 19:30:47,760]\u001b[0m Trial 37 finished with value: 0.7950573228140951 and parameters: {'n_estimators': 273, 'max_depth': 11, 'min_samples_leaf': 6}. Best is trial 36 with value: 0.8138336806772921.\u001b[0m\n"
     ]
    },
    {
     "name": "stderr",
     "output_type": "stream",
     "text": [
      "\u001b[32m[I 2022-10-28 19:30:55,296]\u001b[0m Trial 38 finished with value: 0.8057827759838958 and parameters: {'n_estimators': 244, 'max_depth': 14, 'min_samples_leaf': 3}. Best is trial 36 with value: 0.8138336806772921.\u001b[0m\n",
      "\u001b[32m[I 2022-10-28 19:31:01,788]\u001b[0m Trial 39 finished with value: 0.7847305581129758 and parameters: {'n_estimators': 301, 'max_depth': 9, 'min_samples_leaf': 12}. Best is trial 36 with value: 0.8138336806772921.\u001b[0m\n",
      "\u001b[32m[I 2022-10-28 19:31:08,626]\u001b[0m Trial 40 finished with value: 0.7972188501629959 and parameters: {'n_estimators': 226, 'max_depth': 16, 'min_samples_leaf': 5}. Best is trial 36 with value: 0.8138336806772921.\u001b[0m\n",
      "\u001b[32m[I 2022-10-28 19:31:18,859]\u001b[0m Trial 41 finished with value: 0.8141075658656834 and parameters: {'n_estimators': 307, 'max_depth': 15, 'min_samples_leaf': 2}. Best is trial 41 with value: 0.8141075658656834.\u001b[0m\n",
      "\u001b[32m[I 2022-10-28 19:31:27,706]\u001b[0m Trial 42 finished with value: 0.8105721223945144 and parameters: {'n_estimators': 273, 'max_depth': 14, 'min_samples_leaf': 2}. Best is trial 41 with value: 0.8141075658656834.\u001b[0m\n",
      "\u001b[32m[I 2022-10-28 19:31:37,256]\u001b[0m Trial 43 finished with value: 0.8069890007236269 and parameters: {'n_estimators': 300, 'max_depth': 15, 'min_samples_leaf': 3}. Best is trial 41 with value: 0.8141075658656834.\u001b[0m\n",
      "\u001b[32m[I 2022-10-28 19:31:42,140]\u001b[0m Trial 44 finished with value: 0.8030166626944781 and parameters: {'n_estimators': 153, 'max_depth': 12, 'min_samples_leaf': 2}. Best is trial 41 with value: 0.8141075658656834.\u001b[0m\n",
      "\u001b[32m[I 2022-10-28 19:31:45,809]\u001b[0m Trial 45 finished with value: 0.8020487906025208 and parameters: {'n_estimators': 100, 'max_depth': 16, 'min_samples_leaf': 3}. Best is trial 41 with value: 0.8141075658656834.\u001b[0m\n",
      "\u001b[32m[I 2022-10-28 19:31:55,567]\u001b[0m Trial 46 finished with value: 0.8059980015928019 and parameters: {'n_estimators': 312, 'max_depth': 19, 'min_samples_leaf': 4}. Best is trial 41 with value: 0.8141075658656834.\u001b[0m\n",
      "\u001b[32m[I 2022-10-28 19:32:08,026]\u001b[0m Trial 47 finished with value: 0.8101636654515667 and parameters: {'n_estimators': 364, 'max_depth': 17, 'min_samples_leaf': 2}. Best is trial 41 with value: 0.8141075658656834.\u001b[0m\n",
      "\u001b[32m[I 2022-10-28 19:32:13,697]\u001b[0m Trial 48 finished with value: 0.8027255041016502 and parameters: {'n_estimators': 207, 'max_depth': 11, 'min_samples_leaf': 4}. Best is trial 41 with value: 0.8141075658656834.\u001b[0m\n",
      "\u001b[32m[I 2022-10-28 19:32:24,011]\u001b[0m Trial 49 finished with value: 0.806482518223367 and parameters: {'n_estimators': 330, 'max_depth': 13, 'min_samples_leaf': 2}. Best is trial 41 with value: 0.8141075658656834.\u001b[0m\n"
     ]
    },
    {
     "name": "stdout",
     "output_type": "stream",
     "text": [
      "CPU times: total: 3min 14s\n",
      "Wall time: 7min 28s\n"
     ]
    }
   ],
   "source": [
    "%%time\n",
    "# cоздаем объект исследования\n",
    "# можем напрямую указать, что нам необходимо максимизировать метрику direction=\"maximize\"\n",
    "study = optuna.create_study(study_name=\"RandomForestClassifier\", direction=\"maximize\")\n",
    "# ищем лучшую комбинацию гиперпараметров n_trials раз\n",
    "study.optimize(optuna_rf, n_trials=50)"
   ]
  },
  {
   "cell_type": "code",
   "execution_count": 103,
   "id": "ceefd1da",
   "metadata": {},
   "outputs": [
    {
     "name": "stdout",
     "output_type": "stream",
     "text": [
      "Наилучшие значения гиперпараметров {'n_estimators': 307, 'max_depth': 15, 'min_samples_leaf': 2}\n"
     ]
    }
   ],
   "source": [
    "# выводим наилучшие значения гиперпараметров\n",
    "print(\"Наилучшие значения гиперпараметров {}\".format(study.best_params))"
   ]
  },
  {
   "cell_type": "code",
   "execution_count": 104,
   "id": "25a318fe",
   "metadata": {},
   "outputs": [
    {
     "name": "stdout",
     "output_type": "stream",
     "text": [
      "f1_score на тестовом наборе: 0.83\n"
     ]
    }
   ],
   "source": [
    "# рассчитаем точность для тестовой выборки\n",
    "model_Op_rf = ensemble.RandomForestClassifier(**study.best_params,random_state=random_state, )\n",
    "model_Op_rf.fit(X_train, y_train)\n",
    "y_test_pred = model_Op_rf.predict(X_test)\n",
    "print('f1_score на тестовом наборе: {:.2f}'.format(metrics.f1_score(y_test, y_test_pred)))"
   ]
  },
  {
   "cell_type": "code",
   "execution_count": 105,
   "id": "184d9b79",
   "metadata": {},
   "outputs": [
    {
     "data": {
      "text/plain": [
       "0.825"
      ]
     },
     "execution_count": 105,
     "metadata": {},
     "output_type": "execute_result"
    }
   ],
   "source": [
    "ranfor['RanFor_Optuna'] = round(metrics.f1_score(y_test, y_test_pred), 3)\n",
    "ranfor['RanFor_Optuna']"
   ]
  },
  {
   "cell_type": "code",
   "execution_count": 106,
   "id": "5bf57095",
   "metadata": {},
   "outputs": [
    {
     "data": {
      "text/html": [
       "<div>\n",
       "<style scoped>\n",
       "    .dataframe tbody tr th:only-of-type {\n",
       "        vertical-align: middle;\n",
       "    }\n",
       "\n",
       "    .dataframe tbody tr th {\n",
       "        vertical-align: top;\n",
       "    }\n",
       "\n",
       "    .dataframe thead th {\n",
       "        text-align: right;\n",
       "    }\n",
       "</style>\n",
       "<table border=\"1\" class=\"dataframe\">\n",
       "  <thead>\n",
       "    <tr style=\"text-align: right;\">\n",
       "      <th></th>\n",
       "      <th>LogReg_init</th>\n",
       "      <th>LogReg_GridSeach</th>\n",
       "      <th>LogReg_RandSeach</th>\n",
       "      <th>LogReg_HO</th>\n",
       "      <th>LogReg_Optuna</th>\n",
       "    </tr>\n",
       "  </thead>\n",
       "  <tbody>\n",
       "    <tr>\n",
       "      <th>0</th>\n",
       "      <td>0.782</td>\n",
       "      <td>0.794</td>\n",
       "      <td>0.794</td>\n",
       "      <td>0.796</td>\n",
       "      <td>0.792</td>\n",
       "    </tr>\n",
       "  </tbody>\n",
       "</table>\n",
       "</div>"
      ],
      "text/plain": [
       "   LogReg_init  LogReg_GridSeach  LogReg_RandSeach  LogReg_HO  LogReg_Optuna\n",
       "0        0.782             0.794             0.794      0.796          0.792"
      ]
     },
     "metadata": {},
     "output_type": "display_data"
    },
    {
     "data": {
      "text/html": [
       "<div>\n",
       "<style scoped>\n",
       "    .dataframe tbody tr th:only-of-type {\n",
       "        vertical-align: middle;\n",
       "    }\n",
       "\n",
       "    .dataframe tbody tr th {\n",
       "        vertical-align: top;\n",
       "    }\n",
       "\n",
       "    .dataframe thead th {\n",
       "        text-align: right;\n",
       "    }\n",
       "</style>\n",
       "<table border=\"1\" class=\"dataframe\">\n",
       "  <thead>\n",
       "    <tr style=\"text-align: right;\">\n",
       "      <th></th>\n",
       "      <th>RanFor_init</th>\n",
       "      <th>RanFor_GridSeach</th>\n",
       "      <th>RanFor_RandSeach</th>\n",
       "      <th>RanFor_HO</th>\n",
       "      <th>RanFor_Optuna</th>\n",
       "    </tr>\n",
       "  </thead>\n",
       "  <tbody>\n",
       "    <tr>\n",
       "      <th>0</th>\n",
       "      <td>0.817</td>\n",
       "      <td>0.817</td>\n",
       "      <td>0.815</td>\n",
       "      <td>0.817</td>\n",
       "      <td>0.825</td>\n",
       "    </tr>\n",
       "  </tbody>\n",
       "</table>\n",
       "</div>"
      ],
      "text/plain": [
       "   RanFor_init  RanFor_GridSeach  RanFor_RandSeach  RanFor_HO  RanFor_Optuna\n",
       "0        0.817             0.817             0.815      0.817          0.825"
      ]
     },
     "metadata": {},
     "output_type": "display_data"
    }
   ],
   "source": [
    "# преобразуем словари  в датафреймы    \n",
    "df_logreg = pd.DataFrame([logreg])\n",
    "display(df_logreg)\n",
    "\n",
    "df_ranfor = pd.DataFrame([ranfor])\n",
    "display(df_ranfor)"
   ]
  },
  {
   "cell_type": "code",
   "execution_count": null,
   "id": "ef30a6bb",
   "metadata": {},
   "outputs": [],
   "source": []
  },
  {
   "cell_type": "markdown",
   "id": "e69fc6bc",
   "metadata": {},
   "source": [
    "### Некоторые выводы"
   ]
  },
  {
   "cell_type": "markdown",
   "id": "e98b5e48",
   "metadata": {},
   "source": [
    "1. Модель, использующая случайный лес, показывает более высокие результаты, чем модель, использующая логистическую регрессию при использовнии любого метода оптимизации\n",
    "2. Наилучшие результаты для логистической регрессии показал метод HyperOpt (0.796), а для случайного леса - Optuna (0.825)"
   ]
  }
 ],
 "metadata": {
  "kernelspec": {
   "display_name": "Python 3 (ipykernel)",
   "language": "python",
   "name": "python3"
  },
  "language_info": {
   "codemirror_mode": {
    "name": "ipython",
    "version": 3
   },
   "file_extension": ".py",
   "mimetype": "text/x-python",
   "name": "python",
   "nbconvert_exporter": "python",
   "pygments_lexer": "ipython3",
   "version": "3.9.12"
  }
 },
 "nbformat": 4,
 "nbformat_minor": 5
}
