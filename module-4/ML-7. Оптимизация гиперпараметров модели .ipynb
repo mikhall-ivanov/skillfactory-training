{
 "cells": [
  {
   "cell_type": "markdown",
   "id": "105aa41c",
   "metadata": {},
   "source": [
    "### Постановка задачи"
   ]
  },
  {
   "cell_type": "markdown",
   "id": "3c098492",
   "metadata": {},
   "source": [
    "Необходимо предсказать биологический ответ молекул (столбец 'Activity') по их химическому составу (столбцы D1-D1776).\n",
    "\n",
    "Данные представлены в формате CSV. Каждая строка представляет молекулу.\n",
    "\n",
    "Первый столбец Activity содержит экспериментальные данные, описывающие фактический биологический ответ [0, 1];\n",
    "Остальные столбцы D1-D1776 представляют собой молекулярные дескрипторы — это вычисляемые свойства, которые могут фиксировать некоторые характеристики молекулы, например размер, форму или состав элементов.\n",
    "Предварительная обработка не требуется, данные уже закодированы и нормализованы.\n",
    "\n",
    "В качестве метрики будем использовать F1-score.\n",
    "\n",
    "Необходимо обучить две модели: логистическую регрессию и случайный лес. Далее нужно сделать подбор гиперпараметров с помощью базовых и продвинутых методов оптимизации. Важно использовать все четыре метода (GridSeachCV, RandomizedSearchCV, Hyperopt, Optuna) хотя бы по разу, максимальное количество итераций не должно превышать 50."
   ]
  },
  {
   "cell_type": "code",
   "execution_count": 1,
   "id": "673b4323",
   "metadata": {},
   "outputs": [],
   "source": [
    "#импорт библиотек\n",
    "import numpy as np #для матричных вычислений\n",
    "import pandas as pd #для анализа и предобработки данных\n",
    "import matplotlib.pyplot as plt #для визуализации\n",
    "import seaborn as sns #для визуализации\n",
    "\n",
    "from sklearn import linear_model #линейные моделиё\n",
    "from sklearn import tree #деревья решений\n",
    "from sklearn import ensemble #ансамбли\n",
    "from sklearn import metrics #метрики\n",
    "from sklearn import preprocessing #предобработка\n",
    "from sklearn.model_selection import train_test_split #сплитование выборки\n",
    "from sklearn.model_selection import cross_val_score #Кросс валидация\n",
    "\n",
    "# Импорт оптимизаторов параметров\n",
    "from sklearn.model_selection import GridSearchCV\n",
    "from sklearn.model_selection import RandomizedSearchCV\n",
    "\n",
    "import hyperopt\n",
    "from hyperopt import hp, fmin, tpe, Trials\n",
    "\n",
    "import optuna\n",
    "\n",
    "%matplotlib inline\n",
    "plt.style.use('seaborn')"
   ]
  },
  {
   "cell_type": "code",
   "execution_count": 2,
   "id": "9f1b59be",
   "metadata": {},
   "outputs": [
    {
     "data": {
      "text/html": [
       "<div>\n",
       "<style scoped>\n",
       "    .dataframe tbody tr th:only-of-type {\n",
       "        vertical-align: middle;\n",
       "    }\n",
       "\n",
       "    .dataframe tbody tr th {\n",
       "        vertical-align: top;\n",
       "    }\n",
       "\n",
       "    .dataframe thead th {\n",
       "        text-align: right;\n",
       "    }\n",
       "</style>\n",
       "<table border=\"1\" class=\"dataframe\">\n",
       "  <thead>\n",
       "    <tr style=\"text-align: right;\">\n",
       "      <th></th>\n",
       "      <th>Activity</th>\n",
       "      <th>D1</th>\n",
       "      <th>D2</th>\n",
       "      <th>D3</th>\n",
       "      <th>D4</th>\n",
       "      <th>D5</th>\n",
       "      <th>D6</th>\n",
       "      <th>D7</th>\n",
       "      <th>D8</th>\n",
       "      <th>D9</th>\n",
       "      <th>...</th>\n",
       "      <th>D1767</th>\n",
       "      <th>D1768</th>\n",
       "      <th>D1769</th>\n",
       "      <th>D1770</th>\n",
       "      <th>D1771</th>\n",
       "      <th>D1772</th>\n",
       "      <th>D1773</th>\n",
       "      <th>D1774</th>\n",
       "      <th>D1775</th>\n",
       "      <th>D1776</th>\n",
       "    </tr>\n",
       "  </thead>\n",
       "  <tbody>\n",
       "    <tr>\n",
       "      <th>0</th>\n",
       "      <td>1</td>\n",
       "      <td>0.000000</td>\n",
       "      <td>0.497009</td>\n",
       "      <td>0.10</td>\n",
       "      <td>0.0</td>\n",
       "      <td>0.132956</td>\n",
       "      <td>0.678031</td>\n",
       "      <td>0.273166</td>\n",
       "      <td>0.585445</td>\n",
       "      <td>0.743663</td>\n",
       "      <td>...</td>\n",
       "      <td>0</td>\n",
       "      <td>0</td>\n",
       "      <td>0</td>\n",
       "      <td>0</td>\n",
       "      <td>0</td>\n",
       "      <td>0</td>\n",
       "      <td>0</td>\n",
       "      <td>0</td>\n",
       "      <td>0</td>\n",
       "      <td>0</td>\n",
       "    </tr>\n",
       "    <tr>\n",
       "      <th>1</th>\n",
       "      <td>1</td>\n",
       "      <td>0.366667</td>\n",
       "      <td>0.606291</td>\n",
       "      <td>0.05</td>\n",
       "      <td>0.0</td>\n",
       "      <td>0.111209</td>\n",
       "      <td>0.803455</td>\n",
       "      <td>0.106105</td>\n",
       "      <td>0.411754</td>\n",
       "      <td>0.836582</td>\n",
       "      <td>...</td>\n",
       "      <td>1</td>\n",
       "      <td>1</td>\n",
       "      <td>1</td>\n",
       "      <td>1</td>\n",
       "      <td>0</td>\n",
       "      <td>1</td>\n",
       "      <td>0</td>\n",
       "      <td>0</td>\n",
       "      <td>1</td>\n",
       "      <td>0</td>\n",
       "    </tr>\n",
       "    <tr>\n",
       "      <th>2</th>\n",
       "      <td>1</td>\n",
       "      <td>0.033300</td>\n",
       "      <td>0.480124</td>\n",
       "      <td>0.00</td>\n",
       "      <td>0.0</td>\n",
       "      <td>0.209791</td>\n",
       "      <td>0.610350</td>\n",
       "      <td>0.356453</td>\n",
       "      <td>0.517720</td>\n",
       "      <td>0.679051</td>\n",
       "      <td>...</td>\n",
       "      <td>0</td>\n",
       "      <td>0</td>\n",
       "      <td>0</td>\n",
       "      <td>0</td>\n",
       "      <td>0</td>\n",
       "      <td>0</td>\n",
       "      <td>0</td>\n",
       "      <td>0</td>\n",
       "      <td>0</td>\n",
       "      <td>0</td>\n",
       "    </tr>\n",
       "    <tr>\n",
       "      <th>3</th>\n",
       "      <td>1</td>\n",
       "      <td>0.000000</td>\n",
       "      <td>0.538825</td>\n",
       "      <td>0.00</td>\n",
       "      <td>0.5</td>\n",
       "      <td>0.196344</td>\n",
       "      <td>0.724230</td>\n",
       "      <td>0.235606</td>\n",
       "      <td>0.288764</td>\n",
       "      <td>0.805110</td>\n",
       "      <td>...</td>\n",
       "      <td>0</td>\n",
       "      <td>0</td>\n",
       "      <td>0</td>\n",
       "      <td>0</td>\n",
       "      <td>0</td>\n",
       "      <td>0</td>\n",
       "      <td>0</td>\n",
       "      <td>0</td>\n",
       "      <td>0</td>\n",
       "      <td>0</td>\n",
       "    </tr>\n",
       "    <tr>\n",
       "      <th>4</th>\n",
       "      <td>0</td>\n",
       "      <td>0.100000</td>\n",
       "      <td>0.517794</td>\n",
       "      <td>0.00</td>\n",
       "      <td>0.0</td>\n",
       "      <td>0.494734</td>\n",
       "      <td>0.781422</td>\n",
       "      <td>0.154361</td>\n",
       "      <td>0.303809</td>\n",
       "      <td>0.812646</td>\n",
       "      <td>...</td>\n",
       "      <td>0</td>\n",
       "      <td>0</td>\n",
       "      <td>0</td>\n",
       "      <td>0</td>\n",
       "      <td>0</td>\n",
       "      <td>0</td>\n",
       "      <td>0</td>\n",
       "      <td>0</td>\n",
       "      <td>0</td>\n",
       "      <td>0</td>\n",
       "    </tr>\n",
       "  </tbody>\n",
       "</table>\n",
       "<p>5 rows × 1777 columns</p>\n",
       "</div>"
      ],
      "text/plain": [
       "   Activity        D1        D2    D3   D4        D5        D6        D7  \\\n",
       "0         1  0.000000  0.497009  0.10  0.0  0.132956  0.678031  0.273166   \n",
       "1         1  0.366667  0.606291  0.05  0.0  0.111209  0.803455  0.106105   \n",
       "2         1  0.033300  0.480124  0.00  0.0  0.209791  0.610350  0.356453   \n",
       "3         1  0.000000  0.538825  0.00  0.5  0.196344  0.724230  0.235606   \n",
       "4         0  0.100000  0.517794  0.00  0.0  0.494734  0.781422  0.154361   \n",
       "\n",
       "         D8        D9  ...  D1767  D1768  D1769  D1770  D1771  D1772  D1773  \\\n",
       "0  0.585445  0.743663  ...      0      0      0      0      0      0      0   \n",
       "1  0.411754  0.836582  ...      1      1      1      1      0      1      0   \n",
       "2  0.517720  0.679051  ...      0      0      0      0      0      0      0   \n",
       "3  0.288764  0.805110  ...      0      0      0      0      0      0      0   \n",
       "4  0.303809  0.812646  ...      0      0      0      0      0      0      0   \n",
       "\n",
       "   D1774  D1775  D1776  \n",
       "0      0      0      0  \n",
       "1      0      1      0  \n",
       "2      0      0      0  \n",
       "3      0      0      0  \n",
       "4      0      0      0  \n",
       "\n",
       "[5 rows x 1777 columns]"
      ]
     },
     "execution_count": 2,
     "metadata": {},
     "output_type": "execute_result"
    }
   ],
   "source": [
    "data = pd.read_csv('data/_train_sem09.csv')\n",
    "data.head()"
   ]
  },
  {
   "cell_type": "code",
   "execution_count": 3,
   "id": "5685d78c",
   "metadata": {},
   "outputs": [],
   "source": [
    "X = data.drop(['Activity'], axis=1)\n",
    "y = data['Activity']"
   ]
  },
  {
   "cell_type": "code",
   "execution_count": 4,
   "id": "e0363220",
   "metadata": {},
   "outputs": [],
   "source": [
    "X_train, X_test, y_train, y_test = train_test_split(X, y, random_state = 42, test_size = 0.3)"
   ]
  },
  {
   "cell_type": "markdown",
   "id": "edc64d41",
   "metadata": {},
   "source": [
    "# Мое решение"
   ]
  },
  {
   "cell_type": "markdown",
   "id": "5657c792",
   "metadata": {},
   "source": [
    "Сначала получим значения меток F1-score для логистической регресии и случайного леса без использования методов оптимизации, чтобы иметь в дальнейшем базу для сравнения"
   ]
  },
  {
   "cell_type": "markdown",
   "id": "ea571b43",
   "metadata": {},
   "source": [
    "### Логистическая регрессия (без методов оптимизации)"
   ]
  },
  {
   "cell_type": "code",
   "execution_count": 8,
   "id": "1270aa82",
   "metadata": {},
   "outputs": [
    {
     "name": "stdout",
     "output_type": "stream",
     "text": [
      "f1_score на тестовом наборе: 0.78\n"
     ]
    },
    {
     "name": "stderr",
     "output_type": "stream",
     "text": [
      "C:\\Users\\ASUS\\anaconda3\\lib\\site-packages\\sklearn\\linear_model\\_logistic.py:444: ConvergenceWarning: lbfgs failed to converge (status=1):\n",
      "STOP: TOTAL NO. of ITERATIONS REACHED LIMIT.\n",
      "\n",
      "Increase the number of iterations (max_iter) or scale the data as shown in:\n",
      "    https://scikit-learn.org/stable/modules/preprocessing.html\n",
      "Please also refer to the documentation for alternative solver options:\n",
      "    https://scikit-learn.org/stable/modules/linear_model.html#logistic-regression\n",
      "  n_iter_i = _check_optimize_result(\n"
     ]
    }
   ],
   "source": [
    "#Создаем объект класса логистическая регрессия\n",
    "log_reg = linear_model.LogisticRegression(random_state=42, max_iter = 50)\n",
    "#Обучаем модель\n",
    "log_reg.fit(X_train, y_train)\n",
    "\n",
    "y_test_pred = log_reg.predict(X_test)\n",
    "print('f1_score на тестовом наборе: {:.2f}'.format(metrics.f1_score(y_test, y_test_pred)))"
   ]
  },
  {
   "cell_type": "markdown",
   "id": "72b8d438",
   "metadata": {},
   "source": [
    "### Случайный лес (без методов оптимизации)"
   ]
  },
  {
   "cell_type": "code",
   "execution_count": 13,
   "id": "3327e6ee",
   "metadata": {},
   "outputs": [
    {
     "name": "stdout",
     "output_type": "stream",
     "text": [
      "f1_score на тестовом наборе: 0.82\n"
     ]
    }
   ],
   "source": [
    "#Создаем объект класса случайный лес\n",
    "rf = ensemble.RandomForestClassifier(random_state=42)\n",
    "#Обучаем модель\n",
    "rf.fit(X_train, y_train)\n",
    "\n",
    "y_test_pred = rf.predict(X_test)\n",
    "print('f1_score на тестовом наборе: {:.2f}'.format(metrics.f1_score(y_test, y_test_pred)))"
   ]
  },
  {
   "cell_type": "markdown",
   "id": "e0d4ff66",
   "metadata": {},
   "source": [
    "Далее последовательно используются методы оптимизации"
   ]
  },
  {
   "cell_type": "markdown",
   "id": "5df59020",
   "metadata": {},
   "source": [
    "# Метод GridSeachCV"
   ]
  },
  {
   "cell_type": "markdown",
   "id": "6dd8dba4",
   "metadata": {},
   "source": [
    "### Логистическая регрессия, метод GridSeachCV"
   ]
  },
  {
   "cell_type": "code",
   "execution_count": 10,
   "id": "5243fc69",
   "metadata": {},
   "outputs": [
    {
     "name": "stdout",
     "output_type": "stream",
     "text": [
      "CPU times: total: 7.5 s\n",
      "Wall time: 8min 38s\n",
      "f1_score на тестовом наборе: 0.79\n",
      "Наилучшие значения гиперпараметров: {'C': 0.1, 'penalty': 'l2', 'solver': 'saga'}\n"
     ]
    },
    {
     "name": "stderr",
     "output_type": "stream",
     "text": [
      "C:\\Users\\ASUS\\anaconda3\\lib\\site-packages\\sklearn\\linear_model\\_sag.py:350: ConvergenceWarning: The max_iter was reached which means the coef_ did not converge\n",
      "  warnings.warn(\n"
     ]
    }
   ],
   "source": [
    "param_grid = [\n",
    "    {'penalty' : ['l2', 'none'], # тип регуляризации\n",
    "    'solver' : ['newton-cg', 'lbfgs', 'sag'], # алгоритм оптимизации\n",
    "    'C' : [0.01, 0.1, 0.3, 0.5, 0.7, 0.9, 1]}, # уровень силы регурялизации\n",
    "    # другой набор гиперпараметров\n",
    "    {'penalty': ['l1', 'l2'] ,\n",
    "    'solver': ['liblinear', 'saga'],\n",
    "    'C': [0.01, 0.1, 0.3, 0.5, 0.7, 0.9, 1]}\n",
    "]\n",
    "\n",
    "grid_search_LR = GridSearchCV(\n",
    "    estimator = linear_model.LogisticRegression(random_state= 42, max_iter = 50),\n",
    "    param_grid = param_grid,\n",
    "    cv = 5,\n",
    "    n_jobs = -1,\n",
    "    scoring='f1'\n",
    ")\n",
    "%time grid_search_LR.fit(X_train, y_train)\n",
    "\n",
    "y_test_pred = grid_search_LR.predict(X_test)\n",
    "\n",
    "print('f1_score на тестовом наборе: {:.2f}'.format(metrics.f1_score(y_test, y_test_pred)))\n",
    "print(\"Наилучшие значения гиперпараметров: {}\".format(grid_search_LR.best_params_))"
   ]
  },
  {
   "cell_type": "markdown",
   "id": "24ca217e",
   "metadata": {},
   "source": [
    "### Случайный лес, метод GridSeachCV"
   ]
  },
  {
   "cell_type": "code",
   "execution_count": 34,
   "id": "5c1831d0",
   "metadata": {},
   "outputs": [
    {
     "name": "stdout",
     "output_type": "stream",
     "text": [
      "CPU times: total: 3.22 s\n",
      "Wall time: 57.7 s\n",
      "f1_score на тестовом наборе: 0.82\n",
      "Наилучшие значения гиперпараметров: {'n_estimators': 140, 'min_samples_leaf': 5, 'max_depth': 40}\n"
     ]
    }
   ],
   "source": [
    "param_distributions = {'n_estimators': list(range(80, 200, 30)),\n",
    "              'min_samples_leaf': list(np.linspace(5, 25, 5, dtype=int)),\n",
    "              'max_depth': list(np.linspace(1, 40, 5, dtype=int))\n",
    "              }\n",
    "            \n",
    "random_search_forest = RandomizedSearchCV(\n",
    "    estimator=ensemble.RandomForestClassifier(random_state=42), \n",
    "    param_distributions=param_distributions, \n",
    "    cv=5,\n",
    "    n_iter = 50, \n",
    "    n_jobs = -1,\n",
    "    scoring = 'f1'\n",
    ")  \n",
    "%time random_search_forest.fit(X_train, y_train) \n",
    "\n",
    "y_test_pred = random_search_forest.predict(X_test)\n",
    "print('f1_score на тестовом наборе: {:.2f}'.format(metrics.f1_score(y_test, y_test_pred)))\n",
    "print(\"Наилучшие значения гиперпараметров: {}\".format(random_search_forest.best_params_))"
   ]
  },
  {
   "cell_type": "markdown",
   "id": "f543bfb3",
   "metadata": {},
   "source": [
    "# Метод RandomizedSeachCV"
   ]
  },
  {
   "cell_type": "markdown",
   "id": "41ce4c1d",
   "metadata": {},
   "source": [
    "### Логистическая регрессия, метод RandomizedSeachCV"
   ]
  },
  {
   "cell_type": "code",
   "execution_count": 21,
   "id": "e67dff66",
   "metadata": {},
   "outputs": [
    {
     "name": "stdout",
     "output_type": "stream",
     "text": [
      "CPU times: total: 3.25 s\n",
      "Wall time: 50.5 s\n",
      "f1_score на тестовом наборе: 0.79\n",
      "Наилучшие значения гиперпараметров: {'solver': 'saga', 'penalty': 'l2', 'C': 0.12}\n"
     ]
    },
    {
     "name": "stderr",
     "output_type": "stream",
     "text": [
      "C:\\Users\\ASUS\\anaconda3\\lib\\site-packages\\sklearn\\linear_model\\_sag.py:350: ConvergenceWarning: The max_iter was reached which means the coef_ did not converge\n",
      "  warnings.warn(\n"
     ]
    }
   ],
   "source": [
    "param_distributions = [\n",
    "                        {'penalty': ['l2', 'none'] , # тип регуляризации\n",
    "                         'solver' : ['newton-cg', 'lbfgs', 'sag'], # алгоритм оптимизации\n",
    "                          'C': list(np.linspace(0.01, 1, 10, dtype=float))\n",
    "                        },\n",
    "                        {'penalty': ['l1', 'l2'] ,\n",
    "                         'solver': ['liblinear', 'saga'],\n",
    "                          'C': list(np.linspace(0.01, 1, 10, dtype=float))\n",
    "                        }]\n",
    "random_search_LR = RandomizedSearchCV(\n",
    "    estimator=linear_model.LogisticRegression(random_state=42, max_iter= 50), \n",
    "    param_distributions=param_distributions, \n",
    "    cv=5,\n",
    "    n_iter = 20, \n",
    "    n_jobs = -1,\n",
    "    scoring='f1'\n",
    ")  \n",
    "%time random_search_LR.fit(X_train, y_train) \n",
    "\n",
    "y_test_pred = random_search_LR.predict(X_test)\n",
    "print('f1_score на тестовом наборе: {:.2f}'.format(metrics.f1_score(y_test, y_test_pred)))\n",
    "print(\"Наилучшие значения гиперпараметров: {}\".format(random_search_LR.best_params_))"
   ]
  },
  {
   "cell_type": "markdown",
   "id": "32a1f314",
   "metadata": {},
   "source": [
    "### Случайный лес, метод RandomizedSeachCV"
   ]
  },
  {
   "cell_type": "code",
   "execution_count": 38,
   "id": "23eec991",
   "metadata": {
    "scrolled": true
   },
   "outputs": [
    {
     "name": "stdout",
     "output_type": "stream",
     "text": [
      "CPU times: total: 3.62 s\n",
      "Wall time: 58.1 s\n",
      "f1_score на тестовом наборе: 0.82\n",
      "Наилучшие значения гиперпараметров: {'n_estimators': 170, 'min_samples_leaf': 5, 'max_depth': 30}\n"
     ]
    }
   ],
   "source": [
    "param_distributions = {'n_estimators': list(range(80, 200, 30)),\n",
    "              'min_samples_leaf': list(np.linspace(5, 25, 5, dtype=int)),\n",
    "              'max_depth': list(np.linspace(1, 40, 5, dtype=int))\n",
    "              }\n",
    "            \n",
    "random_search_RF = RandomizedSearchCV(\n",
    "    estimator=ensemble.RandomForestClassifier(random_state=42), \n",
    "    param_distributions=param_distributions, \n",
    "    cv=5,\n",
    "    n_iter = 50, \n",
    "    n_jobs = -1,\n",
    "    scoring= 'f1'\n",
    ")  \n",
    "%time random_search_RF.fit(X_train, y_train) \n",
    "\n",
    "y_test_pred = random_search_RF.predict(X_test)\n",
    "print('f1_score на тестовом наборе: {:.2f}'.format(metrics.f1_score(y_test, y_test_pred)))\n",
    "print(\"Наилучшие значения гиперпараметров: {}\".format(random_search_RF.best_params_))"
   ]
  },
  {
   "cell_type": "markdown",
   "id": "2acb8708",
   "metadata": {},
   "source": [
    "# Метод Hyperopt"
   ]
  },
  {
   "cell_type": "code",
   "execution_count": 39,
   "id": "d9ceb7da",
   "metadata": {},
   "outputs": [
    {
     "name": "stdout",
     "output_type": "stream",
     "text": [
      "Версия Hyperopt : 0.2.5\n"
     ]
    }
   ],
   "source": [
    "# Уточняем текущую версию HyperOpt\n",
    "print(\"Версия Hyperopt : {}\".format(hyperopt.__version__))"
   ]
  },
  {
   "cell_type": "markdown",
   "id": "369599ea",
   "metadata": {},
   "source": [
    "### Логистическая регрессия, метод HyperOpt"
   ]
  },
  {
   "cell_type": "code",
   "execution_count": 68,
   "id": "1db8bc34",
   "metadata": {},
   "outputs": [],
   "source": [
    "space ={\n",
    "    'penalty' : hp.choice(label='penalty', options= ['l1', 'l2']), # тип регуляризации\n",
    "    'solver' : hp.choice(label = 'solver', options= ['liblinear', 'saga']), # алгоритм оптимизации\n",
    "    'C' : hp.loguniform(label='C', low=-2*np.log(10), high=2*np.log(10)), # уровень силы регурялизации\n",
    "    'max_iter': hp.choice('max_iter', [50])}"
   ]
  },
  {
   "cell_type": "code",
   "execution_count": 69,
   "id": "f7ef6e42",
   "metadata": {},
   "outputs": [],
   "source": [
    "random_state = 42\n",
    "def hyperopt_logr(params, cv=5, X=X_train, y=y_train, random_state=random_state):\n",
    "    params = {'penalty': params['penalty'],\n",
    "              'solver': params['solver'],\n",
    "              'C': params['C'],\n",
    "              'max_iter': params['max_iter']\n",
    "              }\n",
    "    model_HO = linear_model.LogisticRegression(**params, random_state=random_state)\n",
    "\n",
    "    # обучаем модель\n",
    "    model_HO.fit(X, y)\n",
    "    score = cross_val_score(model_HO, X, y, cv=cv, scoring=\"f1\", n_jobs=-1).mean()\n",
    "\n",
    "    # метрику необходимо минимизировать, поэтому ставим знак минус\n",
    "    return -score"
   ]
  },
  {
   "cell_type": "code",
   "execution_count": 70,
   "id": "115f531e",
   "metadata": {},
   "outputs": [
    {
     "name": "stdout",
     "output_type": "stream",
     "text": [
      "\r",
      "  0%|                                                                           | 0/20 [00:00<?, ?trial/s, best loss=?]"
     ]
    },
    {
     "name": "stderr",
     "output_type": "stream",
     "text": [
      "C:\\Users\\ASUS\\anaconda3\\lib\\site-packages\\sklearn\\linear_model\\_sag.py:350: ConvergenceWarning: The max_iter was reached which means the coef_ did not converge\n",
      "  warnings.warn(\n",
      "\n"
     ]
    },
    {
     "name": "stdout",
     "output_type": "stream",
     "text": [
      " 20%|█████████▌                                      | 4/20 [00:44<03:15, 12.21s/trial, best loss: -0.7644504520739478]"
     ]
    },
    {
     "name": "stderr",
     "output_type": "stream",
     "text": [
      "C:\\Users\\ASUS\\anaconda3\\lib\\site-packages\\sklearn\\linear_model\\_sag.py:350: ConvergenceWarning: The max_iter was reached which means the coef_ did not converge\n",
      "  warnings.warn(\n",
      "\n"
     ]
    },
    {
     "name": "stdout",
     "output_type": "stream",
     "text": [
      "\r",
      " 25%|████████████                                    | 5/20 [00:51<02:35, 10.39s/trial, best loss: -0.7644504520739478]"
     ]
    },
    {
     "name": "stderr",
     "output_type": "stream",
     "text": [
      "C:\\Users\\ASUS\\anaconda3\\lib\\site-packages\\sklearn\\linear_model\\_sag.py:350: ConvergenceWarning: The max_iter was reached which means the coef_ did not converge\n",
      "  warnings.warn(\n",
      "\n"
     ]
    },
    {
     "name": "stdout",
     "output_type": "stream",
     "text": [
      " 50%|███████████████████████▌                       | 10/20 [02:08<02:13, 13.38s/trial, best loss: -0.7772004929471606]"
     ]
    },
    {
     "name": "stderr",
     "output_type": "stream",
     "text": [
      "C:\\Users\\ASUS\\anaconda3\\lib\\site-packages\\sklearn\\linear_model\\_sag.py:350: ConvergenceWarning: The max_iter was reached which means the coef_ did not converge\n",
      "  warnings.warn(\n",
      "\n"
     ]
    },
    {
     "name": "stdout",
     "output_type": "stream",
     "text": [
      " 60%|████████████████████████████▏                  | 12/20 [02:20<01:14,  9.31s/trial, best loss: -0.7772004929471606]"
     ]
    },
    {
     "name": "stderr",
     "output_type": "stream",
     "text": [
      "C:\\Users\\ASUS\\anaconda3\\lib\\site-packages\\sklearn\\linear_model\\_sag.py:350: ConvergenceWarning: The max_iter was reached which means the coef_ did not converge\n",
      "  warnings.warn(\n",
      "\n"
     ]
    },
    {
     "name": "stdout",
     "output_type": "stream",
     "text": [
      " 80%|█████████████████████████████████████▌         | 16/20 [02:43<00:27,  6.99s/trial, best loss: -0.7773040943091213]"
     ]
    },
    {
     "name": "stderr",
     "output_type": "stream",
     "text": [
      "C:\\Users\\ASUS\\anaconda3\\lib\\site-packages\\sklearn\\linear_model\\_sag.py:350: ConvergenceWarning: The max_iter was reached which means the coef_ did not converge\n",
      "  warnings.warn(\n",
      "\n"
     ]
    },
    {
     "name": "stdout",
     "output_type": "stream",
     "text": [
      " 90%|██████████████████████████████████████████▎    | 18/20 [02:58<00:14,  7.34s/trial, best loss: -0.7773040943091213]"
     ]
    },
    {
     "name": "stderr",
     "output_type": "stream",
     "text": [
      "C:\\Users\\ASUS\\anaconda3\\lib\\site-packages\\sklearn\\linear_model\\_sag.py:350: ConvergenceWarning: The max_iter was reached which means the coef_ did not converge\n",
      "  warnings.warn(\n",
      "\n"
     ]
    },
    {
     "name": "stdout",
     "output_type": "stream",
     "text": [
      "100%|███████████████████████████████████████████████| 20/20 [03:16<00:00,  9.81s/trial, best loss: -0.7773040943091213]\n",
      "Наилучшие значения гиперпараметров {'C': 0.1694465206213903, 'max_iter': 0, 'penalty': 1, 'solver': 1}\n",
      "CPU times: total: 1min 26s\n",
      "Wall time: 3min 16s\n"
     ]
    }
   ],
   "source": [
    "%%time\n",
    "# начинаем подбор гиперпараметров\n",
    "trials = Trials() # используется для логирования результатов\n",
    "\n",
    "best=fmin(hyperopt_logr, # наша функция \n",
    "          space=space, # пространство гиперпараметров\n",
    "          algo=tpe.suggest, # алгоритм оптимизации, установлен по умолчанию, задавать необязательно\n",
    "          max_evals=20, # максимальное количество итераций\n",
    "          trials=trials, # логирование результатов\n",
    "          # rstate = np.random.default_rng(42) # для версии 0.2.7\n",
    "          rstate=np.random.RandomState(42) # (random_state)# фиксируем для повторяемости результата\n",
    "         )\n",
    "print(\"Наилучшие значения гиперпараметров {}\".format(best))"
   ]
  },
  {
   "cell_type": "markdown",
   "id": "5ed727ca",
   "metadata": {},
   "source": [
    "Поскольку данная версия hyperopt в качестве индексов массива выдает для логистической регрессии только индексы массива, то воспользуемся space_eval, чтобы обращаться к элементам массива напрямую"
   ]
  },
  {
   "cell_type": "code",
   "execution_count": 71,
   "id": "310ffeb9",
   "metadata": {},
   "outputs": [
    {
     "data": {
      "text/plain": [
       "{'C': 0.1694465206213903, 'max_iter': 50, 'penalty': 'l2', 'solver': 'saga'}"
      ]
     },
     "execution_count": 71,
     "metadata": {},
     "output_type": "execute_result"
    }
   ],
   "source": [
    "from hyperopt import space_eval\n",
    "hyperparams = space_eval(space, best)\n",
    "hyperparams"
   ]
  },
  {
   "cell_type": "code",
   "execution_count": 72,
   "id": "51cba0aa",
   "metadata": {},
   "outputs": [
    {
     "name": "stdout",
     "output_type": "stream",
     "text": [
      "f1_score на тестовом наборе: 0.87\n"
     ]
    },
    {
     "name": "stderr",
     "output_type": "stream",
     "text": [
      "C:\\Users\\ASUS\\anaconda3\\lib\\site-packages\\sklearn\\linear_model\\_sag.py:350: ConvergenceWarning: The max_iter was reached which means the coef_ did not converge\n",
      "  warnings.warn(\n"
     ]
    }
   ],
   "source": [
    "# рассчитаем точность для тестовой выборки\n",
    "model_HO = linear_model.LogisticRegression(\n",
    "    random_state=random_state,\n",
    "    penalty = hyperparams['penalty'],\n",
    "    solver = hyperparams['solver'],\n",
    "    C = hyperparams['C'],\n",
    "    max_iter = hyperparams['max_iter']\n",
    "    )\n",
    "model_HO.fit(X, y)\n",
    "\n",
    "y_test_pred = model_HO.predict(X_test)\n",
    "print('f1_score на тестовом наборе: {:.2f}'.format(metrics.f1_score(y_test, y_test_pred)))"
   ]
  },
  {
   "cell_type": "markdown",
   "id": "a0c3ecee",
   "metadata": {},
   "source": [
    "### Случайный лес, метод HyperOpt"
   ]
  },
  {
   "cell_type": "code",
   "execution_count": 128,
   "id": "c8c0e2b4",
   "metadata": {},
   "outputs": [],
   "source": [
    "# зададим пространство поиска гиперпараметров\n",
    "space={'n_estimators': hp.quniform('n_estimators', 80, 200, 20),\n",
    "       'max_depth' : hp.quniform('max_depth', 1, 30, 1),\n",
    "       'min_samples_leaf': hp.quniform('min_samples_leaf', 5, 25, 1)\n",
    "      }"
   ]
  },
  {
   "cell_type": "code",
   "execution_count": 129,
   "id": "25633cd8",
   "metadata": {},
   "outputs": [],
   "source": [
    "def hyperopt_rf(params, cv=5, X=X_train, y=y_train, random_state=random_state):\n",
    "    \n",
    "    params = {'n_estimators': int(params['n_estimators']), \n",
    "              'max_depth': int(params['max_depth']), \n",
    "             'min_samples_leaf': int(params['min_samples_leaf'])\n",
    "    }\n",
    "    # используем эту комбинацию для построения модели   \n",
    "    model_HO_RF = ensemble.RandomForestClassifier(**params, random_state=random_state)\n",
    "\n",
    "    # обучаем модель\n",
    "    model_HO_RF.fit(X, y)\n",
    "    score = cross_val_score(model_HO_RF, X, y, cv=cv, scoring=\"f1\", n_jobs=-1).mean()\n",
    "    # score = metrics.f1_score(y, model_HO_RF.predict(X))\n",
    "    return -score  "
   ]
  },
  {
   "cell_type": "code",
   "execution_count": 130,
   "id": "a5548f97",
   "metadata": {},
   "outputs": [
    {
     "name": "stdout",
     "output_type": "stream",
     "text": [
      "100%|███████████████████████████████████████████████| 20/20 [01:08<00:00,  3.41s/trial, best loss: -0.8006240707439053]\n",
      "Наилучшие значения гиперпараметров {'max_depth': 26.0, 'min_samples_leaf': 5.0, 'n_estimators': 140.0}\n",
      "CPU times: total: 28.6 s\n",
      "Wall time: 1min 8s\n"
     ]
    }
   ],
   "source": [
    "%%time\n",
    "# начинаем подбор гиперпараметров\n",
    "trials = Trials() # используется для логирования результатов\n",
    "\n",
    "best=fmin(hyperopt_rf, # наша функция \n",
    "          space=space, # пространство гиперпараметров\n",
    "          algo=tpe.suggest, # алгоритм оптимизации, установлен по умолчанию, задавать необязательно\n",
    "          max_evals=20, # максимальное количество итераций\n",
    "          trials=trials, # логирование результатов\n",
    "          # rstate = np.random.default_rng(42) # для версии 0.2.7\n",
    "          rstate=np.random.RandomState(42) # (random_state)# для версии 0.2.5, фиксируем для повторяемости результата\n",
    "         )\n",
    "print(\"Наилучшие значения гиперпараметров {}\".format(best))"
   ]
  },
  {
   "cell_type": "code",
   "execution_count": 131,
   "id": "957cc153",
   "metadata": {},
   "outputs": [
    {
     "name": "stdout",
     "output_type": "stream",
     "text": [
      "f1_score на тестовом наборе: 0.95\n"
     ]
    }
   ],
   "source": [
    "# рассчитаем точность для тестовой выборки\n",
    "model_HO_RF = ensemble.RandomForestClassifier(\n",
    "    random_state=random_state, \n",
    "    n_estimators=int(best['n_estimators']),\n",
    "    max_depth=int(best['max_depth']),\n",
    "    min_samples_leaf=int(best['min_samples_leaf'])\n",
    ")\n",
    "\n",
    "model_HO_RF.fit(X, y)\n",
    "\n",
    "y_test_pred = model_HO_RF.predict(X_test)\n",
    "print('f1_score на тестовом наборе: {:.2f}'.format(metrics.f1_score(y_test, y_test_pred)))"
   ]
  },
  {
   "cell_type": "markdown",
   "id": "b62983d4",
   "metadata": {},
   "source": [
    "# Метод Optuna"
   ]
  },
  {
   "cell_type": "code",
   "execution_count": 5,
   "id": "5f460298",
   "metadata": {},
   "outputs": [
    {
     "name": "stdout",
     "output_type": "stream",
     "text": [
      "Версия Optuna: 3.0.2\n"
     ]
    }
   ],
   "source": [
    "print(\"Версия Optuna: {}\".format(optuna.__version__))"
   ]
  },
  {
   "cell_type": "markdown",
   "id": "c3e8de5f",
   "metadata": {},
   "source": [
    "### Логистическая регрессия, метод Optuna "
   ]
  },
  {
   "cell_type": "code",
   "execution_count": 98,
   "id": "ed975edf",
   "metadata": {},
   "outputs": [],
   "source": [
    "random_state=42\n",
    "def optuna_lr(trial):\n",
    "    penalty = trial.suggest_categorical('penalty', ['l1', 'l2'])\n",
    "    solver = trial.suggest_categorical('solver', ['liblinear', 'saga'])\n",
    "    C = trial.suggest_float(name='C', low=0.01, high=1.01, step = 0.05)\n",
    "   \n",
    "    ## Создаем модель\n",
    "    model_Op_LR = LogisticRegression(\n",
    "                                    penalty=penalty,\n",
    "                                    solver=solver,\n",
    "                                    C=C,\n",
    "                                    random_state=random_state\n",
    "                              )\n",
    "    ## Обучаем модель\n",
    "    model_Op_LR.fit(X_train, y_train)\n",
    "    score = cross_val_score(model_Op_LR, X_train, y_train, cv=5, scoring=\"f1\", n_jobs=-1).mean()\n",
    "    \n",
    "    return score"
   ]
  },
  {
   "cell_type": "code",
   "execution_count": 99,
   "id": "d09dfcf5",
   "metadata": {},
   "outputs": [
    {
     "name": "stderr",
     "output_type": "stream",
     "text": [
      "\u001b[32m[I 2022-10-08 16:18:19,963]\u001b[0m A new study created in memory with name: LogisticRegression\u001b[0m\n",
      "C:\\Users\\ASUS\\anaconda3\\lib\\site-packages\\sklearn\\linear_model\\_sag.py:350: ConvergenceWarning: The max_iter was reached which means the coef_ did not converge\n",
      "  warnings.warn(\n",
      "\u001b[32m[I 2022-10-08 16:18:29,664]\u001b[0m Trial 0 finished with value: 0.7652400393220528 and parameters: {'penalty': 'l2', 'solver': 'saga', 'C': 0.51}. Best is trial 0 with value: 0.7652400393220528.\u001b[0m\n",
      "\u001b[32m[I 2022-10-08 16:18:31,616]\u001b[0m Trial 1 finished with value: 0.7642270161739722 and parameters: {'penalty': 'l2', 'solver': 'liblinear', 'C': 0.46}. Best is trial 0 with value: 0.7652400393220528.\u001b[0m\n",
      "\u001b[32m[I 2022-10-08 16:18:32,649]\u001b[0m Trial 2 finished with value: 0.7682614041849851 and parameters: {'penalty': 'l2', 'solver': 'liblinear', 'C': 0.01}. Best is trial 2 with value: 0.7682614041849851.\u001b[0m\n",
      "\u001b[32m[I 2022-10-08 16:18:33,388]\u001b[0m Trial 3 finished with value: 0.74701333922839 and parameters: {'penalty': 'l1', 'solver': 'liblinear', 'C': 0.01}. Best is trial 2 with value: 0.7682614041849851.\u001b[0m\n",
      "\u001b[32m[I 2022-10-08 16:18:35,575]\u001b[0m Trial 4 finished with value: 0.7592475923403743 and parameters: {'penalty': 'l2', 'solver': 'liblinear', 'C': 0.91}. Best is trial 2 with value: 0.7682614041849851.\u001b[0m\n",
      "\u001b[32m[I 2022-10-08 16:18:38,271]\u001b[0m Trial 5 finished with value: 0.772437858870374 and parameters: {'penalty': 'l1', 'solver': 'liblinear', 'C': 0.9600000000000001}. Best is trial 5 with value: 0.772437858870374.\u001b[0m\n",
      "\u001b[32m[I 2022-10-08 16:18:40,164]\u001b[0m Trial 6 finished with value: 0.7625061997233952 and parameters: {'penalty': 'l2', 'solver': 'liblinear', 'C': 0.56}. Best is trial 5 with value: 0.772437858870374.\u001b[0m\n",
      "C:\\Users\\ASUS\\anaconda3\\lib\\site-packages\\sklearn\\linear_model\\_sag.py:350: ConvergenceWarning: The max_iter was reached which means the coef_ did not converge\n",
      "  warnings.warn(\n",
      "\u001b[32m[I 2022-10-08 16:18:53,944]\u001b[0m Trial 7 finished with value: 0.7752834722812747 and parameters: {'penalty': 'l1', 'solver': 'saga', 'C': 0.26}. Best is trial 7 with value: 0.7752834722812747.\u001b[0m\n",
      "\u001b[32m[I 2022-10-08 16:18:55,818]\u001b[0m Trial 8 finished with value: 0.7625061997233952 and parameters: {'penalty': 'l2', 'solver': 'liblinear', 'C': 0.56}. Best is trial 7 with value: 0.7752834722812747.\u001b[0m\n",
      "\u001b[32m[I 2022-10-08 16:18:57,145]\u001b[0m Trial 9 finished with value: 0.7754745853055905 and parameters: {'penalty': 'l1', 'solver': 'liblinear', 'C': 0.26}. Best is trial 9 with value: 0.7754745853055905.\u001b[0m\n",
      "C:\\Users\\ASUS\\anaconda3\\lib\\site-packages\\sklearn\\linear_model\\_sag.py:350: ConvergenceWarning: The max_iter was reached which means the coef_ did not converge\n",
      "  warnings.warn(\n",
      "\u001b[32m[I 2022-10-08 16:19:10,957]\u001b[0m Trial 10 finished with value: 0.7752834722812747 and parameters: {'penalty': 'l1', 'solver': 'saga', 'C': 0.26}. Best is trial 9 with value: 0.7754745853055905.\u001b[0m\n",
      "C:\\Users\\ASUS\\anaconda3\\lib\\site-packages\\sklearn\\linear_model\\_sag.py:350: ConvergenceWarning: The max_iter was reached which means the coef_ did not converge\n",
      "  warnings.warn(\n",
      "\u001b[32m[I 2022-10-08 16:19:24,914]\u001b[0m Trial 11 finished with value: 0.7752834722812747 and parameters: {'penalty': 'l1', 'solver': 'saga', 'C': 0.26}. Best is trial 9 with value: 0.7754745853055905.\u001b[0m\n",
      "C:\\Users\\ASUS\\anaconda3\\lib\\site-packages\\sklearn\\linear_model\\_sag.py:350: ConvergenceWarning: The max_iter was reached which means the coef_ did not converge\n",
      "  warnings.warn(\n",
      "\u001b[32m[I 2022-10-08 16:19:38,920]\u001b[0m Trial 12 finished with value: 0.7752834722812747 and parameters: {'penalty': 'l1', 'solver': 'saga', 'C': 0.26}. Best is trial 9 with value: 0.7754745853055905.\u001b[0m\n",
      "C:\\Users\\ASUS\\anaconda3\\lib\\site-packages\\sklearn\\linear_model\\_sag.py:350: ConvergenceWarning: The max_iter was reached which means the coef_ did not converge\n",
      "  warnings.warn(\n",
      "\u001b[32m[I 2022-10-08 16:19:52,361]\u001b[0m Trial 13 finished with value: 0.7774420512902167 and parameters: {'penalty': 'l1', 'solver': 'saga', 'C': 0.16000000000000003}. Best is trial 13 with value: 0.7774420512902167.\u001b[0m\n",
      "C:\\Users\\ASUS\\anaconda3\\lib\\site-packages\\sklearn\\linear_model\\_sag.py:350: ConvergenceWarning: The max_iter was reached which means the coef_ did not converge\n",
      "  warnings.warn(\n",
      "\u001b[32m[I 2022-10-08 16:20:05,904]\u001b[0m Trial 14 finished with value: 0.7743965200263728 and parameters: {'penalty': 'l1', 'solver': 'saga', 'C': 0.11}. Best is trial 13 with value: 0.7774420512902167.\u001b[0m\n",
      "C:\\Users\\ASUS\\anaconda3\\lib\\site-packages\\sklearn\\linear_model\\_sag.py:350: ConvergenceWarning: The max_iter was reached which means the coef_ did not converge\n",
      "  warnings.warn(\n",
      "\u001b[32m[I 2022-10-08 16:20:21,735]\u001b[0m Trial 15 finished with value: 0.7747811368147921 and parameters: {'penalty': 'l1', 'solver': 'saga', 'C': 0.76}. Best is trial 13 with value: 0.7774420512902167.\u001b[0m\n",
      "\u001b[32m[I 2022-10-08 16:20:23,186]\u001b[0m Trial 16 finished with value: 0.7774671619382254 and parameters: {'penalty': 'l1', 'solver': 'liblinear', 'C': 0.41000000000000003}. Best is trial 16 with value: 0.7774671619382254.\u001b[0m\n",
      "C:\\Users\\ASUS\\anaconda3\\lib\\site-packages\\sklearn\\linear_model\\_sag.py:350: ConvergenceWarning: The max_iter was reached which means the coef_ did not converge\n",
      "  warnings.warn(\n",
      "\u001b[32m[I 2022-10-08 16:20:38,959]\u001b[0m Trial 17 finished with value: 0.7750135677575039 and parameters: {'penalty': 'l1', 'solver': 'saga', 'C': 0.7100000000000001}. Best is trial 16 with value: 0.7774671619382254.\u001b[0m\n",
      "\u001b[32m[I 2022-10-08 16:20:40,374]\u001b[0m Trial 18 finished with value: 0.7774671619382254 and parameters: {'penalty': 'l1', 'solver': 'liblinear', 'C': 0.41000000000000003}. Best is trial 16 with value: 0.7774671619382254.\u001b[0m\n",
      "\u001b[32m[I 2022-10-08 16:20:41,725]\u001b[0m Trial 19 finished with value: 0.7774671619382254 and parameters: {'penalty': 'l1', 'solver': 'liblinear', 'C': 0.41000000000000003}. Best is trial 16 with value: 0.7774671619382254.\u001b[0m\n"
     ]
    },
    {
     "name": "stdout",
     "output_type": "stream",
     "text": [
      "CPU times: total: 1min 1s\n",
      "Wall time: 2min 21s\n"
     ]
    }
   ],
   "source": [
    "%%time\n",
    "study = optuna.create_study(study_name=\"LogisticRegression\", direction=\"maximize\")\n",
    "study.optimize(optuna_lr, n_trials=20)"
   ]
  },
  {
   "cell_type": "code",
   "execution_count": 100,
   "id": "1aa6a37a",
   "metadata": {},
   "outputs": [
    {
     "name": "stdout",
     "output_type": "stream",
     "text": [
      "Наилучшие значения гиперпараметров {'penalty': 'l1', 'solver': 'liblinear', 'C': 0.41000000000000003}\n"
     ]
    }
   ],
   "source": [
    "# выводим наилучшие значения гиперпараметров\n",
    "print(\"Наилучшие значения гиперпараметров {}\".format(study.best_params))"
   ]
  },
  {
   "cell_type": "code",
   "execution_count": 101,
   "id": "86f01694",
   "metadata": {},
   "outputs": [
    {
     "name": "stdout",
     "output_type": "stream",
     "text": [
      "f1_score на тестовом наборе: 0.79\n"
     ]
    }
   ],
   "source": [
    "model_Op_LR = LogisticRegression(**study.best_params, random_state=random_state,)\n",
    "\n",
    "model_Op_LR.fit(X_train, y_train)\n",
    "\n",
    "y_test_pred = model_Op_LR.predict(X_test)\n",
    "print('f1_score на тестовом наборе: {:.2f}'.format(metrics.f1_score(y_test, y_test_pred)))"
   ]
  },
  {
   "cell_type": "markdown",
   "id": "0f7d648a",
   "metadata": {},
   "source": [
    "### Случайный лес, метод Optuna"
   ]
  },
  {
   "cell_type": "code",
   "execution_count": 6,
   "id": "71536c92",
   "metadata": {},
   "outputs": [],
   "source": [
    "random_state = 42\n",
    "def optuna_rf(trial):\n",
    "  # задаем пространства поиска гиперпараметров\n",
    "  n_estimators = trial.suggest_int('n_estimators', 100, 400, 1)  #100, 200, 1\n",
    "  max_depth = trial.suggest_int('max_depth', 5, 30, 1)     # 10, 30, 1\n",
    "  min_samples_leaf = trial.suggest_int('min_samples_leaf', 2, 12, 1)\n",
    "\n",
    "  # создаем модель\n",
    "  model_Op_rf = ensemble.RandomForestClassifier(n_estimators=n_estimators,\n",
    "                                          max_depth=max_depth,\n",
    "                                          min_samples_leaf=min_samples_leaf,\n",
    "                                          random_state=random_state)\n",
    "  # обучаем модель\n",
    "  model_Op_rf.fit(X_train, y_train)\n",
    "  score = cross_val_score(model_Op_rf, X_train, y_train, cv = 5, scoring = 'f1', n_jobs= -1).mean()\n",
    "    \n",
    "  return score"
   ]
  },
  {
   "cell_type": "code",
   "execution_count": 10,
   "id": "9217d094",
   "metadata": {},
   "outputs": [
    {
     "name": "stderr",
     "output_type": "stream",
     "text": [
      "\u001b[32m[I 2022-10-15 18:11:18,999]\u001b[0m A new study created in memory with name: RandomForestClassifier\u001b[0m\n",
      "\u001b[32m[I 2022-10-15 18:11:26,531]\u001b[0m Trial 0 finished with value: 0.7969494519959952 and parameters: {'n_estimators': 138, 'max_depth': 27, 'min_samples_leaf': 8}. Best is trial 0 with value: 0.7969494519959952.\u001b[0m\n",
      "\u001b[32m[I 2022-10-15 18:11:37,032]\u001b[0m Trial 1 finished with value: 0.7965911367526675 and parameters: {'n_estimators': 376, 'max_depth': 20, 'min_samples_leaf': 9}. Best is trial 0 with value: 0.7969494519959952.\u001b[0m\n",
      "\u001b[32m[I 2022-10-15 18:11:47,480]\u001b[0m Trial 2 finished with value: 0.7948452397552549 and parameters: {'n_estimators': 397, 'max_depth': 21, 'min_samples_leaf': 7}. Best is trial 0 with value: 0.7969494519959952.\u001b[0m\n",
      "\u001b[32m[I 2022-10-15 18:11:57,362]\u001b[0m Trial 3 finished with value: 0.8051868571215997 and parameters: {'n_estimators': 359, 'max_depth': 12, 'min_samples_leaf': 3}. Best is trial 3 with value: 0.8051868571215997.\u001b[0m\n",
      "\u001b[32m[I 2022-10-15 18:12:02,546]\u001b[0m Trial 4 finished with value: 0.7861555518725513 and parameters: {'n_estimators': 202, 'max_depth': 23, 'min_samples_leaf': 10}. Best is trial 3 with value: 0.8051868571215997.\u001b[0m\n",
      "\u001b[32m[I 2022-10-15 18:12:12,055]\u001b[0m Trial 5 finished with value: 0.7963828764006813 and parameters: {'n_estimators': 371, 'max_depth': 25, 'min_samples_leaf': 8}. Best is trial 3 with value: 0.8051868571215997.\u001b[0m\n",
      "\u001b[32m[I 2022-10-15 18:12:17,815]\u001b[0m Trial 6 finished with value: 0.7705893879805151 and parameters: {'n_estimators': 319, 'max_depth': 7, 'min_samples_leaf': 12}. Best is trial 3 with value: 0.8051868571215997.\u001b[0m\n",
      "\u001b[32m[I 2022-10-15 18:12:23,222]\u001b[0m Trial 7 finished with value: 0.8030692599862407 and parameters: {'n_estimators': 172, 'max_depth': 16, 'min_samples_leaf': 4}. Best is trial 3 with value: 0.8051868571215997.\u001b[0m\n",
      "\u001b[32m[I 2022-10-15 18:12:31,493]\u001b[0m Trial 8 finished with value: 0.7982611728101572 and parameters: {'n_estimators': 325, 'max_depth': 10, 'min_samples_leaf': 2}. Best is trial 3 with value: 0.8051868571215997.\u001b[0m\n",
      "\u001b[32m[I 2022-10-15 18:12:42,230]\u001b[0m Trial 9 finished with value: 0.8018764697713154 and parameters: {'n_estimators': 393, 'max_depth': 13, 'min_samples_leaf': 5}. Best is trial 3 with value: 0.8051868571215997.\u001b[0m\n",
      "\u001b[32m[I 2022-10-15 18:12:46,142]\u001b[0m Trial 10 finished with value: 0.7533110979532105 and parameters: {'n_estimators': 257, 'max_depth': 5, 'min_samples_leaf': 2}. Best is trial 3 with value: 0.8051868571215997.\u001b[0m\n",
      "\u001b[32m[I 2022-10-15 18:12:50,334]\u001b[0m Trial 11 finished with value: 0.8007296214644255 and parameters: {'n_estimators': 128, 'max_depth': 16, 'min_samples_leaf': 4}. Best is trial 3 with value: 0.8051868571215997.\u001b[0m\n",
      "\u001b[32m[I 2022-10-15 18:12:55,877]\u001b[0m Trial 12 finished with value: 0.8000744930783327 and parameters: {'n_estimators': 189, 'max_depth': 15, 'min_samples_leaf': 5}. Best is trial 3 with value: 0.8051868571215997.\u001b[0m\n",
      "\u001b[32m[I 2022-10-15 18:13:02,800]\u001b[0m Trial 13 finished with value: 0.8021615147631609 and parameters: {'n_estimators': 243, 'max_depth': 12, 'min_samples_leaf': 4}. Best is trial 3 with value: 0.8051868571215997.\u001b[0m\n",
      "\u001b[32m[I 2022-10-15 18:13:08,785]\u001b[0m Trial 14 finished with value: 0.8015341521476271 and parameters: {'n_estimators': 180, 'max_depth': 18, 'min_samples_leaf': 3}. Best is trial 3 with value: 0.8051868571215997.\u001b[0m\n",
      "\u001b[32m[I 2022-10-15 18:13:11,673]\u001b[0m Trial 15 finished with value: 0.789507538631732 and parameters: {'n_estimators': 101, 'max_depth': 10, 'min_samples_leaf': 6}. Best is trial 3 with value: 0.8051868571215997.\u001b[0m\n",
      "\u001b[32m[I 2022-10-15 18:13:20,644]\u001b[0m Trial 16 finished with value: 0.8043434286508596 and parameters: {'n_estimators': 281, 'max_depth': 30, 'min_samples_leaf': 3}. Best is trial 3 with value: 0.8051868571215997.\u001b[0m\n",
      "\u001b[32m[I 2022-10-15 18:13:31,319]\u001b[0m Trial 17 finished with value: 0.8098607718403985 and parameters: {'n_estimators': 318, 'max_depth': 29, 'min_samples_leaf': 2}. Best is trial 17 with value: 0.8098607718403985.\u001b[0m\n",
      "\u001b[32m[I 2022-10-15 18:13:42,414]\u001b[0m Trial 18 finished with value: 0.8122369057557286 and parameters: {'n_estimators': 332, 'max_depth': 30, 'min_samples_leaf': 2}. Best is trial 18 with value: 0.8122369057557286.\u001b[0m\n",
      "\u001b[32m[I 2022-10-15 18:13:53,173]\u001b[0m Trial 19 finished with value: 0.8089855088457286 and parameters: {'n_estimators': 318, 'max_depth': 30, 'min_samples_leaf': 2}. Best is trial 18 with value: 0.8122369057557286.\u001b[0m\n",
      "\u001b[32m[I 2022-10-15 18:14:01,316]\u001b[0m Trial 20 finished with value: 0.7990033668703115 and parameters: {'n_estimators': 292, 'max_depth': 27, 'min_samples_leaf': 6}. Best is trial 18 with value: 0.8122369057557286.\u001b[0m\n",
      "\u001b[32m[I 2022-10-15 18:14:12,660]\u001b[0m Trial 21 finished with value: 0.8125296713388959 and parameters: {'n_estimators': 335, 'max_depth': 30, 'min_samples_leaf': 2}. Best is trial 21 with value: 0.8125296713388959.\u001b[0m\n",
      "\u001b[32m[I 2022-10-15 18:14:24,094]\u001b[0m Trial 22 finished with value: 0.8104075390381753 and parameters: {'n_estimators': 343, 'max_depth': 28, 'min_samples_leaf': 2}. Best is trial 21 with value: 0.8125296713388959.\u001b[0m\n",
      "\u001b[32m[I 2022-10-15 18:14:35,018]\u001b[0m Trial 23 finished with value: 0.8068647329754128 and parameters: {'n_estimators': 344, 'max_depth': 27, 'min_samples_leaf': 3}. Best is trial 21 with value: 0.8125296713388959.\u001b[0m\n",
      "\u001b[32m[I 2022-10-15 18:14:43,625]\u001b[0m Trial 24 finished with value: 0.7993318167296026 and parameters: {'n_estimators': 289, 'max_depth': 24, 'min_samples_leaf': 5}. Best is trial 21 with value: 0.8125296713388959.\u001b[0m\n",
      "\u001b[32m[I 2022-10-15 18:14:55,040]\u001b[0m Trial 25 finished with value: 0.8106987585197544 and parameters: {'n_estimators': 341, 'max_depth': 28, 'min_samples_leaf': 2}. Best is trial 21 with value: 0.8125296713388959.\u001b[0m\n",
      "\u001b[32m[I 2022-10-15 18:15:02,913]\u001b[0m Trial 26 finished with value: 0.8044422684984809 and parameters: {'n_estimators': 258, 'max_depth': 25, 'min_samples_leaf': 4}. Best is trial 21 with value: 0.8125296713388959.\u001b[0m\n",
      "\u001b[32m[I 2022-10-15 18:15:10,972]\u001b[0m Trial 27 finished with value: 0.792631994192325 and parameters: {'n_estimators': 345, 'max_depth': 22, 'min_samples_leaf': 12}. Best is trial 21 with value: 0.8125296713388959.\u001b[0m\n",
      "\u001b[32m[I 2022-10-15 18:15:18,043]\u001b[0m Trial 28 finished with value: 0.802289414395374 and parameters: {'n_estimators': 219, 'max_depth': 26, 'min_samples_leaf': 3}. Best is trial 21 with value: 0.8125296713388959.\u001b[0m\n",
      "\u001b[32m[I 2022-10-15 18:15:26,642]\u001b[0m Trial 29 finished with value: 0.8004081580572446 and parameters: {'n_estimators': 304, 'max_depth': 28, 'min_samples_leaf': 6}. Best is trial 21 with value: 0.8125296713388959.\u001b[0m\n",
      "\u001b[32m[I 2022-10-15 18:15:35,890]\u001b[0m Trial 30 finished with value: 0.8075796812332264 and parameters: {'n_estimators': 272, 'max_depth': 30, 'min_samples_leaf': 2}. Best is trial 21 with value: 0.8125296713388959.\u001b[0m\n",
      "\u001b[32m[I 2022-10-15 18:15:47,488]\u001b[0m Trial 31 finished with value: 0.8107023175780561 and parameters: {'n_estimators': 345, 'max_depth': 28, 'min_samples_leaf': 2}. Best is trial 21 with value: 0.8125296713388959.\u001b[0m\n",
      "\u001b[32m[I 2022-10-15 18:15:59,476]\u001b[0m Trial 32 finished with value: 0.8074685487340817 and parameters: {'n_estimators': 368, 'max_depth': 28, 'min_samples_leaf': 3}. Best is trial 21 with value: 0.8125296713388959.\u001b[0m\n",
      "\u001b[32m[I 2022-10-15 18:16:12,394]\u001b[0m Trial 33 finished with value: 0.809756056824775 and parameters: {'n_estimators': 390, 'max_depth': 20, 'min_samples_leaf': 2}. Best is trial 21 with value: 0.8125296713388959.\u001b[0m\n",
      "\u001b[32m[I 2022-10-15 18:16:23,681]\u001b[0m Trial 34 finished with value: 0.8064971511935418 and parameters: {'n_estimators': 354, 'max_depth': 25, 'min_samples_leaf': 3}. Best is trial 21 with value: 0.8125296713388959.\u001b[0m\n",
      "\u001b[32m[I 2022-10-15 18:16:31,158]\u001b[0m Trial 35 finished with value: 0.7880477758489903 and parameters: {'n_estimators': 304, 'max_depth': 29, 'min_samples_leaf': 10}. Best is trial 21 with value: 0.8125296713388959.\u001b[0m\n",
      "\u001b[32m[I 2022-10-15 18:16:42,614]\u001b[0m Trial 36 finished with value: 0.8076705843337137 and parameters: {'n_estimators': 382, 'max_depth': 23, 'min_samples_leaf': 4}. Best is trial 21 with value: 0.8125296713388959.\u001b[0m\n",
      "\u001b[32m[I 2022-10-15 18:16:51,540]\u001b[0m Trial 37 finished with value: 0.7942285303098446 and parameters: {'n_estimators': 340, 'max_depth': 26, 'min_samples_leaf': 7}. Best is trial 21 with value: 0.8125296713388959.\u001b[0m\n"
     ]
    },
    {
     "name": "stderr",
     "output_type": "stream",
     "text": [
      "\u001b[32m[I 2022-10-15 18:17:02,969]\u001b[0m Trial 38 finished with value: 0.8060674705411547 and parameters: {'n_estimators': 365, 'max_depth': 29, 'min_samples_leaf': 3}. Best is trial 21 with value: 0.8125296713388959.\u001b[0m\n",
      "\u001b[32m[I 2022-10-15 18:17:11,013]\u001b[0m Trial 39 finished with value: 0.7886982231538716 and parameters: {'n_estimators': 329, 'max_depth': 26, 'min_samples_leaf': 10}. Best is trial 21 with value: 0.8125296713388959.\u001b[0m\n",
      "\u001b[32m[I 2022-10-15 18:17:18,674]\u001b[0m Trial 40 finished with value: 0.7951539935868285 and parameters: {'n_estimators': 301, 'max_depth': 21, 'min_samples_leaf': 8}. Best is trial 21 with value: 0.8125296713388959.\u001b[0m\n",
      "\u001b[32m[I 2022-10-15 18:17:30,439]\u001b[0m Trial 41 finished with value: 0.810847641628037 and parameters: {'n_estimators': 351, 'max_depth': 28, 'min_samples_leaf': 2}. Best is trial 21 with value: 0.8125296713388959.\u001b[0m\n",
      "\u001b[32m[I 2022-10-15 18:17:41,604]\u001b[0m Trial 42 finished with value: 0.8109449144248797 and parameters: {'n_estimators': 330, 'max_depth': 28, 'min_samples_leaf': 2}. Best is trial 21 with value: 0.8125296713388959.\u001b[0m\n",
      "\u001b[32m[I 2022-10-15 18:17:54,887]\u001b[0m Trial 43 finished with value: 0.806989108191608 and parameters: {'n_estimators': 399, 'max_depth': 30, 'min_samples_leaf': 2}. Best is trial 21 with value: 0.8125296713388959.\u001b[0m\n",
      "\u001b[32m[I 2022-10-15 18:18:06,813]\u001b[0m Trial 44 finished with value: 0.8056235581196545 and parameters: {'n_estimators': 378, 'max_depth': 24, 'min_samples_leaf': 3}. Best is trial 21 with value: 0.8125296713388959.\u001b[0m\n",
      "\u001b[32m[I 2022-10-15 18:18:18,751]\u001b[0m Trial 45 finished with value: 0.8095601136179784 and parameters: {'n_estimators': 361, 'max_depth': 27, 'min_samples_leaf': 2}. Best is trial 21 with value: 0.8125296713388959.\u001b[0m\n",
      "\u001b[32m[I 2022-10-15 18:18:28,508]\u001b[0m Trial 46 finished with value: 0.8059990197065667 and parameters: {'n_estimators': 326, 'max_depth': 29, 'min_samples_leaf': 4}. Best is trial 21 with value: 0.8125296713388959.\u001b[0m\n",
      "\u001b[32m[I 2022-10-15 18:18:40,330]\u001b[0m Trial 47 finished with value: 0.8102764668261242 and parameters: {'n_estimators': 354, 'max_depth': 27, 'min_samples_leaf': 2}. Best is trial 21 with value: 0.8125296713388959.\u001b[0m\n",
      "\u001b[32m[I 2022-10-15 18:18:49,658]\u001b[0m Trial 48 finished with value: 0.8028711666805236 and parameters: {'n_estimators': 312, 'max_depth': 18, 'min_samples_leaf': 4}. Best is trial 21 with value: 0.8125296713388959.\u001b[0m\n",
      "\u001b[32m[I 2022-10-15 18:18:59,348]\u001b[0m Trial 49 finished with value: 0.80229859187189 and parameters: {'n_estimators': 331, 'max_depth': 25, 'min_samples_leaf': 5}. Best is trial 21 with value: 0.8125296713388959.\u001b[0m\n"
     ]
    },
    {
     "name": "stdout",
     "output_type": "stream",
     "text": [
      "CPU times: total: 3min 21s\n",
      "Wall time: 7min 40s\n"
     ]
    }
   ],
   "source": [
    "%%time\n",
    "# cоздаем объект исследования\n",
    "# можем напрямую указать, что нам необходимо максимизировать метрику direction=\"maximize\"\n",
    "study = optuna.create_study(study_name=\"RandomForestClassifier\", direction=\"maximize\")\n",
    "# ищем лучшую комбинацию гиперпараметров n_trials раз\n",
    "study.optimize(optuna_rf, n_trials=50)"
   ]
  },
  {
   "cell_type": "code",
   "execution_count": 11,
   "id": "ceefd1da",
   "metadata": {},
   "outputs": [
    {
     "name": "stdout",
     "output_type": "stream",
     "text": [
      "Наилучшие значения гиперпараметров {'n_estimators': 335, 'max_depth': 30, 'min_samples_leaf': 2}\n"
     ]
    }
   ],
   "source": [
    "# выводим наилучшие значения гиперпараметров\n",
    "print(\"Наилучшие значения гиперпараметров {}\".format(study.best_params))"
   ]
  },
  {
   "cell_type": "code",
   "execution_count": 12,
   "id": "25a318fe",
   "metadata": {},
   "outputs": [
    {
     "name": "stdout",
     "output_type": "stream",
     "text": [
      "f1_score на тестовом наборе: 0.82\n"
     ]
    }
   ],
   "source": [
    "# рассчитаем точность для тестовой выборки\n",
    "model_Op_rf = ensemble.RandomForestClassifier(**study.best_params,random_state=random_state, )\n",
    "model_Op_rf.fit(X_train, y_train)\n",
    "y_test_pred = model_Op_rf.predict(X_test)\n",
    "print('f1_score на тестовом наборе: {:.2f}'.format(metrics.f1_score(y_test, y_test_pred)))"
   ]
  },
  {
   "cell_type": "markdown",
   "id": "e69fc6bc",
   "metadata": {},
   "source": [
    "### Некоторые выводы"
   ]
  },
  {
   "cell_type": "markdown",
   "id": "a2b7b50a",
   "metadata": {},
   "source": [
    "И для случайного леса, и для логистической регрессии наилучший результат показал метод HyperOpt. Возможно, его алгоритмы оптимальны в данном случае, но отсутствие на него нормальной документации меня (думаю, как и многих) останавливает от широкого использования. Та же Optuna имеет более понятный интерфейс и даже более обширный пакет документации, хотя и является более молодым продуктом на рынке"
   ]
  }
 ],
 "metadata": {
  "kernelspec": {
   "display_name": "Python 3 (ipykernel)",
   "language": "python",
   "name": "python3"
  },
  "language_info": {
   "codemirror_mode": {
    "name": "ipython",
    "version": 3
   },
   "file_extension": ".py",
   "mimetype": "text/x-python",
   "name": "python",
   "nbconvert_exporter": "python",
   "pygments_lexer": "ipython3",
   "version": "3.9.12"
  }
 },
 "nbformat": 4,
 "nbformat_minor": 5
}
